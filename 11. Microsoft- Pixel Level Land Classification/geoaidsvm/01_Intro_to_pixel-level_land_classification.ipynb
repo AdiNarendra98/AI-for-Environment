{
 "cells": [
  {
   "cell_type": "markdown",
   "metadata": {},
   "source": [
    "# Pixel-level land use classification\n",
    "\n",
    "The notebooks in this folder contain a tutorial illustrating how to create a deep neural network model that accepts an aerial image as input and returns a land cover label (forested, water, etc.) for every pixel in the image and deploy it in ESRI's [ArcGIS Pro](https://pro.arcgis.com/) software. Microsoft's [Cognitive Toolkit (CNTK)](https://www.microsoft.com/en-us/cognitive-toolkit/) is used to train and evaluate the model on an [Azure Geo AI Data Science Virtual Machine](http://aka.ms/dsvm/GeoAI). The method shown here was developed in collaboration between the [Chesapeake Conservancy](http://chesapeakeconservancy.org/), [ESRI](https://www.esri.com), and [Microsoft Research](https://www.microsoft.com/research/) as part of Microsoft's [AI for Earth](https://www.microsoft.com/en-us/aiforearth) initiative.\n",
    "\n",
    "We recommend budgeting two hours for a full walkthrough of this tutorial. The code, shell commands, trained models, and sample images provided here may prove helpful even if you prefer not to complete the tutorial: we have provided explanations and direct links to these materials where possible."
   ]
  },
  {
   "cell_type": "markdown",
   "metadata": {},
   "source": [
    "## Getting started\n",
    "\n",
    "This notebook is intended for use on an NC-series [Azure Geo AI Data Science VM](http://aka.ms/dsvm/GeoAI). For step-by-step instructions on provisioning the VM, visit [our git repository](https://github.com/Azure/pixel_level_land_classification).\n",
    "\n",
    "1. [Train a land classification model from scratch](./02_Train_a_land_classification_model_from_scratch.ipynb)\n",
    "\n",
    "    In this section, you'll produce a trained CNTK model that you can use anywhere for pixel-level land cover prediction.\n",
    "    \n",
    "1. [Apply your trained model to new aerial images](./03_Apply_trained_model_to_new_data.ipynb)\n",
    "\n",
    "    You'll predict land use on a 1 km x 1 km region not previously seen during training, and examine your results in a full-color output file.\n",
    "    \n",
    "1. [Apply your trained model in ArcGIS Pro](./04_Apply_trained_model_in_ArcGIS_Pro.ipynb)\n",
    "\n",
    "    You'll apply your trained model to aerial data in real-time using ESRI's ArcGIS Pro software."
   ]
  },
  {
   "cell_type": "markdown",
   "metadata": {},
   "source": [
    "## Sample Output\n",
    "\n",
    "This tutorial will train a pixel-level land use classifier for a single epoch: your model will produce results similar to bottom-left. By expanding the training dataset and increasing the number of training epochs, we achieved results like the example at bottom right. The trained model is accurate enough to detect some features, like the small pond at top-center, that were not correctly annotated in the ground-truth labels.\n",
    "\n",
    "<img src=\"https://github.com/Azure/pixel_level_land_classification/raw/master/outputs/comparison_fullsize.PNG\"/>\n",
    "\n",
    "This notebook series will also illustrate how to apply your trained model in real-time as you scroll and zoom through regions in ArcGIS Pro:\n",
    "\n",
    "<img src=\"https://github.com/Azure/pixel_level_land_classification/raw/master/outputs/arcgispro_three_windows.PNG\"/>"
   ]
  },
  {
   "cell_type": "markdown",
   "metadata": {},
   "source": [
    "## (Optional) Setting up an ArcGIS Pro trial membership"
   ]
  },
  {
   "cell_type": "markdown",
   "metadata": {},
   "source": [
    "The Geo AI Data Science VM comes with ESRI's ArcGIS Pro pre-installed, but you will need to supply credentials for an ArcGIS Pro license in order to run the program. You can obtain a 21-day trial license as follows:\n",
    "\n",
    "1. Complete the form on the [ArcGIS Pro free trial](https://www.esri.com/en-us/arcgis/products/arcgis-pro/trial) page.\n",
    "1. You will receive an email from ESRI. Follow the activation URL to continue with registration.\n",
    "1. After selecting account credentials, you will be asked to provide details of your organization. Fill these out as directed and click \"Save and continue.\"\n",
    "1. When prompted to download ArcGIS Pro, click 'Continue with ArcGIS Pro online.\" (The program has already been downloaded and installed on the VM.)\n",
    "1. Click on the \"Manage Licenses\" option on the menu ribbon.\n",
    "1. In the new page that appears, you will find a \"Members\" section with an entry for your new username. Click the \"Configure licenses\" link next to your username.\n",
    "1. Ensure that the ArcGIS Pro radio button is selected, and click the checkbox next to \"Extensions\" to select all extensions. Then, click \"Assign.\"\n",
    "\n",
    "You should now be able to launch ArcGIS Pro with your selected username and password."
   ]
  },
  {
   "cell_type": "markdown",
   "metadata": {},
   "source": [
    "## Next steps\n",
    "\n",
    "We recommend that you begin this tutorial series with the [training notebook](./02_Train_a_land_classification_model_from_scratch.ipynb).\n",
    "\n",
    "In this notebook series, we train and deploy a model on a Geo AI Data Science VM. To improve model accuracy, we recommend training for more epochs on a larger dataset. Please see [our GitHub repository](https://github.com/Azure/pixel_level_land_classification) for more details on scaling up training using Azure Batch AI.\n",
    "\n",
    "When you are done using your Geo AI Data Science VM, we recommend that you stop or delete it to prevent further charges.\n",
    "\n",
    "For comments and suggestions regarding this notebook, please post a [Git issue](https://github.com/Azure/pixel_level_land_classification/issues/new) or submit a pull request in the [pixel-level land classification repository](https://github.com/Azure/pixel_level_land_classification)."
   ]
  }
 ],
 "metadata": {
  "kernelspec": {
   "display_name": "Python [conda env:Anaconda]",
   "language": "python",
   "name": "conda-env-Anaconda-py"
  },
  "language_info": {
   "codemirror_mode": {
    "name": "ipython",
    "version": 3
   },
   "file_extension": ".py",
   "mimetype": "text/x-python",
   "name": "python",
   "nbconvert_exporter": "python",
   "pygments_lexer": "ipython3",
   "version": "3.6.3"
  }
 },
 "nbformat": 4,
 "nbformat_minor": 2
}
