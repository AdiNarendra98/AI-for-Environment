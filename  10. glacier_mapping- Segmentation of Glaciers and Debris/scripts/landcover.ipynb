{
 "cells": [
  {
   "cell_type": "code",
   "execution_count": null,
   "metadata": {},
   "outputs": [],
   "source": [
    "import matplotlib.pyplot as plt\n",
    "import geopandas as gpd\n",
    "from pathlib import Path\n",
    "import ee\n",
    "import folium\n",
    "import geehydro"
   ]
  },
  {
   "cell_type": "markdown",
   "metadata": {},
   "source": [
    "This notebook describes the process of downloading landcover data for downstream use in pretraining our glacier models. The idea is that learning to classify water vs. forest vs. snow might give more task diversity for learning meaningful features in the HKH imagery. First, we can load in a polygon specifying the region from which to download data. This polygon was constructed manually by outlining the full `Glaciers_2005.shp` multipolygon in QGIS."
   ]
  },
  {
   "cell_type": "code",
   "execution_count": null,
   "metadata": {},
   "outputs": [],
   "source": [
    "data_dir = Path(\"/datadrive/glaciers\")\n",
    "glacier_bounds = gpd.read_file(data_dir / \"vector_data/hkh_glaciers.shp\")\n",
    "glacier_bounds.plot()"
   ]
  },
  {
   "cell_type": "markdown",
   "metadata": {},
   "source": [
    "Next, let's extract some data from the `COPERNICUS/Landcover` product. This gives landcover classification at a 100 meter resolution, which can be an auxiliary task for pretraining. The bands correspond to,\n",
    "\n",
    "```\n",
    "bands = [\"discrete_classification\", \"discrete_classification-proba\", \"bare-coverfraction\", \"urban-coverfraction\", \"crops-coverfraction\", \"grass-coverfraction\", \"moss-coverfraction\", \"water-permanent-coverfraction\", \"water-seasonal-coverfraction\", \"shrub-coverfraction\", \"snow-coverfraction\", \"tree-coverfraction\", \"forest_type\", \"data-density-indicator\"]\n",
    "```\n"
   ]
  },
  {
   "cell_type": "code",
   "execution_count": null,
   "metadata": {},
   "outputs": [],
   "source": [
    "ee.Initialize()\n",
    "geom = ee.Geometry.Polygon(glacier_bounds.__geo_interface__[\"features\"][0][\"geometry\"][\"coordinates\"])\n",
    "aoi = ee.ImageCollection(\"COPERNICUS/Landcover/100m/Proba-V-C3/Global\").filterBounds(geom)\n",
    "images = aoi.filterDate('2015-11-01', '2015-12-31').filter(ee.Filter.lt('CLOUDY_PIXEL_PERCENTAGE', 3)).median()"
   ]
  },
  {
   "cell_type": "markdown",
   "metadata": {},
   "source": [
    "Finally, we can build up the task and export the data to google drive."
   ]
  },
  {
   "cell_type": "code",
   "execution_count": null,
   "metadata": {},
   "outputs": [],
   "source": [
    "task_config = {\"region\": geom, \"crs\": \"epsg:4326\", \"scale\": 30, \"maxPixels\": 4932644389}\n",
    "image = ee.Image(aoi.first()).clip(geom)\n",
    "task = ee.batch.Export.image(image, \"landcover\", task_config)\n",
    "task.start()"
   ]
  },
  {
   "cell_type": "code",
   "execution_count": null,
   "metadata": {},
   "outputs": [],
   "source": []
  }
 ],
 "metadata": {
  "kernelspec": {
   "display_name": "glaciers",
   "language": "python",
   "name": "glaciers"
  },
  "language_info": {
   "codemirror_mode": {
    "name": "ipython",
    "version": 3
   },
   "file_extension": ".py",
   "mimetype": "text/x-python",
   "name": "python",
   "nbconvert_exporter": "python",
   "pygments_lexer": "ipython3",
   "version": "3.7.0"
  }
 },
 "nbformat": 4,
 "nbformat_minor": 4
}
