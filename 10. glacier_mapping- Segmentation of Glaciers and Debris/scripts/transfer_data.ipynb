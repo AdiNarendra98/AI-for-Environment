{
 "cells": [
  {
   "cell_type": "markdown",
   "metadata": {},
   "source": [
    "This notebook creates training patches for the landcover transfer learning task. We assume the raw landcover rasters have already been downloaded using the `landcover.ipynb` notebook. The overall process has the form\n",
    "\n",
    "1. Build a VRT from all the landcover tiles\n",
    "\n",
    "2. For each input x (LE7 imagery) tile...\n",
    "\n",
    "  a. Read a window of the y (landcover) VRT with the same lat / long bounds as the x tile\n",
    "  \n",
    "  b. Extract a patch of size 512 x 512 from x, which is the dimension used for model trainig \n",
    "\n",
    "3. For each patch of size 512 x 512 from x ...\n",
    "\n",
    "  a. Determine the corresponding pixel coordinates in y. Not exact alignment, because x and y have different spatial resolutions\n",
    "\n",
    "  b. Linearly interpolate y onto the dimension of x\n",
    "  \n",
    "  c. Write both x and y to file\n",
    "  \n",
    "4. Shuffle those into training, development, and test datasets. These will be preprocessed and then used for training."
   ]
  },
  {
   "cell_type": "code",
   "execution_count": null,
   "metadata": {},
   "outputs": [],
   "source": [
    "import rasterio\n",
    "import numpy as np\n",
    "from pathlib import Path\n",
    "import matplotlib.pyplot as plt\n",
    "from scipy import interpolate\n",
    "from rasterio.windows import from_bounds\n",
    "import pandas as pd\n",
    "%matplotlib inline\n",
    "\n",
    "landcover_dir = Path(\"/datadrive/glaciers/landcover\")"
   ]
  },
  {
   "cell_type": "code",
   "execution_count": null,
   "metadata": {},
   "outputs": [],
   "source": [
    "import subprocess\n",
    "\n",
    "def vrt_from_dir(input_dir, output_path=\"./output.vrt\", **kwargs):\n",
    "    inputs = [f for f in input_dir.glob(\"*.tif*\")]\n",
    "    subprocess.call([\"gdalbuildvrt\", \"-o\", output_path] + inputs)\n",
    "\n",
    "vrt_from_dir(landcover_dir, landcover_dir / \"landcover.vrt\")"
   ]
  },
  {
   "cell_type": "code",
   "execution_count": null,
   "metadata": {},
   "outputs": [],
   "source": [
    "tiles_dir = Path(\"/datadrive/glaciers/unique_tiles/warped\")\n",
    "tilef = rasterio.open(tiles_dir / \"LE07_134040_20070922-warped.tiff\")\n",
    "tile = tilef.read()\n",
    "tile = np.transpose(tile, (1, 2, 0))"
   ]
  },
  {
   "cell_type": "code",
   "execution_count": null,
   "metadata": {},
   "outputs": [],
   "source": [
    "landcover = rasterio.open(landcover_dir / \"landcover.vrt\")\n",
    "landcover_bounds = from_bounds(*tilef.bounds, landcover.transform)\n",
    "y = landcover.read(window = landcover_bounds)\n",
    "y = np.transpose(y, (1, 2, 0))"
   ]
  },
  {
   "cell_type": "code",
   "execution_count": null,
   "metadata": {},
   "outputs": [],
   "source": [
    "def patch_fractions(x_shape, out_size=(512, 512)):\n",
    "    \"\"\"\n",
    "    Cut points for (512, 512) patches\n",
    "    \n",
    "    To get aligned x & y patches, we crop tiles according to the fractions of the\n",
    "    original image dimensions (this is assuming that, even though x and y have\n",
    "    different dimensions, they share the same lat / long bounding boxes). We use this\n",
    "    function to ensure that the fractions we crop at provide 512 x 512 images.\n",
    "    \"\"\"\n",
    "    a = out_size[0] / x_shape[0]\n",
    "    b = out_size[1] / x_shape[1]\n",
    "    a_grid = np.arange(0, 1, a)\n",
    "    b_grid = np.arange(0, 1, b)\n",
    "\n",
    "    fractions = []\n",
    "    for i in range(len(a_grid) - 1):\n",
    "        for j in range(len(b_grid) - 1):\n",
    "            fractions.append((a_grid[i], a_grid[i + 1], b_grid[j], b_grid[j + 1]))\n",
    "    \n",
    "    return fractions\n",
    "\n",
    "\n",
    "def crop_fraction(u, pixel_fraction = [0.4, 0.5, 0.4, 0.5]):\n",
    "    \"\"\"\n",
    "    Crop a W x H x C image\n",
    "    \n",
    "    This crops images according to the pixel fraction boundaries. E.g., if we want\n",
    "    to get the pixels between the 10 and 20% widths and heights of the image, we\n",
    "    would use [0.1, 0.2, 0.1, 0.2] as the pixel fraction argument.\n",
    "    \"\"\"\n",
    "    a, b, c, d = pixel_fraction\n",
    "    ix = [int(a * u.shape[0]), int(b * u.shape[0]), int(c * u.shape[1]), int(d * u.shape[1])]\n",
    "    return u[ix[0]:ix[1], ix[2]:ix[3], :]\n",
    "\n",
    "\n",
    "def resize_mask(x_shape, y):\n",
    "    \"\"\"\n",
    "    Linearly interpolate Y to X shape\n",
    "    \n",
    "    This resizes the Y data to overlap exactly with X. Otherwise, different \n",
    "    resolutions in the mask and input images would cause issues.\n",
    "    \"\"\"\n",
    "    lin_grid = lambda s: [\n",
    "        np.linspace(0, s[1], s[1], endpoint=False),\n",
    "        np.linspace(0, s[0], s[0], endpoint=False)\n",
    "    ]\n",
    "    \n",
    "    x_grid = lin_grid(x_shape)\n",
    "    y_grid = lin_grid(y.shape)\n",
    "    y_resized = []\n",
    "    \n",
    "    for j in range(y.shape[2]):\n",
    "        f_interp = interpolate.interp2d(*y_grid, y[:, :, j])\n",
    "        y_resized.append(f_interp(*x_grid))\n",
    "        \n",
    "    return np.stack(y_resized, axis=2)"
   ]
  },
  {
   "cell_type": "code",
   "execution_count": null,
   "metadata": {},
   "outputs": [],
   "source": [
    "J, K = 120, 2\n",
    "\n",
    "pixel_frac = patch_fractions(tile.shape[:2])\n",
    "x = crop_fraction(tile, pixel_frac[J])\n",
    "y_ = crop_fraction(y, pixel_frac[J])\n",
    "y_ = resize_mask(x.shape, y_)\n",
    "x = x[:, :, [4, 3, 1]]\n",
    "x /= x.max()\n",
    "plt.imshow(x)\n",
    "plt.show()\n",
    "plt.imshow(y_[:, :, K], plt.get_cmap(\"GnBu\"))\n",
    "plt.show()\n",
    "\n",
    "plt.imshow(x)\n",
    "plt.imshow(y_[:, :, K], plt.get_cmap(\"GnBu\"), alpha = 0.4)"
   ]
  }
 ],
 "metadata": {
  "kernelspec": {
   "display_name": "glaciers",
   "language": "python",
   "name": "glaciers"
  },
  "language_info": {
   "codemirror_mode": {
    "name": "ipython",
    "version": 3
   },
   "file_extension": ".py",
   "mimetype": "text/x-python",
   "name": "python",
   "nbconvert_exporter": "python",
   "pygments_lexer": "ipython3",
   "version": "3.7.0"
  }
 },
 "nbformat": 4,
 "nbformat_minor": 4
}
