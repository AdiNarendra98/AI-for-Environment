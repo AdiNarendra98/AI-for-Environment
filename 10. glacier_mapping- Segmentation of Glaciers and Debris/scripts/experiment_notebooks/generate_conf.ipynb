{
 "cells": [
  {
   "cell_type": "markdown",
   "metadata": {},
   "source": [
    "### Generate conf for permutation exper"
   ]
  },
  {
   "cell_type": "code",
   "execution_count": null,
   "metadata": {},
   "outputs": [],
   "source": [
    "# load regural conf\n",
    "import yaml\n",
    "\n",
    "\n",
    "train_file = \"/datadrive/glaciers/conf/train.yaml\"\n",
    "postprocess_file = \"/datadrive/glaciers/conf/postprocess.yaml\"\n",
    "with open(train_file, 'r') as file:\n",
    "    train_conf = yaml.load(file)\n",
    "    \n",
    "with open(postprocess_file, 'r') as file:\n",
    "    postprocess_conf = yaml.load(file)"
   ]
  },
  {
   "cell_type": "code",
   "execution_count": null,
   "metadata": {},
   "outputs": [],
   "source": [
    "values_to_try = [[10, 11, 12, 13],\n",
    "                 [4, 1, 3],\n",
    "                 [4, 1, 3, 13, 14],\n",
    "                 [4, 1, 3, 10, 11, 12],\n",
    "                 [4, 1, 3, 10, 11, 12, 13, 14],\n",
    "                 [4, 1, 3, 13],\n",
    "                 [4, 1, 3, 14],\n",
    "                 [0, 1, 2],\n",
    "                 [0, 1, 2, 13, 14],\n",
    "                 [0, 1, 2, 10, 11, 12],\n",
    "                 [0, 1, 2, 10, 11, 12, 13, 14],\n",
    "                 [0, 1, 2, 3, 4, 5, 6, 7, 8, 9],\n",
    "                 [0, 1, 2, 3, 4, 5, 6, 7, 8, 9, 13, 14],\n",
    "                 [0, 1, 2, 3, 4, 5, 6, 7, 8, 9, 10, 11, 12],\n",
    "                 [0, 1, 2, 3, 4, 5, 6, 7, 8, 9, 10, 11, 12, 13, 14],\n",
    "                 [14,13,11,7,12,5,10]]"
   ]
  },
  {
   "cell_type": "code",
   "execution_count": null,
   "metadata": {},
   "outputs": [],
   "source": [
    "for i, value in enumerate(values_to_try):\n",
    "    postprocess_conf[\"process_funs\"][\"extract_channel\"][\"img_channels\"] = value\n",
    "    train_conf[\"model_opts\"][\"args\"][\"inchannels\"] = len(value)\n",
    "    \n",
    "    \n",
    "    postprocess_file = f\"/datadrive/glaciers/conf/channel_exp/postprocess_{i}.yaml\"\n",
    "    with open(postprocess_file, 'w') as file:\n",
    "        yaml.dump(postprocess_conf, file, default_flow_style=None, sort_keys=False)\n",
    "        \n",
    "    train_file = f\"/datadrive/glaciers/conf/channel_exp/train_{i}.yaml\"\n",
    "    with open(train_file, 'w') as file:\n",
    "        yaml.dump(train_conf, file, default_flow_style=None, sort_keys=False)"
   ]
  },
  {
   "cell_type": "code",
   "execution_count": null,
   "metadata": {},
   "outputs": [],
   "source": [
    "# best value from permutation exper\n",
    "good_value = [0, 1, 2, 3, 4, 5, 6, 7, 8, 9, 10, 11, 12, 13, 14]"
   ]
  },
  {
   "cell_type": "code",
   "execution_count": null,
   "metadata": {},
   "outputs": [],
   "source": [
    "# filter with only images with both debris and clean are more than 0, with glaciers channel as output\n",
    "postprocess_conf[\"filter_channel\"] = [1, 2]\n",
    "postprocess_conf[\"filter_percentage\"] = [0, 0]\n",
    "postprocess_conf[\"process_funs\"][\"extract_channel\"][\"img_channels\"] = good_value\n",
    "postprocess_conf[\"process_funs\"][\"extract_channel\"][\"mask_channels\"] = [0]\n",
    "\n",
    "train_conf[\"model_opts\"][\"args\"][\"inchannels\"] = 15\n",
    "train_conf[\"model_opts\"][\"args\"][\"outchannels\"] = 2\n",
    "train_conf[\"log_opts\"][\"mask_names\"] =  ['glaciers', 'background']\n",
    "\n",
    "\n",
    "postprocess_file = f\"/datadrive/glaciers/conf/channel_exp/postprocess_all.yaml\"\n",
    "with open(postprocess_file, 'w') as file:\n",
    "    yaml.dump(postprocess_conf, file, default_flow_style=None, sort_keys=False)\n",
    "        \n",
    "train_file = f\"/datadrive/glaciers/conf/channel_exp/train_all.yaml\"\n",
    "with open(train_file, 'w') as file:\n",
    "    yaml.dump(train_conf, file, default_flow_style=None, sort_keys=False)"
   ]
  },
  {
   "cell_type": "code",
   "execution_count": null,
   "metadata": {},
   "outputs": [],
   "source": [
    "# # filter with only images with both debris and clean are more than 0, with both glaciers and debris channels as output\n",
    "postprocess_conf[\"filter_channel\"] = [1, 2]\n",
    "postprocess_conf[\"filter_percentage\"] = [0, 0]\n",
    "postprocess_conf[\"process_funs\"][\"extract_channel\"][\"img_channels\"] = good_value\n",
    "postprocess_conf[\"process_funs\"][\"extract_channel\"][\"mask_channels\"] = [1, 2]\n",
    "\n",
    "train_conf[\"model_opts\"][\"args\"][\"inchannels\"] = 15\n",
    "train_conf[\"model_opts\"][\"args\"][\"outchannels\"] = 3\n",
    "train_conf[\"log_opts\"][\"mask_names\"] =  ['clean_glaciers', 'debris_glaciers', 'background']\n",
    "\n",
    "\n",
    "postprocess_file = f\"/datadrive/glaciers/conf/channel_exp/postprocess_clean_debris.yaml\"\n",
    "with open(postprocess_file, 'w') as file:\n",
    "    yaml.dump(postprocess_conf, file, default_flow_style=None, sort_keys=False)\n",
    "        \n",
    "train_file = f\"/datadrive/glaciers/conf/channel_exp/train_clean_debris.yaml\"\n",
    "with open(train_file, 'w') as file:\n",
    "    yaml.dump(train_conf, file, default_flow_style=None, sort_keys=False)"
   ]
  },
  {
   "cell_type": "code",
   "execution_count": null,
   "metadata": {},
   "outputs": [],
   "source": [
    "# clean only\n",
    "# filter with only images with both debris and clean are more than 0, with clean glaciers channel as output\n",
    "postprocess_conf[\"filter_channel\"] = [1, 2]\n",
    "postprocess_conf[\"filter_percentage\"] = [0, 0]\n",
    "postprocess_conf[\"process_funs\"][\"extract_channel\"][\"img_channels\"] = good_value\n",
    "postprocess_conf[\"process_funs\"][\"extract_channel\"][\"mask_channels\"] = [1]\n",
    "\n",
    "train_conf[\"model_opts\"][\"args\"][\"inchannels\"] = 15\n",
    "train_conf[\"model_opts\"][\"args\"][\"outchannels\"] = 2\n",
    "train_conf[\"log_opts\"][\"mask_names\"] =  ['clean_glaciers', 'background']\n",
    "\n",
    "\n",
    "postprocess_file = f\"/datadrive/glaciers/conf/channel_exp/postprocess_clean.yaml\"\n",
    "with open(postprocess_file, 'w') as file:\n",
    "    yaml.dump(postprocess_conf, file, default_flow_style=None, sort_keys=False)\n",
    "        \n",
    "train_file = f\"/datadrive/glaciers/conf/channel_exp/train_clean.yaml\"\n",
    "with open(train_file, 'w') as file:\n",
    "    yaml.dump(train_conf, file, default_flow_style=None, sort_keys=False)"
   ]
  },
  {
   "cell_type": "code",
   "execution_count": null,
   "metadata": {},
   "outputs": [],
   "source": [
    "# # filter with only images with both debris and clean are more than 0, with debris glaciers channel as output\n",
    "postprocess_conf[\"filter_channel\"] = [1, 2]\n",
    "postprocess_conf[\"filter_percentage\"] = [0, 0]\n",
    "postprocess_conf[\"process_funs\"][\"extract_channel\"][\"img_channels\"] = good_value\n",
    "postprocess_conf[\"process_funs\"][\"extract_channel\"][\"mask_channels\"] = [2]\n",
    "\n",
    "train_conf[\"model_opts\"][\"args\"][\"inchannels\"] = 15\n",
    "train_conf[\"model_opts\"][\"args\"][\"outchannels\"] = 2\n",
    "train_conf[\"log_opts\"][\"mask_names\"] =  ['debris_glaciers', 'background']\n",
    "\n",
    "\n",
    "postprocess_file = f\"/datadrive/glaciers/conf/channel_exp/postprocess_debris.yaml\"\n",
    "with open(postprocess_file, 'w') as file:\n",
    "    yaml.dump(postprocess_conf, file, default_flow_style=None, sort_keys=False)\n",
    "        \n",
    "train_file = f\"/datadrive/glaciers/conf/channel_exp/train_debris.yaml\"\n",
    "with open(train_file, 'w') as file:\n",
    "    yaml.dump(train_conf, file, default_flow_style=None, sort_keys=False)"
   ]
  },
  {
   "cell_type": "code",
   "execution_count": null,
   "metadata": {},
   "outputs": [],
   "source": []
  }
 ],
 "metadata": {
  "kernelspec": {
   "display_name": "glacier",
   "language": "python",
   "name": "glacier"
  },
  "language_info": {
   "codemirror_mode": {
    "name": "ipython",
    "version": 3
   },
   "file_extension": ".py",
   "mimetype": "text/x-python",
   "name": "python",
   "nbconvert_exporter": "python",
   "pygments_lexer": "ipython3",
   "version": "3.7.0"
  }
 },
 "nbformat": 4,
 "nbformat_minor": 4
}
