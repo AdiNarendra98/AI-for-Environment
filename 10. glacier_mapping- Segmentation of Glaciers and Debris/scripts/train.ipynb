{
 "cells": [
  {
   "cell_type": "markdown",
   "metadata": {},
   "source": [
    "### Training"
   ]
  },
  {
   "cell_type": "markdown",
   "metadata": {},
   "source": [
    "Next, we perform training. We use the train, dev, and test folders specified above, and our logging is done in tensorboard. The model is saved every `save_every` epochs; the model with the best IoU is also saved under the name `model_best`."
   ]
  },
  {
   "cell_type": "code",
   "execution_count": null,
   "metadata": {},
   "outputs": [],
   "source": [
    "from addict import Dict\n",
    "from pathlib import Path\n",
    "\n",
    "data_dir = Path(\"/datadrive/glaciers/\")\n",
    "process_dir = data_dir / \"processed\"\n",
    "\n",
    "args = Dict({\n",
    "    \"batch_size\": 16,\n",
    "    \"run_name\": \"demo\", \n",
    "    \"epochs\": 200,\n",
    "    \"save_every\": 50,\n",
    "    \"loss_type\": \"dice\",\n",
    "    \"device\": \"cuda:0\"\n",
    "})\n"
   ]
  },
  {
   "cell_type": "code",
   "execution_count": null,
   "metadata": {},
   "outputs": [],
   "source": [
    "from glacier_mapping.data.data import fetch_loaders\n",
    "from glacier_mapping.models.frame import Framework\n",
    "import glacier_mapping.train as tr\n",
    "from torch.utils.tensorboard import SummaryWriter\n",
    "from torchvision.utils import make_grid\n",
    "from glacier_mapping.models.metrics import diceloss\n",
    "import yaml\n",
    "import torch\n",
    "import json\n",
    "\n",
    "conf = Dict(yaml.safe_load(open(\"../conf/train.yaml\", \"r\")))\n",
    "loaders = fetch_loaders(process_dir, args.batch_size)\n",
    "device = torch.device(args.device)\n",
    "\n",
    "loss_fn = None\n",
    "outchannels = conf.model_opts.args.outchannels\n",
    "if args.loss_type == \"dice\":\n",
    "    loss_fn = diceloss(\n",
    "        act=torch.nn.Softmax(dim=1), \n",
    "        w=[0.6, 0.9, 0.2], # clean ice, debris, background\n",
    "        outchannels=outchannels, \n",
    "        label_smoothing=0.2\n",
    "    )\n",
    "    \n",
    "frame = Framework(\n",
    "    model_opts=conf.model_opts,\n",
    "    optimizer_opts=conf.optim_opts,\n",
    "    reg_opts=conf.reg_opts,\n",
    "    device=device,\n",
    "    loss_fn=loss_fn\n",
    ")\n",
    "\n",
    "# Setup logging\n",
    "writer = SummaryWriter(f\"{data_dir}/{args.run_name}/logs/\")\n",
    "writer.add_text(\"Arguments\", json.dumps(vars(args)))\n",
    "writer.add_text(\"Configuration Parameters\", json.dumps(conf))\n",
    "out_dir = f\"{data_dir}/{args.run_name}/models/\"\n",
    "\n",
    "best_epoch, best_iou = None, 0\n",
    "for epoch in range(args.epochs):\n",
    "    loss_d = {}\n",
    "    for phase in [\"train\", \"val\"]:\n",
    "        loss_d[phase], metrics = tr.train_epoch(loaders[phase], frame, conf.metrics_opts)\n",
    "        tr.log_metrics(writer, metrics, loss_d[phase], epoch, phase, mask_names=conf.log_opts.mask_names)\n",
    "\n",
    "    # save model\n",
    "    writer.add_scalars(\"Loss\", loss_d, epoch)\n",
    "    if (epoch + 1) % args.save_every == 0:\n",
    "        frame.save(out_dir, epoch)\n",
    "        tr.log_images(writer, frame, next(iter(loaders[\"train\"])), epoch)\n",
    "        tr.log_images(writer, frame, next(iter(loaders[\"val\"])), epoch, \"val\")\n",
    "\n",
    "    if best_iou <= metrics['IoU'][0]:\n",
    "        best_iou  = metrics['IoU'][0]\n",
    "        best_epoch = epoch\n",
    "        frame.save(out_dir, \"best\")\n",
    "\n",
    "    print(f\"{epoch}/{args.epochs} | train: {loss_d['train']} | val: {loss_d['val']}\")\n",
    "\n",
    "frame.save(out_dir, \"final\")\n",
    "writer.close()"
   ]
  },
  {
   "cell_type": "code",
   "execution_count": null,
   "metadata": {},
   "outputs": [],
   "source": []
  }
 ],
 "metadata": {
  "kernelspec": {
   "display_name": "glaciers",
   "language": "python",
   "name": "glaciers"
  },
  "language_info": {
   "codemirror_mode": {
    "name": "ipython",
    "version": 3
   },
   "file_extension": ".py",
   "mimetype": "text/x-python",
   "name": "python",
   "nbconvert_exporter": "python",
   "pygments_lexer": "ipython3",
   "version": "3.7.0"
  }
 },
 "nbformat": 4,
 "nbformat_minor": 4
}
