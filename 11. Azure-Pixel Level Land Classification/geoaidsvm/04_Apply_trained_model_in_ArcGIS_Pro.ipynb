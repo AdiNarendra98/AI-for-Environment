{
 "cells": [
  {
   "cell_type": "markdown",
   "metadata": {},
   "source": [
    "# Apply a trained land classifier model in ArcGIS Pro"
   ]
  },
  {
   "cell_type": "markdown",
   "metadata": {},
   "source": [
    "This tutorial will assume that you have already provisioned a [Geo AI Data Science Virtual Machine](http://aka.ms/dsvm/GeoAI) and are using this Jupyter notebook while connected via remote desktop on that VM. If not, please see our guide to [provisioning and connecting to a Geo AI DSVM](https://github.com/Azure/pixel_level_land_classification/blob/master/geoaidsvm/setup.md).\n",
    "\n",
    "By default, this tutorial will make use of a model we have pre-trained for 250 epochs. If you have completed the associated notebook on [training a land classifier from scratch](./02_Train_a_land_classification_model_from_scratch.ipynb), you will have the option of using your own model file."
   ]
  },
  {
   "cell_type": "markdown",
   "metadata": {},
   "source": [
    "## Setup instructions\n",
    "\n",
    "### Log into ArcGIS Pro\n",
    "\n",
    "[ArcGIS Pro](https://pro.arcgis.com) 2.1.1 is pre-installed on the Geo AI DSVM. If you are running this tutorial on another machine, you may need to perform these additional steps: install ArcGIS Pro, [install CNTK](https://docs.microsoft.com/cognitive-toolkit/setup-windows-python) in the Python environment ArcGIS Pro creates, and ensure that [ArcGIS Pro's Python environment](http://pro.arcgis.com/en/pro-app/arcpy/get-started/installing-python-for-arcgis-pro.htm) is on your system path.\n",
    "\n",
    "To log into ArcGIS Pro, follow these steps:\n",
    "\n",
    "1. Search for and launch the ArcGIS Pro program.\n",
    "1. When prompted, enter your username and password.\n",
    "    - If you don't have an ArcGIS Pro license, see the instructions for getting a trial license in the [intro notebook](./01_Intro_to_pixel-level_land_classification.ipynb)."
   ]
  },
  {
   "cell_type": "markdown",
   "metadata": {},
   "source": [
    "### Install the supporting files\n",
    "\n",
    "If you have not already completed the associated notebook on [training a land classifier from scratch](./02_Train_a_land_classification_model_from_scratch.ipynb), execute the following cell to download supporting files to your Geo AI DSVM's D: drive."
   ]
  },
  {
   "cell_type": "code",
   "execution_count": null,
   "metadata": {
    "collapsed": true
   },
   "outputs": [],
   "source": [
    "!AzCopy /Source:https://ai4ehackathons.blob.core.windows.net/landcovertutorial /SourceSAS:\"?se=2020-04-06T06%3A59%3A00Z&sp=rl&sv=2018-03-28&sr=c&sig=YD6mbqnmYTW%2Bs6guVndjQSQ8NUcV8F9HY%2BhPNWiulIo%3D\" /Dest:D:\\pixellevellandclassification /S\n",
    "print('Done.')"
   ]
  },
  {
   "cell_type": "markdown",
   "metadata": {},
   "source": [
    "### Install the custom raster function\n",
    "\n",
    "We will use Python scripts to apply a trained model to aerial imagery in real-time as the user scrolls through a region of interest in ArcGIS Pro. These Python scripts are surfaced in ArcGIS Pro as a [custom raster function](https://github.com/Esri/raster-functions). The three files needed for the raster function (the main Python script, helper functions for e.g. colorizing the model's results, and an XML description file) must be copied into the ArcGIS Pro subdirectory as follows:\n",
    "\n",
    "1. In Windows Explorer, navigate to `C:\\Program Files\\ArcGIS\\Pro\\Resources\\Raster\\Functions` and create a subdirectory named `Custom`.\n",
    "1. Copy the `ClassifyCNTK` folder in `D:\\pixellevellandclassification\\arcgispro` into your new folder named `Custom`.\n",
    "\n",
    "When this is complete, you should have a folder named `C:\\Program Files\\ArcGIS\\Pro\\Resources\\Raster\\Functions\\Custom\\ClassifyCNTK` that contains two Python scripts and an XML file."
   ]
  },
  {
   "cell_type": "markdown",
   "metadata": {},
   "source": [
    "## Evaluate the model in real-time using ArcGIS Pro\n",
    "\n",
    "### Load the sample project in ArcGIS Pro\n",
    "\n",
    "Begin by loading the sample ArcGIS Pro project we have provided:\n",
    "\n",
    "1. Search for and launch the ArcGIS Pro program.\n",
    "    - If ArcGIS Pro was open, restart it to ensure that all changes above are reflected when the proram loads.\n",
    "1. On the ArcGIS Pro start screen, click on \"Open an Existing Project\".\n",
    "1. Navigate to the folder where you extracted the sample project, and select the `D:\\pixellevellandclassification\\arcgispro\\sampleproject.aprx` file. Click \"OK.\"\n",
    "\n",
    "Once the project has loaded (allow ~30 seconds), you should see a screen split into three windows. After a moment, NAIP aerial imagery should become visible in the upper window; slightly later, the model's soft and hard predictions for land cover will populate in the lower-left and lower-right windows, respectively.\n",
    "\n",
    "<img src=\"https://github.com/Azure/pixel_level_land_classification/raw/master/outputs/arcgispro_three_windows.PNG\">"
   ]
  },
  {
   "cell_type": "markdown",
   "metadata": {},
   "source": [
    "The bottom windows will show the model's best-guess labels (bottom right) and an average of label colors weighted by predicted probability (bottom left, providing an indication of uncertainty). If you wish to use your own trained model, or the bottom windows do not populate with results, you may need to add their layers manually using the following steps:"
   ]
  },
  {
   "cell_type": "markdown",
   "metadata": {},
   "source": [
    "1. Begin by selecting the \"AI Mixed Probabilities\" window at bottom-left.\n",
    "1. Add and modify an aerial imagery layer:\n",
    "    1. In the Catalog Pane (accessible from the View menu), click on Portal, then the cloud icon (labeled \"All Portal\" on hover).\n",
    "    1. In the search field, type NAIP.\n",
    "    1. Drag and drop the \"USA NAIP Imagery: Natural Color\" option into the window at bottom-left. You should see a new layer with this name appear in the Contents Pane at left.\n",
    "    1. Right-click on \"USA NAIP Imagery: Natural Color\" in the Contents Pane and select \"Properties\".\n",
    "    1. In the \"Processing Templates\" tab of the layer properties, change the Processing Template from \"Natural Color\" to \"None,\" then click OK.\n",
    "1. Add a model predictions layer:\n",
    "    1. In the Raster Functions Pane (accessible from the Analysis menu), click on the \"Custom\" option along the top.\n",
    "    1. You should see a \"[ClassifyCNTK]\" heading in the Custom section. Collapse and re-expand it to reveal an option named \"Classify\". Click this button to bring up the raster function's options.\n",
    "    1. Set the input raster to \"USA NAIP Imagery: Natural Color\".\n",
    "    1. Set the trained model location to `D:\\pixellevellandclassification\\models\\250epochs.model`.\n",
    "        - Note: if you trained your own model using our companion notebook, you can use it instead by choosing `D:\\pixellevellandclassification\\models\\trained.model` as the location.\n",
    "    1. Set the output type to \"Softmax\", indicating that each pixel's color will be an average of the class label colors, weighted by their relative probabilities.\n",
    "        - Note: selecting \"Hardmax\" will assign each pixel its most likely label's color insead.\n",
    "    1. Click \"Create new layer\". After a few seconds, the model's predictions should appear in the bottom-left quadrant.\n",
    "1. Repeat these steps with the bottom-right window, selecting \"Hardmax\" as the output type."
   ]
  },
  {
   "cell_type": "markdown",
   "metadata": {},
   "source": [
    "Now that your project is complete, you can navigate and zoom in any window to compare imagery and predicted labels throughout the U.S."
   ]
  },
  {
   "cell_type": "markdown",
   "metadata": {},
   "source": [
    "## Next steps\n",
    "\n",
    "In this notebook series, we trained and deployed a model on a Geo AI Data Science VM. To improve model accuracy, we recommend training for more epochs on a larger dataset. Please see [our GitHub repository](https://github.com/Azure/pixel_level_land_classification) for more details on scaling up training using Batch AI.\n",
    "\n",
    "When you are done using your Geo AI Data Science VM, we recommend that you stop or delete it to prevent further charges.\n",
    "\n",
    "For comments and suggestions regarding this notebook, please post a [Git issue](https://github.com/Azure/pixel_level_land_classification/issues/new) or submit a pull request in the [pixel-level land classification repository](https://github.com/Azure/pixel_level_land_classification)."
   ]
  }
 ],
 "metadata": {
  "kernelspec": {
   "display_name": "Python 3",
   "language": "python",
   "name": "python3"
  },
  "language_info": {
   "codemirror_mode": {
    "name": "ipython",
    "version": 3
   },
   "file_extension": ".py",
   "mimetype": "text/x-python",
   "name": "python",
   "nbconvert_exporter": "python",
   "pygments_lexer": "ipython3",
   "version": "3.5.2"
  }
 },
 "nbformat": 4,
 "nbformat_minor": 2
}
