{
  "nbformat": 4,
  "nbformat_minor": 0,
  "metadata": {
    "accelerator": "GPU",
    "colab": {
      "name": "Inference_FloodNet_Seg",
      "provenance": [],
      "collapsed_sections": [
        "eNxzg2gnLQKC",
        "TUqek6MKL9Ti",
        "6Ou9athNER7s",
        "4n98ioyxVUWm",
        "BX3QnA9g7wgd",
        "WPeEZS6Hekdv",
        "lPKBFUN_Z3Ei",
        "0YiGE-ZmZ8OM"
      ]
    },
    "kernelspec": {
      "display_name": "Python 3",
      "name": "python3"
    },
    "language_info": {
      "name": "python"
    },
    "widgets": {
      "application/vnd.jupyter.widget-state+json": {
        "458cec8dd3994166a6cc7d5db6ebd47b": {
          "model_module": "@jupyter-widgets/controls",
          "model_name": "HBoxModel",
          "state": {
            "_view_name": "HBoxView",
            "_dom_classes": [],
            "_model_name": "HBoxModel",
            "_view_module": "@jupyter-widgets/controls",
            "_model_module_version": "1.5.0",
            "_view_count": null,
            "_view_module_version": "1.5.0",
            "box_style": "",
            "layout": "IPY_MODEL_b0f4ee03b40d41bab7e734c928bb8869",
            "_model_module": "@jupyter-widgets/controls",
            "children": [
              "IPY_MODEL_414e3654c69b4243ac857e97d11e3bd4",
              "IPY_MODEL_7447cec6d12247289056621cb1cc96f9"
            ]
          }
        },
        "b0f4ee03b40d41bab7e734c928bb8869": {
          "model_module": "@jupyter-widgets/base",
          "model_name": "LayoutModel",
          "state": {
            "_view_name": "LayoutView",
            "grid_template_rows": null,
            "right": null,
            "justify_content": null,
            "_view_module": "@jupyter-widgets/base",
            "overflow": null,
            "_model_module_version": "1.2.0",
            "_view_count": null,
            "flex_flow": null,
            "width": null,
            "min_width": null,
            "border": null,
            "align_items": null,
            "bottom": null,
            "_model_module": "@jupyter-widgets/base",
            "top": null,
            "grid_column": null,
            "overflow_y": null,
            "overflow_x": null,
            "grid_auto_flow": null,
            "grid_area": null,
            "grid_template_columns": null,
            "flex": null,
            "_model_name": "LayoutModel",
            "justify_items": null,
            "grid_row": null,
            "max_height": null,
            "align_content": null,
            "visibility": null,
            "align_self": null,
            "height": null,
            "min_height": null,
            "padding": null,
            "grid_auto_rows": null,
            "grid_gap": null,
            "max_width": null,
            "order": null,
            "_view_module_version": "1.2.0",
            "grid_template_areas": null,
            "object_position": null,
            "object_fit": null,
            "grid_auto_columns": null,
            "margin": null,
            "display": null,
            "left": null
          }
        },
        "414e3654c69b4243ac857e97d11e3bd4": {
          "model_module": "@jupyter-widgets/controls",
          "model_name": "FloatProgressModel",
          "state": {
            "_view_name": "ProgressView",
            "style": "IPY_MODEL_433cd70ef9844b7c932ac412c4ae1971",
            "_dom_classes": [],
            "description": "100%",
            "_model_name": "FloatProgressModel",
            "bar_style": "success",
            "max": 87306240,
            "_view_module": "@jupyter-widgets/controls",
            "_model_module_version": "1.5.0",
            "value": 87306240,
            "_view_count": null,
            "_view_module_version": "1.5.0",
            "orientation": "horizontal",
            "min": 0,
            "description_tooltip": null,
            "_model_module": "@jupyter-widgets/controls",
            "layout": "IPY_MODEL_32aac742ba4e4f0ea3beadb9d56e573e"
          }
        },
        "7447cec6d12247289056621cb1cc96f9": {
          "model_module": "@jupyter-widgets/controls",
          "model_name": "HTMLModel",
          "state": {
            "_view_name": "HTMLView",
            "style": "IPY_MODEL_6f93d295ef044c73addc0e621aca4f90",
            "_dom_classes": [],
            "description": "",
            "_model_name": "HTMLModel",
            "placeholder": "​",
            "_view_module": "@jupyter-widgets/controls",
            "_model_module_version": "1.5.0",
            "value": " 83.3M/83.3M [05:49&lt;00:00, 250kB/s]",
            "_view_count": null,
            "_view_module_version": "1.5.0",
            "description_tooltip": null,
            "_model_module": "@jupyter-widgets/controls",
            "layout": "IPY_MODEL_509aaffe9e5e4f2a941cac1f33dabeb9"
          }
        },
        "433cd70ef9844b7c932ac412c4ae1971": {
          "model_module": "@jupyter-widgets/controls",
          "model_name": "ProgressStyleModel",
          "state": {
            "_view_name": "StyleView",
            "_model_name": "ProgressStyleModel",
            "description_width": "initial",
            "_view_module": "@jupyter-widgets/base",
            "_model_module_version": "1.5.0",
            "_view_count": null,
            "_view_module_version": "1.2.0",
            "bar_color": null,
            "_model_module": "@jupyter-widgets/controls"
          }
        },
        "32aac742ba4e4f0ea3beadb9d56e573e": {
          "model_module": "@jupyter-widgets/base",
          "model_name": "LayoutModel",
          "state": {
            "_view_name": "LayoutView",
            "grid_template_rows": null,
            "right": null,
            "justify_content": null,
            "_view_module": "@jupyter-widgets/base",
            "overflow": null,
            "_model_module_version": "1.2.0",
            "_view_count": null,
            "flex_flow": null,
            "width": null,
            "min_width": null,
            "border": null,
            "align_items": null,
            "bottom": null,
            "_model_module": "@jupyter-widgets/base",
            "top": null,
            "grid_column": null,
            "overflow_y": null,
            "overflow_x": null,
            "grid_auto_flow": null,
            "grid_area": null,
            "grid_template_columns": null,
            "flex": null,
            "_model_name": "LayoutModel",
            "justify_items": null,
            "grid_row": null,
            "max_height": null,
            "align_content": null,
            "visibility": null,
            "align_self": null,
            "height": null,
            "min_height": null,
            "padding": null,
            "grid_auto_rows": null,
            "grid_gap": null,
            "max_width": null,
            "order": null,
            "_view_module_version": "1.2.0",
            "grid_template_areas": null,
            "object_position": null,
            "object_fit": null,
            "grid_auto_columns": null,
            "margin": null,
            "display": null,
            "left": null
          }
        },
        "6f93d295ef044c73addc0e621aca4f90": {
          "model_module": "@jupyter-widgets/controls",
          "model_name": "DescriptionStyleModel",
          "state": {
            "_view_name": "StyleView",
            "_model_name": "DescriptionStyleModel",
            "description_width": "",
            "_view_module": "@jupyter-widgets/base",
            "_model_module_version": "1.5.0",
            "_view_count": null,
            "_view_module_version": "1.2.0",
            "_model_module": "@jupyter-widgets/controls"
          }
        },
        "509aaffe9e5e4f2a941cac1f33dabeb9": {
          "model_module": "@jupyter-widgets/base",
          "model_name": "LayoutModel",
          "state": {
            "_view_name": "LayoutView",
            "grid_template_rows": null,
            "right": null,
            "justify_content": null,
            "_view_module": "@jupyter-widgets/base",
            "overflow": null,
            "_model_module_version": "1.2.0",
            "_view_count": null,
            "flex_flow": null,
            "width": null,
            "min_width": null,
            "border": null,
            "align_items": null,
            "bottom": null,
            "_model_module": "@jupyter-widgets/base",
            "top": null,
            "grid_column": null,
            "overflow_y": null,
            "overflow_x": null,
            "grid_auto_flow": null,
            "grid_area": null,
            "grid_template_columns": null,
            "flex": null,
            "_model_name": "LayoutModel",
            "justify_items": null,
            "grid_row": null,
            "max_height": null,
            "align_content": null,
            "visibility": null,
            "align_self": null,
            "height": null,
            "min_height": null,
            "padding": null,
            "grid_auto_rows": null,
            "grid_gap": null,
            "max_width": null,
            "order": null,
            "_view_module_version": "1.2.0",
            "grid_template_areas": null,
            "object_position": null,
            "object_fit": null,
            "grid_auto_columns": null,
            "margin": null,
            "display": null,
            "left": null
          }
        },
        "d63bbbad3a8c45fab9e7ba0065664f75": {
          "model_module": "@jupyter-widgets/controls",
          "model_name": "HBoxModel",
          "state": {
            "_view_name": "HBoxView",
            "_dom_classes": [],
            "_model_name": "HBoxModel",
            "_view_module": "@jupyter-widgets/controls",
            "_model_module_version": "1.5.0",
            "_view_count": null,
            "_view_module_version": "1.5.0",
            "box_style": "",
            "layout": "IPY_MODEL_6f4a5d7ee3a44fdcbefdd0c0a2564b31",
            "_model_module": "@jupyter-widgets/controls",
            "children": [
              "IPY_MODEL_20a23eb93f534f9e881d825614165620",
              "IPY_MODEL_f5dc1f550f83485e98d4c64b63726305"
            ]
          }
        },
        "6f4a5d7ee3a44fdcbefdd0c0a2564b31": {
          "model_module": "@jupyter-widgets/base",
          "model_name": "LayoutModel",
          "state": {
            "_view_name": "LayoutView",
            "grid_template_rows": null,
            "right": null,
            "justify_content": null,
            "_view_module": "@jupyter-widgets/base",
            "overflow": null,
            "_model_module_version": "1.2.0",
            "_view_count": null,
            "flex_flow": null,
            "width": null,
            "min_width": null,
            "border": null,
            "align_items": null,
            "bottom": null,
            "_model_module": "@jupyter-widgets/base",
            "top": null,
            "grid_column": null,
            "overflow_y": null,
            "overflow_x": null,
            "grid_auto_flow": null,
            "grid_area": null,
            "grid_template_columns": null,
            "flex": null,
            "_model_name": "LayoutModel",
            "justify_items": null,
            "grid_row": null,
            "max_height": null,
            "align_content": null,
            "visibility": null,
            "align_self": null,
            "height": null,
            "min_height": null,
            "padding": null,
            "grid_auto_rows": null,
            "grid_gap": null,
            "max_width": null,
            "order": null,
            "_view_module_version": "1.2.0",
            "grid_template_areas": null,
            "object_position": null,
            "object_fit": null,
            "grid_auto_columns": null,
            "margin": null,
            "display": null,
            "left": null
          }
        },
        "20a23eb93f534f9e881d825614165620": {
          "model_module": "@jupyter-widgets/controls",
          "model_name": "FloatProgressModel",
          "state": {
            "_view_name": "ProgressView",
            "style": "IPY_MODEL_1914c7a2404b4370b3152c8fe651cdc1",
            "_dom_classes": [],
            "description": "100%",
            "_model_name": "FloatProgressModel",
            "bar_style": "success",
            "max": 40,
            "_view_module": "@jupyter-widgets/controls",
            "_model_module_version": "1.5.0",
            "value": 40,
            "_view_count": null,
            "_view_module_version": "1.5.0",
            "orientation": "horizontal",
            "min": 0,
            "description_tooltip": null,
            "_model_module": "@jupyter-widgets/controls",
            "layout": "IPY_MODEL_00b7391194db4a51a89296fa32aca762"
          }
        },
        "f5dc1f550f83485e98d4c64b63726305": {
          "model_module": "@jupyter-widgets/controls",
          "model_name": "HTMLModel",
          "state": {
            "_view_name": "HTMLView",
            "style": "IPY_MODEL_593115c263c74a96a5440955696c244d",
            "_dom_classes": [],
            "description": "",
            "_model_name": "HTMLModel",
            "placeholder": "​",
            "_view_module": "@jupyter-widgets/controls",
            "_model_module_version": "1.5.0",
            "value": " 40/40 [03:38&lt;00:00,  5.46s/it]",
            "_view_count": null,
            "_view_module_version": "1.5.0",
            "description_tooltip": null,
            "_model_module": "@jupyter-widgets/controls",
            "layout": "IPY_MODEL_4f003c21fad940bc94faa8067d257c0d"
          }
        },
        "1914c7a2404b4370b3152c8fe651cdc1": {
          "model_module": "@jupyter-widgets/controls",
          "model_name": "ProgressStyleModel",
          "state": {
            "_view_name": "StyleView",
            "_model_name": "ProgressStyleModel",
            "description_width": "initial",
            "_view_module": "@jupyter-widgets/base",
            "_model_module_version": "1.5.0",
            "_view_count": null,
            "_view_module_version": "1.2.0",
            "bar_color": null,
            "_model_module": "@jupyter-widgets/controls"
          }
        },
        "00b7391194db4a51a89296fa32aca762": {
          "model_module": "@jupyter-widgets/base",
          "model_name": "LayoutModel",
          "state": {
            "_view_name": "LayoutView",
            "grid_template_rows": null,
            "right": null,
            "justify_content": null,
            "_view_module": "@jupyter-widgets/base",
            "overflow": null,
            "_model_module_version": "1.2.0",
            "_view_count": null,
            "flex_flow": null,
            "width": null,
            "min_width": null,
            "border": null,
            "align_items": null,
            "bottom": null,
            "_model_module": "@jupyter-widgets/base",
            "top": null,
            "grid_column": null,
            "overflow_y": null,
            "overflow_x": null,
            "grid_auto_flow": null,
            "grid_area": null,
            "grid_template_columns": null,
            "flex": null,
            "_model_name": "LayoutModel",
            "justify_items": null,
            "grid_row": null,
            "max_height": null,
            "align_content": null,
            "visibility": null,
            "align_self": null,
            "height": null,
            "min_height": null,
            "padding": null,
            "grid_auto_rows": null,
            "grid_gap": null,
            "max_width": null,
            "order": null,
            "_view_module_version": "1.2.0",
            "grid_template_areas": null,
            "object_position": null,
            "object_fit": null,
            "grid_auto_columns": null,
            "margin": null,
            "display": null,
            "left": null
          }
        },
        "593115c263c74a96a5440955696c244d": {
          "model_module": "@jupyter-widgets/controls",
          "model_name": "DescriptionStyleModel",
          "state": {
            "_view_name": "StyleView",
            "_model_name": "DescriptionStyleModel",
            "description_width": "",
            "_view_module": "@jupyter-widgets/base",
            "_model_module_version": "1.5.0",
            "_view_count": null,
            "_view_module_version": "1.2.0",
            "_model_module": "@jupyter-widgets/controls"
          }
        },
        "4f003c21fad940bc94faa8067d257c0d": {
          "model_module": "@jupyter-widgets/base",
          "model_name": "LayoutModel",
          "state": {
            "_view_name": "LayoutView",
            "grid_template_rows": null,
            "right": null,
            "justify_content": null,
            "_view_module": "@jupyter-widgets/base",
            "overflow": null,
            "_model_module_version": "1.2.0",
            "_view_count": null,
            "flex_flow": null,
            "width": null,
            "min_width": null,
            "border": null,
            "align_items": null,
            "bottom": null,
            "_model_module": "@jupyter-widgets/base",
            "top": null,
            "grid_column": null,
            "overflow_y": null,
            "overflow_x": null,
            "grid_auto_flow": null,
            "grid_area": null,
            "grid_template_columns": null,
            "flex": null,
            "_model_name": "LayoutModel",
            "justify_items": null,
            "grid_row": null,
            "max_height": null,
            "align_content": null,
            "visibility": null,
            "align_self": null,
            "height": null,
            "min_height": null,
            "padding": null,
            "grid_auto_rows": null,
            "grid_gap": null,
            "max_width": null,
            "order": null,
            "_view_module_version": "1.2.0",
            "grid_template_areas": null,
            "object_position": null,
            "object_fit": null,
            "grid_auto_columns": null,
            "margin": null,
            "display": null,
            "left": null
          }
        },
        "6323d3463575421faa6e79216fbb8c41": {
          "model_module": "@jupyter-widgets/controls",
          "model_name": "HBoxModel",
          "state": {
            "_view_name": "HBoxView",
            "_dom_classes": [],
            "_model_name": "HBoxModel",
            "_view_module": "@jupyter-widgets/controls",
            "_model_module_version": "1.5.0",
            "_view_count": null,
            "_view_module_version": "1.5.0",
            "box_style": "",
            "layout": "IPY_MODEL_d22462c1db424e24a3135477d92ea4d7",
            "_model_module": "@jupyter-widgets/controls",
            "children": [
              "IPY_MODEL_ab20371bef6544f791375b30d9904b68",
              "IPY_MODEL_0d3ab8a609c14703af4529b5651f69ea"
            ]
          }
        },
        "d22462c1db424e24a3135477d92ea4d7": {
          "model_module": "@jupyter-widgets/base",
          "model_name": "LayoutModel",
          "state": {
            "_view_name": "LayoutView",
            "grid_template_rows": null,
            "right": null,
            "justify_content": null,
            "_view_module": "@jupyter-widgets/base",
            "overflow": null,
            "_model_module_version": "1.2.0",
            "_view_count": null,
            "flex_flow": null,
            "width": null,
            "min_width": null,
            "border": null,
            "align_items": null,
            "bottom": null,
            "_model_module": "@jupyter-widgets/base",
            "top": null,
            "grid_column": null,
            "overflow_y": null,
            "overflow_x": null,
            "grid_auto_flow": null,
            "grid_area": null,
            "grid_template_columns": null,
            "flex": null,
            "_model_name": "LayoutModel",
            "justify_items": null,
            "grid_row": null,
            "max_height": null,
            "align_content": null,
            "visibility": null,
            "align_self": null,
            "height": null,
            "min_height": null,
            "padding": null,
            "grid_auto_rows": null,
            "grid_gap": null,
            "max_width": null,
            "order": null,
            "_view_module_version": "1.2.0",
            "grid_template_areas": null,
            "object_position": null,
            "object_fit": null,
            "grid_auto_columns": null,
            "margin": null,
            "display": null,
            "left": null
          }
        },
        "ab20371bef6544f791375b30d9904b68": {
          "model_module": "@jupyter-widgets/controls",
          "model_name": "FloatProgressModel",
          "state": {
            "_view_name": "ProgressView",
            "style": "IPY_MODEL_8d827860a362414a88d08d2af5b73ad7",
            "_dom_classes": [],
            "description": "100%",
            "_model_name": "FloatProgressModel",
            "bar_style": "success",
            "max": 133,
            "_view_module": "@jupyter-widgets/controls",
            "_model_module_version": "1.5.0",
            "value": 133,
            "_view_count": null,
            "_view_module_version": "1.5.0",
            "orientation": "horizontal",
            "min": 0,
            "description_tooltip": null,
            "_model_module": "@jupyter-widgets/controls",
            "layout": "IPY_MODEL_7e2d917dd1104320be17f31b8bb076b9"
          }
        },
        "0d3ab8a609c14703af4529b5651f69ea": {
          "model_module": "@jupyter-widgets/controls",
          "model_name": "HTMLModel",
          "state": {
            "_view_name": "HTMLView",
            "style": "IPY_MODEL_163ef05081b94bbf91f7905950173e01",
            "_dom_classes": [],
            "description": "",
            "_model_name": "HTMLModel",
            "placeholder": "​",
            "_view_module": "@jupyter-widgets/controls",
            "_model_module_version": "1.5.0",
            "value": " 133/133 [30:59&lt;00:00, 13.98s/it]",
            "_view_count": null,
            "_view_module_version": "1.5.0",
            "description_tooltip": null,
            "_model_module": "@jupyter-widgets/controls",
            "layout": "IPY_MODEL_e9639514670b43539c99fc68d8574746"
          }
        },
        "8d827860a362414a88d08d2af5b73ad7": {
          "model_module": "@jupyter-widgets/controls",
          "model_name": "ProgressStyleModel",
          "state": {
            "_view_name": "StyleView",
            "_model_name": "ProgressStyleModel",
            "description_width": "initial",
            "_view_module": "@jupyter-widgets/base",
            "_model_module_version": "1.5.0",
            "_view_count": null,
            "_view_module_version": "1.2.0",
            "bar_color": null,
            "_model_module": "@jupyter-widgets/controls"
          }
        },
        "7e2d917dd1104320be17f31b8bb076b9": {
          "model_module": "@jupyter-widgets/base",
          "model_name": "LayoutModel",
          "state": {
            "_view_name": "LayoutView",
            "grid_template_rows": null,
            "right": null,
            "justify_content": null,
            "_view_module": "@jupyter-widgets/base",
            "overflow": null,
            "_model_module_version": "1.2.0",
            "_view_count": null,
            "flex_flow": null,
            "width": null,
            "min_width": null,
            "border": null,
            "align_items": null,
            "bottom": null,
            "_model_module": "@jupyter-widgets/base",
            "top": null,
            "grid_column": null,
            "overflow_y": null,
            "overflow_x": null,
            "grid_auto_flow": null,
            "grid_area": null,
            "grid_template_columns": null,
            "flex": null,
            "_model_name": "LayoutModel",
            "justify_items": null,
            "grid_row": null,
            "max_height": null,
            "align_content": null,
            "visibility": null,
            "align_self": null,
            "height": null,
            "min_height": null,
            "padding": null,
            "grid_auto_rows": null,
            "grid_gap": null,
            "max_width": null,
            "order": null,
            "_view_module_version": "1.2.0",
            "grid_template_areas": null,
            "object_position": null,
            "object_fit": null,
            "grid_auto_columns": null,
            "margin": null,
            "display": null,
            "left": null
          }
        },
        "163ef05081b94bbf91f7905950173e01": {
          "model_module": "@jupyter-widgets/controls",
          "model_name": "DescriptionStyleModel",
          "state": {
            "_view_name": "StyleView",
            "_model_name": "DescriptionStyleModel",
            "description_width": "",
            "_view_module": "@jupyter-widgets/base",
            "_model_module_version": "1.5.0",
            "_view_count": null,
            "_view_module_version": "1.2.0",
            "_model_module": "@jupyter-widgets/controls"
          }
        },
        "e9639514670b43539c99fc68d8574746": {
          "model_module": "@jupyter-widgets/base",
          "model_name": "LayoutModel",
          "state": {
            "_view_name": "LayoutView",
            "grid_template_rows": null,
            "right": null,
            "justify_content": null,
            "_view_module": "@jupyter-widgets/base",
            "overflow": null,
            "_model_module_version": "1.2.0",
            "_view_count": null,
            "flex_flow": null,
            "width": null,
            "min_width": null,
            "border": null,
            "align_items": null,
            "bottom": null,
            "_model_module": "@jupyter-widgets/base",
            "top": null,
            "grid_column": null,
            "overflow_y": null,
            "overflow_x": null,
            "grid_auto_flow": null,
            "grid_area": null,
            "grid_template_columns": null,
            "flex": null,
            "_model_name": "LayoutModel",
            "justify_items": null,
            "grid_row": null,
            "max_height": null,
            "align_content": null,
            "visibility": null,
            "align_self": null,
            "height": null,
            "min_height": null,
            "padding": null,
            "grid_auto_rows": null,
            "grid_gap": null,
            "max_width": null,
            "order": null,
            "_view_module_version": "1.2.0",
            "grid_template_areas": null,
            "object_position": null,
            "object_fit": null,
            "grid_auto_columns": null,
            "margin": null,
            "display": null,
            "left": null
          }
        }
      }
    }
  },
  "cells": [
    {
      "cell_type": "markdown",
      "metadata": {
        "id": "YW0SVNhPKn4O"
      },
      "source": [
        "#Sahil's space"
      ]
    },
    {
      "cell_type": "markdown",
      "metadata": {
        "id": "eNxzg2gnLQKC"
      },
      "source": [
        "## Imports and data "
      ]
    },
    {
      "cell_type": "code",
      "metadata": {
        "colab": {
          "base_uri": "https://localhost:8080/"
        },
        "id": "WCaujT1xfxQH",
        "outputId": "f19694ae-d4cf-4d9d-e7cd-9e7e223579de"
      },
      "source": [
        "!pip install segmentation-models-pytorch"
      ],
      "execution_count": null,
      "outputs": [
        {
          "output_type": "stream",
          "text": [
            "Collecting segmentation-models-pytorch\n",
            "\u001b[?25l  Downloading https://files.pythonhosted.org/packages/65/54/8953f9f7ee9d451b0f3be8d635aa3a654579abf898d17502a090efe1155a/segmentation_models_pytorch-0.1.3-py3-none-any.whl (66kB)\n",
            "\r\u001b[K     |█████                           | 10kB 14.1MB/s eta 0:00:01\r\u001b[K     |██████████                      | 20kB 2.0MB/s eta 0:00:01\r\u001b[K     |██████████████▉                 | 30kB 2.9MB/s eta 0:00:01\r\u001b[K     |███████████████████▉            | 40kB 3.8MB/s eta 0:00:01\r\u001b[K     |████████████████████████▉       | 51kB 4.6MB/s eta 0:00:01\r\u001b[K     |█████████████████████████████▊  | 61kB 5.4MB/s eta 0:00:01\r\u001b[K     |████████████████████████████████| 71kB 3.8MB/s \n",
            "\u001b[?25hCollecting efficientnet-pytorch==0.6.3\n",
            "  Downloading https://files.pythonhosted.org/packages/b8/cb/0309a6e3d404862ae4bc017f89645cf150ac94c14c88ef81d215c8e52925/efficientnet_pytorch-0.6.3.tar.gz\n",
            "Requirement already satisfied: torchvision>=0.3.0 in /usr/local/lib/python3.7/dist-packages (from segmentation-models-pytorch) (0.9.1+cu101)\n",
            "Collecting pretrainedmodels==0.7.4\n",
            "\u001b[?25l  Downloading https://files.pythonhosted.org/packages/84/0e/be6a0e58447ac16c938799d49bfb5fb7a80ac35e137547fc6cee2c08c4cf/pretrainedmodels-0.7.4.tar.gz (58kB)\n",
            "\u001b[K     |████████████████████████████████| 61kB 6.9MB/s \n",
            "\u001b[?25hCollecting timm==0.3.2\n",
            "\u001b[?25l  Downloading https://files.pythonhosted.org/packages/51/2d/39ecc56fbb202e1891c317e8e44667299bc3b0762ea2ed6aaaa2c2f6613c/timm-0.3.2-py3-none-any.whl (244kB)\n",
            "\u001b[K     |████████████████████████████████| 245kB 33.1MB/s \n",
            "\u001b[?25hRequirement already satisfied: torch in /usr/local/lib/python3.7/dist-packages (from efficientnet-pytorch==0.6.3->segmentation-models-pytorch) (1.8.1+cu101)\n",
            "Requirement already satisfied: pillow>=4.1.1 in /usr/local/lib/python3.7/dist-packages (from torchvision>=0.3.0->segmentation-models-pytorch) (7.1.2)\n",
            "Requirement already satisfied: numpy in /usr/local/lib/python3.7/dist-packages (from torchvision>=0.3.0->segmentation-models-pytorch) (1.19.5)\n",
            "Collecting munch\n",
            "  Downloading https://files.pythonhosted.org/packages/cc/ab/85d8da5c9a45e072301beb37ad7f833cd344e04c817d97e0cc75681d248f/munch-2.5.0-py2.py3-none-any.whl\n",
            "Requirement already satisfied: tqdm in /usr/local/lib/python3.7/dist-packages (from pretrainedmodels==0.7.4->segmentation-models-pytorch) (4.41.1)\n",
            "Requirement already satisfied: typing-extensions in /usr/local/lib/python3.7/dist-packages (from torch->efficientnet-pytorch==0.6.3->segmentation-models-pytorch) (3.7.4.3)\n",
            "Requirement already satisfied: six in /usr/local/lib/python3.7/dist-packages (from munch->pretrainedmodels==0.7.4->segmentation-models-pytorch) (1.15.0)\n",
            "Building wheels for collected packages: efficientnet-pytorch, pretrainedmodels\n",
            "  Building wheel for efficientnet-pytorch (setup.py) ... \u001b[?25l\u001b[?25hdone\n",
            "  Created wheel for efficientnet-pytorch: filename=efficientnet_pytorch-0.6.3-cp37-none-any.whl size=12420 sha256=fb56d408d73e0d1f078166f5197d7119d247fecfc1c097d25c9bb9c1973ce500\n",
            "  Stored in directory: /root/.cache/pip/wheels/42/1e/a9/2a578ba9ad04e776e80bf0f70d8a7f4c29ec0718b92d8f6ccd\n",
            "  Building wheel for pretrainedmodels (setup.py) ... \u001b[?25l\u001b[?25hdone\n",
            "  Created wheel for pretrainedmodels: filename=pretrainedmodels-0.7.4-cp37-none-any.whl size=60963 sha256=c99027260db500e2f46930ab6704bada8e411e9a5c31dace60b874c4de0a7e0c\n",
            "  Stored in directory: /root/.cache/pip/wheels/69/df/63/62583c096289713f22db605aa2334de5b591d59861a02c2ecd\n",
            "Successfully built efficientnet-pytorch pretrainedmodels\n",
            "Installing collected packages: efficientnet-pytorch, munch, pretrainedmodels, timm, segmentation-models-pytorch\n",
            "Successfully installed efficientnet-pytorch-0.6.3 munch-2.5.0 pretrainedmodels-0.7.4 segmentation-models-pytorch-0.1.3 timm-0.3.2\n"
          ],
          "name": "stdout"
        }
      ]
    },
    {
      "cell_type": "code",
      "metadata": {
        "id": "dfRTZPY7LMS4"
      },
      "source": [
        "################# IMPORT PACKAGES #############\n",
        "%matplotlib inline\n",
        "import os\n",
        "import sys\n",
        "import cv2\n",
        "import random\n",
        "import numpy as np\n",
        "from pathlib import Path\n",
        "import matplotlib.pyplot as plt\n",
        "from matplotlib import image\n",
        "from tqdm import tqdm\n",
        "import math\n",
        "from PIL import Image\n",
        "from google.colab.patches import cv2_imshow\n",
        "import sklearn\n",
        "from sklearn import model_selection\n",
        "from sklearn import metrics\n",
        "\n",
        "import torch\n",
        "import torch.nn as nn\n",
        "import torch.optim as optim\n",
        "from torch.optim import lr_scheduler\n",
        "from torch.utils.data import DataLoader\n",
        "import torch.nn as nn\n",
        "from collections import defaultdict\n",
        "import torchvision\n",
        "from torchvision import transforms\n",
        "import torch.nn.functional as F\n",
        "from tqdm.auto import tqdm\n",
        "from torch.utils.tensorboard import SummaryWriter\n",
        "\n",
        "import segmentation_models_pytorch \n",
        "\n",
        "import albumentations as A\n",
        "#from albumentations.pytorch import ToTensorV2\n",
        "from albumentations.pytorch.transforms import ToTensor"
      ],
      "execution_count": null,
      "outputs": []
    },
    {
      "cell_type": "markdown",
      "metadata": {
        "id": "--lXT06qLXIZ"
      },
      "source": [
        "##To get the data:<br>\n",
        "Track 1: https://drive.google.com/drive/folders/1sZZMJkbqJNbHgebKvHzcXYZHJd6ss4tH <br>\n",
        "Track 2: https://drive.google.com/drive/folders/1g1r419bWBe4GEF-7si5DqWCjxiC8ErnY <br>\n",
        "Open and add shortcut to MyDrive"
      ]
    },
    {
      "cell_type": "code",
      "metadata": {
        "colab": {
          "base_uri": "https://localhost:8080/"
        },
        "id": "fi9Orq4A7w1q",
        "outputId": "993f8491-3360-4855-a5d7-cb25cc6f2035"
      },
      "source": [
        "################ MOUNTING DRIVE ##################\n",
        "from google.colab import drive\n",
        "drive.mount('/content/drive')"
      ],
      "execution_count": null,
      "outputs": [
        {
          "output_type": "stream",
          "text": [
            "Mounted at /content/drive\n"
          ],
          "name": "stdout"
        }
      ]
    },
    {
      "cell_type": "code",
      "metadata": {
        "colab": {
          "base_uri": "https://localhost:8080/"
        },
        "id": "S8ubA5U16FeE",
        "outputId": "6628952d-2372-4fbd-dbb1-457999478ae7"
      },
      "source": [
        "!unzip /content/drive/MyDrive/512_Images/512_Images.zip"
      ],
      "execution_count": null,
      "outputs": [
        {
          "output_type": "stream",
          "text": [
            "Archive:  /content/drive/MyDrive/512_Images/512_Images.zip\n",
            "   creating: 512_Images/\n",
            "   creating: 512_Images/Test/\n",
            "   creating: 512_Images/Test/image/\n",
            "  inflating: 512_Images/Test/image/10823.jpg  \n",
            "  inflating: 512_Images/Test/image/7611.jpg  \n",
            "  inflating: 512_Images/Test/image/8007.jpg  \n",
            "  inflating: 512_Images/Test/image/7652.jpg  \n",
            "  inflating: 512_Images/Test/image/7730.jpg  \n",
            "  inflating: 512_Images/Test/image/6671.jpg  \n",
            "  inflating: 512_Images/Test/image/8391.jpg  \n",
            "  inflating: 512_Images/Test/image/9886.jpg  \n",
            "  inflating: 512_Images/Test/image/7874.jpg  \n",
            "  inflating: 512_Images/Test/image/8544.jpg  \n",
            "  inflating: 512_Images/Test/image/7029.jpg  \n",
            "  inflating: 512_Images/Test/image/8376.jpg  \n",
            "  inflating: 512_Images/Test/image/7031.jpg  \n",
            "  inflating: 512_Images/Test/image/8494.jpg  \n",
            "  inflating: 512_Images/Test/image/6353.jpg  \n",
            "  inflating: 512_Images/Test/image/9113.jpg  \n",
            "  inflating: 512_Images/Test/image/8542.jpg  \n",
            "  inflating: 512_Images/Test/image/8154.jpg  \n",
            "  inflating: 512_Images/Test/image/10164.jpg  \n",
            "  inflating: 512_Images/Test/image/9891.jpg  \n",
            "  inflating: 512_Images/Test/image/8316.jpg  \n",
            "  inflating: 512_Images/Test/image/7698.jpg  \n",
            "  inflating: 512_Images/Test/image/7431.jpg  \n",
            "  inflating: 512_Images/Test/image/8601.jpg  \n",
            "  inflating: 512_Images/Test/image/6717.jpg  \n",
            "  inflating: 512_Images/Test/image/8201.jpg  \n",
            "  inflating: 512_Images/Test/image/8514.jpg  \n",
            "  inflating: 512_Images/Test/image/8100.jpg  \n",
            "  inflating: 512_Images/Test/image/6583.jpg  \n",
            "  inflating: 512_Images/Test/image/8949.jpg  \n",
            "  inflating: 512_Images/Test/image/7740.jpg  \n",
            "  inflating: 512_Images/Test/image/7063.jpg  \n",
            "  inflating: 512_Images/Test/image/7866.jpg  \n",
            "  inflating: 512_Images/Test/image/6567.jpg  \n",
            "  inflating: 512_Images/Test/image/8942.jpg  \n",
            "  inflating: 512_Images/Test/image/8397.jpg  \n",
            "  inflating: 512_Images/Test/image/9055.jpg  \n",
            "  inflating: 512_Images/Test/image/6624.jpg  \n",
            "  inflating: 512_Images/Test/image/8140.jpg  \n",
            "  inflating: 512_Images/Test/image/7839.jpg  \n",
            "  inflating: 512_Images/Test/image/6362.jpg  \n",
            "  inflating: 512_Images/Test/image/7590.jpg  \n",
            "  inflating: 512_Images/Test/image/7821.jpg  \n",
            "  inflating: 512_Images/Test/image/8557.jpg  \n",
            "  inflating: 512_Images/Test/image/8233.jpg  \n",
            "  inflating: 512_Images/Test/image/7946.jpg  \n",
            "  inflating: 512_Images/Test/image/6786.jpg  \n",
            "  inflating: 512_Images/Test/image/6952.jpg  \n",
            "  inflating: 512_Images/Test/image/7911.jpg  \n",
            "  inflating: 512_Images/Test/image/7794.jpg  \n",
            "  inflating: 512_Images/Test/image/8104.jpg  \n",
            "  inflating: 512_Images/Test/image/8781.jpg  \n",
            "  inflating: 512_Images/Test/image/8199.jpg  \n",
            "  inflating: 512_Images/Test/image/8302.jpg  \n",
            "  inflating: 512_Images/Test/image/8103.jpg  \n",
            "  inflating: 512_Images/Test/image/8364.jpg  \n",
            "  inflating: 512_Images/Test/image/8073.jpg  \n",
            "  inflating: 512_Images/Test/image/8041.jpg  \n",
            "  inflating: 512_Images/Test/image/10167.jpg  \n",
            "  inflating: 512_Images/Test/image/7813.jpg  \n",
            "  inflating: 512_Images/Test/image/8541.jpg  \n",
            "  inflating: 512_Images/Test/image/8308.jpg  \n",
            "  inflating: 512_Images/Test/image/9883.jpg  \n",
            "  inflating: 512_Images/Test/image/6765.jpg  \n",
            "  inflating: 512_Images/Test/image/7105.jpg  \n",
            "  inflating: 512_Images/Test/image/8930.jpg  \n",
            "  inflating: 512_Images/Test/image/7595.jpg  \n",
            "  inflating: 512_Images/Test/image/6405.jpg  \n",
            "  inflating: 512_Images/Test/image/7361.jpg  \n",
            "  inflating: 512_Images/Test/image/8293.jpg  \n",
            "  inflating: 512_Images/Test/image/7241.jpg  \n",
            "  inflating: 512_Images/Test/image/7301.jpg  \n",
            "  inflating: 512_Images/Test/image/8773.jpg  \n",
            "  inflating: 512_Images/Test/image/6514.jpg  \n",
            "  inflating: 512_Images/Test/image/6568.jpg  \n",
            "  inflating: 512_Images/Test/image/8031.jpg  \n",
            "  inflating: 512_Images/Test/image/6827.jpg  \n",
            "  inflating: 512_Images/Test/image/8160.jpg  \n",
            "  inflating: 512_Images/Test/image/9018.jpg  \n",
            "  inflating: 512_Images/Test/image/7333.jpg  \n",
            "  inflating: 512_Images/Test/image/6412.jpg  \n",
            "  inflating: 512_Images/Test/image/6898.jpg  \n",
            "  inflating: 512_Images/Test/image/6785.jpg  \n",
            "  inflating: 512_Images/Test/image/7904.jpg  \n",
            "  inflating: 512_Images/Test/image/6550.jpg  \n",
            "  inflating: 512_Images/Test/image/7780.jpg  \n",
            "  inflating: 512_Images/Test/image/6420.jpg  \n",
            "  inflating: 512_Images/Test/image/8860.jpg  \n",
            "  inflating: 512_Images/Test/image/6558.jpg  \n",
            "  inflating: 512_Images/Test/image/6795.jpg  \n",
            "  inflating: 512_Images/Test/image/9058.jpg  \n",
            "  inflating: 512_Images/Test/image/8378.jpg  \n",
            "  inflating: 512_Images/Test/image/7233.jpg  \n",
            "  inflating: 512_Images/Test/image/9109.jpg  \n",
            "  inflating: 512_Images/Test/image/9042.jpg  \n",
            "  inflating: 512_Images/Test/image/7300.jpg  \n",
            "  inflating: 512_Images/Test/image/8194.jpg  \n",
            "  inflating: 512_Images/Test/image/8310.jpg  \n",
            "  inflating: 512_Images/Test/image/9044.jpg  \n",
            "  inflating: 512_Images/Test/image/7268.jpg  \n",
            "  inflating: 512_Images/Test/image/9889.jpg  \n",
            "  inflating: 512_Images/Test/image/6383.jpg  \n",
            "  inflating: 512_Images/Test/image/7772.jpg  \n",
            "  inflating: 512_Images/Test/image/8919.jpg  \n",
            "  inflating: 512_Images/Test/image/7486.jpg  \n",
            "  inflating: 512_Images/Test/image/8343.jpg  \n",
            "  inflating: 512_Images/Test/image/8170.jpg  \n",
            "  inflating: 512_Images/Test/image/7149.jpg  \n",
            "  inflating: 512_Images/Test/image/8279.jpg  \n",
            "  inflating: 512_Images/Test/image/7957.jpg  \n",
            "  inflating: 512_Images/Test/image/7757.jpg  \n",
            "  inflating: 512_Images/Test/image/6954.jpg  \n",
            "  inflating: 512_Images/Test/image/7771.jpg  \n",
            "  inflating: 512_Images/Test/image/7348.jpg  \n",
            "  inflating: 512_Images/Test/image/6394.jpg  \n",
            "  inflating: 512_Images/Test/image/8812.jpg  \n",
            "  inflating: 512_Images/Test/image/6562.jpg  \n",
            "  inflating: 512_Images/Test/image/6371.jpg  \n",
            "  inflating: 512_Images/Test/image/9096.jpg  \n",
            "  inflating: 512_Images/Test/image/10163.jpg  \n",
            "  inflating: 512_Images/Test/image/7323.jpg  \n",
            "  inflating: 512_Images/Test/image/9056.jpg  \n",
            "  inflating: 512_Images/Test/image/8462.jpg  \n",
            "  inflating: 512_Images/Test/image/7986.jpg  \n",
            "  inflating: 512_Images/Test/image/6959.jpg  \n",
            "  inflating: 512_Images/Test/image/7983.jpg  \n",
            "  inflating: 512_Images/Test/image/9344.jpg  \n",
            "  inflating: 512_Images/Test/image/8259.jpg  \n",
            "  inflating: 512_Images/Test/image/6336.jpg  \n",
            "  inflating: 512_Images/Test/image/6638.jpg  \n",
            "  inflating: 512_Images/Test/image/6536.jpg  \n",
            "  inflating: 512_Images/Test/image/8401.jpg  \n",
            "  inflating: 512_Images/Test/image/6632.jpg  \n",
            "  inflating: 512_Images/Test/image/7690.jpg  \n",
            "  inflating: 512_Images/Test/image/7758.jpg  \n",
            "  inflating: 512_Images/Test/image/8934.jpg  \n",
            "  inflating: 512_Images/Test/image/7172.jpg  \n",
            "  inflating: 512_Images/Test/image/7141.jpg  \n",
            "  inflating: 512_Images/Test/image/9068.jpg  \n",
            "  inflating: 512_Images/Test/image/6920.jpg  \n",
            "  inflating: 512_Images/Test/image/7928.jpg  \n",
            "  inflating: 512_Images/Test/image/6910.jpg  \n",
            "  inflating: 512_Images/Test/image/6896.jpg  \n",
            "  inflating: 512_Images/Test/image/7359.jpg  \n",
            "  inflating: 512_Images/Test/image/6594.jpg  \n",
            "  inflating: 512_Images/Test/image/10813.jpg  \n",
            "  inflating: 512_Images/Test/image/6391.jpg  \n",
            "  inflating: 512_Images/Test/image/8961.jpg  \n",
            "  inflating: 512_Images/Test/image/7759.jpg  \n",
            "  inflating: 512_Images/Test/image/8525.jpg  \n",
            "  inflating: 512_Images/Test/image/8428.jpg  \n",
            "  inflating: 512_Images/Test/image/7853.jpg  \n",
            "  inflating: 512_Images/Test/image/6794.jpg  \n",
            "  inflating: 512_Images/Test/image/6733.jpg  \n",
            "  inflating: 512_Images/Test/image/6679.jpg  \n",
            "  inflating: 512_Images/Test/image/8292.jpg  \n",
            "  inflating: 512_Images/Test/image/7420.jpg  \n",
            "  inflating: 512_Images/Test/image/8592.jpg  \n",
            "  inflating: 512_Images/Test/image/6809.jpg  \n",
            "  inflating: 512_Images/Test/image/6389.jpg  \n",
            "  inflating: 512_Images/Test/image/7773.jpg  \n",
            "  inflating: 512_Images/Test/image/7191.jpg  \n",
            "  inflating: 512_Images/Test/image/6915.jpg  \n",
            "  inflating: 512_Images/Test/image/10808.jpg  \n",
            "  inflating: 512_Images/Test/image/7684.jpg  \n",
            "  inflating: 512_Images/Test/image/9092.jpg  \n",
            "  inflating: 512_Images/Test/image/8136.jpg  \n",
            "  inflating: 512_Images/Test/image/8203.jpg  \n",
            "  inflating: 512_Images/Test/image/9721.jpg  \n",
            "  inflating: 512_Images/Test/image/6659.jpg  \n",
            "  inflating: 512_Images/Test/image/7464.jpg  \n",
            "  inflating: 512_Images/Test/image/7154.jpg  \n",
            "  inflating: 512_Images/Test/image/7294.jpg  \n",
            "  inflating: 512_Images/Test/image/7126.jpg  \n",
            "  inflating: 512_Images/Test/image/8983.jpg  \n",
            "  inflating: 512_Images/Test/image/8195.jpg  \n",
            "  inflating: 512_Images/Test/image/8530.jpg  \n",
            "  inflating: 512_Images/Test/image/10183.jpg  \n",
            "  inflating: 512_Images/Test/image/10838.jpg  \n",
            "  inflating: 512_Images/Test/image/8324.jpg  \n",
            "  inflating: 512_Images/Test/image/6751.jpg  \n",
            "  inflating: 512_Images/Test/image/8363.jpg  \n",
            "  inflating: 512_Images/Test/image/7803.jpg  \n",
            "  inflating: 512_Images/Test/image/9082.jpg  \n",
            "  inflating: 512_Images/Test/image/7220.jpg  \n",
            "  inflating: 512_Images/Test/image/7054.jpg  \n",
            "  inflating: 512_Images/Test/image/7092.jpg  \n",
            "  inflating: 512_Images/Test/image/8048.jpg  \n",
            "  inflating: 512_Images/Test/image/7689.jpg  \n",
            "  inflating: 512_Images/Test/image/6774.jpg  \n",
            "  inflating: 512_Images/Test/image/9009.jpg  \n",
            "  inflating: 512_Images/Test/image/9032.jpg  \n",
            "  inflating: 512_Images/Test/image/9112.jpg  \n",
            "  inflating: 512_Images/Test/image/6895.jpg  \n",
            "  inflating: 512_Images/Test/image/7743.jpg  \n",
            "  inflating: 512_Images/Test/image/8262.jpg  \n",
            "  inflating: 512_Images/Test/image/8898.jpg  \n",
            "  inflating: 512_Images/Test/image/7927.jpg  \n",
            "  inflating: 512_Images/Test/image/6761.jpg  \n",
            "  inflating: 512_Images/Test/image/6452.jpg  \n",
            "  inflating: 512_Images/Test/image/6815.jpg  \n",
            "  inflating: 512_Images/Test/image/7423.jpg  \n",
            "  inflating: 512_Images/Test/image/7213.jpg  \n",
            "  inflating: 512_Images/Test/image/6688.jpg  \n",
            "  inflating: 512_Images/Test/image/8778.jpg  \n",
            "  inflating: 512_Images/Test/image/7583.jpg  \n",
            "  inflating: 512_Images/Test/image/7877.jpg  \n",
            "  inflating: 512_Images/Test/image/8126.jpg  \n",
            "  inflating: 512_Images/Test/image/10814.jpg  \n",
            "  inflating: 512_Images/Test/image/8399.jpg  \n",
            "  inflating: 512_Images/Test/image/7593.jpg  \n",
            "  inflating: 512_Images/Test/image/8040.jpg  \n",
            "  inflating: 512_Images/Test/image/7985.jpg  \n",
            "  inflating: 512_Images/Test/image/8290.jpg  \n",
            "  inflating: 512_Images/Test/image/7406.jpg  \n",
            "  inflating: 512_Images/Test/image/8511.jpg  \n",
            "  inflating: 512_Images/Test/image/7041.jpg  \n",
            "  inflating: 512_Images/Test/image/6825.jpg  \n",
            "  inflating: 512_Images/Test/image/8022.jpg  \n",
            "  inflating: 512_Images/Test/image/6593.jpg  \n",
            "  inflating: 512_Images/Test/image/8183.jpg  \n",
            "  inflating: 512_Images/Test/image/8211.jpg  \n",
            "  inflating: 512_Images/Test/image/8912.jpg  \n",
            "  inflating: 512_Images/Test/image/7723.jpg  \n",
            "  inflating: 512_Images/Test/image/7733.jpg  \n",
            "  inflating: 512_Images/Test/image/8356.jpg  \n",
            "  inflating: 512_Images/Test/image/7284.jpg  \n",
            "  inflating: 512_Images/Test/image/7279.jpg  \n",
            "  inflating: 512_Images/Test/image/8776.jpg  \n",
            "  inflating: 512_Images/Test/image/7605.jpg  \n",
            "  inflating: 512_Images/Test/image/7903.jpg  \n",
            "  inflating: 512_Images/Test/image/6445.jpg  \n",
            "  inflating: 512_Images/Test/image/8026.jpg  \n",
            "  inflating: 512_Images/Test/image/8981.jpg  \n",
            "  inflating: 512_Images/Test/image/9045.jpg  \n",
            "  inflating: 512_Images/Test/image/7658.jpg  \n",
            "  inflating: 512_Images/Test/image/6850.jpg  \n",
            "  inflating: 512_Images/Test/image/8558.jpg  \n",
            "  inflating: 512_Images/Test/image/8162.jpg  \n",
            "  inflating: 512_Images/Test/image/8533.jpg  \n",
            "  inflating: 512_Images/Test/image/6488.jpg  \n",
            "  inflating: 512_Images/Test/image/8767.jpg  \n",
            "  inflating: 512_Images/Test/image/8945.jpg  \n",
            "  inflating: 512_Images/Test/image/7415.jpg  \n",
            "  inflating: 512_Images/Test/image/7763.jpg  \n",
            "  inflating: 512_Images/Test/image/8402.jpg  \n",
            "  inflating: 512_Images/Test/image/6718.jpg  \n",
            "  inflating: 512_Images/Test/image/6780.jpg  \n",
            "  inflating: 512_Images/Test/image/6545.jpg  \n",
            "  inflating: 512_Images/Test/image/7215.jpg  \n",
            "  inflating: 512_Images/Test/image/8440.jpg  \n",
            "  inflating: 512_Images/Test/image/6844.jpg  \n",
            "  inflating: 512_Images/Test/image/8959.jpg  \n",
            "  inflating: 512_Images/Test/image/7906.jpg  \n",
            "  inflating: 512_Images/Test/image/9878.jpg  \n",
            "  inflating: 512_Images/Test/image/9013.jpg  \n",
            "  inflating: 512_Images/Test/image/7355.jpg  \n",
            "  inflating: 512_Images/Test/image/7822.jpg  \n",
            "  inflating: 512_Images/Test/image/7889.jpg  \n",
            "  inflating: 512_Images/Test/image/7450.jpg  \n",
            "  inflating: 512_Images/Test/image/7644.jpg  \n",
            "  inflating: 512_Images/Test/image/6342.jpg  \n",
            "  inflating: 512_Images/Test/image/7956.jpg  \n",
            "  inflating: 512_Images/Test/image/9037.jpg  \n",
            "  inflating: 512_Images/Test/image/6561.jpg  \n",
            "  inflating: 512_Images/Test/image/6449.jpg  \n",
            "  inflating: 512_Images/Test/image/7541.jpg  \n",
            "  inflating: 512_Images/Test/image/7057.jpg  \n",
            "  inflating: 512_Images/Test/image/7376.jpg  \n",
            "  inflating: 512_Images/Test/image/8362.jpg  \n",
            "  inflating: 512_Images/Test/image/7960.jpg  \n",
            "  inflating: 512_Images/Test/image/8307.jpg  \n",
            "  inflating: 512_Images/Test/image/7543.jpg  \n",
            "  inflating: 512_Images/Test/image/7413.jpg  \n",
            "  inflating: 512_Images/Test/image/8147.jpg  \n",
            "  inflating: 512_Images/Test/image/7880.jpg  \n",
            "  inflating: 512_Images/Test/image/7804.jpg  \n",
            "  inflating: 512_Images/Test/image/7921.jpg  \n",
            "  inflating: 512_Images/Test/image/7035.jpg  \n",
            "  inflating: 512_Images/Test/image/7016.jpg  \n",
            "  inflating: 512_Images/Test/image/7616.jpg  \n",
            "  inflating: 512_Images/Test/image/8341.jpg  \n",
            "  inflating: 512_Images/Test/image/8214.jpg  \n",
            "  inflating: 512_Images/Test/image/8814.jpg  \n",
            "  inflating: 512_Images/Test/image/6768.jpg  \n",
            "  inflating: 512_Images/Test/image/7223.jpg  \n",
            "  inflating: 512_Images/Test/image/6680.jpg  \n",
            "  inflating: 512_Images/Test/image/9060.jpg  \n",
            "  inflating: 512_Images/Test/image/8066.jpg  \n",
            "  inflating: 512_Images/Test/image/8543.jpg  \n",
            "  inflating: 512_Images/Test/image/8991.jpg  \n",
            "  inflating: 512_Images/Test/image/8027.jpg  \n",
            "  inflating: 512_Images/Test/image/7158.jpg  \n",
            "  inflating: 512_Images/Test/image/9054.jpg  \n",
            "  inflating: 512_Images/Test/image/6979.jpg  \n",
            "  inflating: 512_Images/Test/image/8112.jpg  \n",
            "  inflating: 512_Images/Test/image/10839.jpg  \n",
            "  inflating: 512_Images/Test/image/7232.jpg  \n",
            "  inflating: 512_Images/Test/image/6905.jpg  \n",
            "  inflating: 512_Images/Test/image/6602.jpg  \n",
            "  inflating: 512_Images/Test/image/6663.jpg  \n",
            "  inflating: 512_Images/Test/image/7817.jpg  \n",
            "  inflating: 512_Images/Test/image/8999.jpg  \n",
            "  inflating: 512_Images/Test/image/7307.jpg  \n",
            "  inflating: 512_Images/Test/image/8028.jpg  \n",
            "  inflating: 512_Images/Test/image/8332.jpg  \n",
            "  inflating: 512_Images/Test/image/8346.jpg  \n",
            "  inflating: 512_Images/Test/image/8339.jpg  \n",
            "  inflating: 512_Images/Test/image/8937.jpg  \n",
            "  inflating: 512_Images/Test/image/8372.jpg  \n",
            "  inflating: 512_Images/Test/image/9067.jpg  \n",
            "  inflating: 512_Images/Test/image/6831.jpg  \n",
            "  inflating: 512_Images/Test/image/7930.jpg  \n",
            "  inflating: 512_Images/Test/image/7042.jpg  \n",
            "  inflating: 512_Images/Test/image/7666.jpg  \n",
            "  inflating: 512_Images/Test/image/8329.jpg  \n",
            "  inflating: 512_Images/Test/image/7840.jpg  \n",
            "  inflating: 512_Images/Test/image/6419.jpg  \n",
            "  inflating: 512_Images/Test/image/8762.jpg  \n",
            "  inflating: 512_Images/Test/image/6619.jpg  \n",
            "  inflating: 512_Images/Test/image/7253.jpg  \n",
            "  inflating: 512_Images/Test/image/7023.jpg  \n",
            "  inflating: 512_Images/Test/image/9348.jpg  \n",
            "  inflating: 512_Images/Test/image/6557.jpg  \n",
            "  inflating: 512_Images/Test/image/7651.jpg  \n",
            "  inflating: 512_Images/Test/image/8309.jpg  \n",
            "  inflating: 512_Images/Test/image/7291.jpg  \n",
            "  inflating: 512_Images/Test/image/6775.jpg  \n",
            "  inflating: 512_Images/Test/image/8115.jpg  \n",
            "  inflating: 512_Images/Test/image/7812.jpg  \n",
            "  inflating: 512_Images/Test/image/6672.jpg  \n",
            "  inflating: 512_Images/Test/image/7315.jpg  \n",
            "  inflating: 512_Images/Test/image/9539.jpg  \n",
            "  inflating: 512_Images/Test/image/8219.jpg  \n",
            "  inflating: 512_Images/Test/image/7308.jpg  \n",
            "  inflating: 512_Images/Test/image/8064.jpg  \n",
            "  inflating: 512_Images/Test/image/9012.jpg  \n",
            "  inflating: 512_Images/Test/image/7069.jpg  \n",
            "  inflating: 512_Images/Test/image/8338.jpg  \n",
            "  inflating: 512_Images/Test/image/7370.jpg  \n",
            "  inflating: 512_Images/Test/image/6677.jpg  \n",
            "  inflating: 512_Images/Test/image/9002.jpg  \n",
            "  inflating: 512_Images/Test/image/6778.jpg  \n",
            "  inflating: 512_Images/Test/image/6927.jpg  \n",
            "  inflating: 512_Images/Test/image/7708.jpg  \n",
            "  inflating: 512_Images/Test/image/7231.jpg  \n",
            "  inflating: 512_Images/Test/image/6906.jpg  \n",
            "  inflating: 512_Images/Test/image/8784.jpg  \n",
            "  inflating: 512_Images/Test/image/8789.jpg  \n",
            "  inflating: 512_Images/Test/image/8250.jpg  \n",
            "  inflating: 512_Images/Test/image/9006.jpg  \n",
            "  inflating: 512_Images/Test/image/7995.jpg  \n",
            "  inflating: 512_Images/Test/image/7964.jpg  \n",
            "  inflating: 512_Images/Test/image/7935.jpg  \n",
            "  inflating: 512_Images/Test/image/6856.jpg  \n",
            "  inflating: 512_Images/Test/image/6744.jpg  \n",
            "  inflating: 512_Images/Test/image/8125.jpg  \n",
            "  inflating: 512_Images/Test/image/7899.jpg  \n",
            "  inflating: 512_Images/Test/image/7586.jpg  \n",
            "  inflating: 512_Images/Test/image/7755.jpg  \n",
            "  inflating: 512_Images/Test/image/6907.jpg  \n",
            "  inflating: 512_Images/Test/image/9231.jpg  \n",
            "  inflating: 512_Images/Test/image/6771.jpg  \n",
            "  inflating: 512_Images/Test/image/8989.jpg  \n",
            "  inflating: 512_Images/Test/image/6476.jpg  \n",
            "  inflating: 512_Images/Test/image/8111.jpg  \n",
            "  inflating: 512_Images/Test/image/9872.jpg  \n",
            "  inflating: 512_Images/Test/image/7004.jpg  \n",
            "  inflating: 512_Images/Test/image/8792.jpg  \n",
            "  inflating: 512_Images/Test/image/6468.jpg  \n",
            "  inflating: 512_Images/Test/image/6695.jpg  \n",
            "  inflating: 512_Images/Test/image/7320.jpg  \n",
            "  inflating: 512_Images/Test/image/8795.jpg  \n",
            "  inflating: 512_Images/Test/image/9001.jpg  \n",
            "  inflating: 512_Images/Test/image/6700.jpg  \n",
            "  inflating: 512_Images/Test/image/8523.jpg  \n",
            "  inflating: 512_Images/Test/image/7577.jpg  \n",
            "  inflating: 512_Images/Test/image/10829.jpg  \n",
            "  inflating: 512_Images/Test/image/6951.jpg  \n",
            "  inflating: 512_Images/Test/image/7915.jpg  \n",
            "  inflating: 512_Images/Test/image/7926.jpg  \n",
            "  inflating: 512_Images/Test/image/7476.jpg  \n",
            "  inflating: 512_Images/Test/image/9004.jpg  \n",
            "  inflating: 512_Images/Test/image/8902.jpg  \n",
            "  inflating: 512_Images/Test/image/7835.jpg  \n",
            "  inflating: 512_Images/Test/image/10812.jpg  \n",
            "  inflating: 512_Images/Test/image/9107.jpg  \n",
            "  inflating: 512_Images/Test/image/7961.jpg  \n",
            "  inflating: 512_Images/Test/image/9367.jpg  \n",
            "  inflating: 512_Images/Test/image/8062.jpg  \n",
            "  inflating: 512_Images/Test/image/8367.jpg  \n",
            "  inflating: 512_Images/Test/image/7581.jpg  \n",
            "  inflating: 512_Images/Test/image/8815.jpg  \n",
            "  inflating: 512_Images/Test/image/6912.jpg  \n",
            "  inflating: 512_Images/Test/image/7085.jpg  \n",
            "  inflating: 512_Images/Test/image/8447.jpg  \n",
            "  inflating: 512_Images/Test/image/8018.jpg  \n",
            "  inflating: 512_Images/Test/image/7997.jpg  \n",
            "  inflating: 512_Images/Test/image/8169.jpg  \n",
            "  inflating: 512_Images/Test/image/7969.jpg  \n",
            "  inflating: 512_Images/Test/image/7876.jpg  \n",
            "  inflating: 512_Images/Test/image/8926.jpg  \n",
            "  inflating: 512_Images/Test/image/6377.jpg  \n",
            "  inflating: 512_Images/Test/image/9035.jpg  \n",
            "  inflating: 512_Images/Test/image/7339.jpg  \n",
            "  inflating: 512_Images/Test/image/7881.jpg  \n",
            "  inflating: 512_Images/Test/image/8017.jpg  \n",
            "  inflating: 512_Images/Test/image/7584.jpg  \n",
            "  inflating: 512_Images/Test/image/7888.jpg  \n",
            "  inflating: 512_Images/Test/image/7604.jpg  \n",
            "  inflating: 512_Images/Test/image/8237.jpg  \n",
            "  inflating: 512_Images/Test/image/6517.jpg  \n",
            "  inflating: 512_Images/Test/image/10174.jpg  \n",
            "  inflating: 512_Images/Test/image/7647.jpg  \n",
            "  inflating: 512_Images/Test/image/8948.jpg  \n",
            "  inflating: 512_Images/Test/image/8486.jpg  \n",
            "  inflating: 512_Images/Test/image/8478.jpg  \n",
            "  inflating: 512_Images/Test/image/8303.jpg  \n",
            "  inflating: 512_Images/Test/image/7457.jpg  \n",
            "  inflating: 512_Images/Test/image/8797.jpg  \n",
            "  inflating: 512_Images/Test/image/7143.jpg  \n",
            "  inflating: 512_Images/Test/image/10843.jpg  \n",
            "  inflating: 512_Images/Test/image/8439.jpg  \n",
            "  inflating: 512_Images/Test/image/8021.jpg  \n",
            "  inflating: 512_Images/Test/image/8287.jpg  \n",
            "  inflating: 512_Images/Test/image/6893.jpg  \n",
            "  inflating: 512_Images/Test/image/6553.jpg  \n",
            "  inflating: 512_Images/Test/image/8972.jpg  \n",
            "  inflating: 512_Images/Test/image/6590.jpg  \n",
            "  inflating: 512_Images/Test/image/6796.jpg  \n",
            "  inflating: 512_Images/Test/image/8358.jpg  \n",
            "  inflating: 512_Images/Test/image/7056.jpg  \n",
            "  inflating: 512_Images/Test/image/6963.jpg  \n",
            "  inflating: 512_Images/Test/image/7993.jpg  \n",
            "  inflating: 512_Images/Test/image/8076.jpg  \n",
            "  inflating: 512_Images/Test/image/8421.jpg  \n",
            "  inflating: 512_Images/Test/image/8340.jpg  \n",
            "  inflating: 512_Images/Test/image/6691.jpg  \n",
            "  inflating: 512_Images/Test/image/8810.jpg  \n",
            "  inflating: 512_Images/Test/image/11483.jpg  \n",
            "  inflating: 512_Images/Test/image/8993.jpg  \n",
            "  inflating: 512_Images/Test/image/8189.jpg  \n",
            "  inflating: 512_Images/Test/image/6417.jpg  \n",
            "  inflating: 512_Images/Test/image/6467.jpg  \n",
            "  inflating: 512_Images/Test/image/6961.jpg  \n",
            "  inflating: 512_Images/Test/image/9114.jpg  \n",
            "  inflating: 512_Images/Test/image/7461.jpg  \n",
            "  inflating: 512_Images/Test/image/8069.jpg  \n",
            "   creating: 512_Images/Train/\n",
            "   creating: 512_Images/Train/Labeled/\n",
            "   creating: 512_Images/Train/Labeled/Non-Flooded/\n",
            "   creating: 512_Images/Train/Labeled/Non-Flooded/image/\n",
            "  inflating: 512_Images/Train/Labeled/Non-Flooded/image/6750.jpg  \n",
            "  inflating: 512_Images/Train/Labeled/Non-Flooded/image/6788.jpg  \n",
            "  inflating: 512_Images/Train/Labeled/Non-Flooded/image/8412.jpg  \n",
            "  inflating: 512_Images/Train/Labeled/Non-Flooded/image/8405.jpg  \n",
            "  inflating: 512_Images/Train/Labeled/Non-Flooded/image/7931.jpg  \n",
            "  inflating: 512_Images/Train/Labeled/Non-Flooded/image/6586.jpg  \n",
            "  inflating: 512_Images/Train/Labeled/Non-Flooded/image/6842.jpg  \n",
            "  inflating: 512_Images/Train/Labeled/Non-Flooded/image/8159.jpg  \n",
            "  inflating: 512_Images/Train/Labeled/Non-Flooded/image/8106.jpg  \n",
            "  inflating: 512_Images/Train/Labeled/Non-Flooded/image/7014.jpg  \n",
            "  inflating: 512_Images/Train/Labeled/Non-Flooded/image/6595.jpg  \n",
            "  inflating: 512_Images/Train/Labeled/Non-Flooded/image/8074.jpg  \n",
            "  inflating: 512_Images/Train/Labeled/Non-Flooded/image/8094.jpg  \n",
            "  inflating: 512_Images/Train/Labeled/Non-Flooded/image/7178.jpg  \n",
            "  inflating: 512_Images/Train/Labeled/Non-Flooded/image/8242.jpg  \n",
            "  inflating: 512_Images/Train/Labeled/Non-Flooded/image/6773.jpg  \n",
            "  inflating: 512_Images/Train/Labeled/Non-Flooded/image/9876.jpg  \n",
            "  inflating: 512_Images/Train/Labeled/Non-Flooded/image/6370.jpg  \n",
            "  inflating: 512_Images/Train/Labeled/Non-Flooded/image/9351.jpg  \n",
            "  inflating: 512_Images/Train/Labeled/Non-Flooded/image/8895.jpg  \n",
            "  inflating: 512_Images/Train/Labeled/Non-Flooded/image/6421.jpg  \n",
            "  inflating: 512_Images/Train/Labeled/Non-Flooded/image/9036.jpg  \n",
            "  inflating: 512_Images/Train/Labeled/Non-Flooded/image/7882.jpg  \n",
            "  inflating: 512_Images/Train/Labeled/Non-Flooded/image/6649.jpg  \n",
            "  inflating: 512_Images/Train/Labeled/Non-Flooded/image/6999.jpg  \n",
            "  inflating: 512_Images/Train/Labeled/Non-Flooded/image/6454.jpg  \n",
            "  inflating: 512_Images/Train/Labeled/Non-Flooded/image/9070.jpg  \n",
            "  inflating: 512_Images/Train/Labeled/Non-Flooded/image/6838.jpg  \n",
            "  inflating: 512_Images/Train/Labeled/Non-Flooded/image/8243.jpg  \n",
            "  inflating: 512_Images/Train/Labeled/Non-Flooded/image/6430.jpg  \n",
            "  inflating: 512_Images/Train/Labeled/Non-Flooded/image/7650.jpg  \n",
            "  inflating: 512_Images/Train/Labeled/Non-Flooded/image/6843.jpg  \n",
            "  inflating: 512_Images/Train/Labeled/Non-Flooded/image/6829.jpg  \n",
            "  inflating: 512_Images/Train/Labeled/Non-Flooded/image/7046.jpg  \n",
            "  inflating: 512_Images/Train/Labeled/Non-Flooded/image/9083.jpg  \n",
            "  inflating: 512_Images/Train/Labeled/Non-Flooded/image/8061.jpg  \n",
            "  inflating: 512_Images/Train/Labeled/Non-Flooded/image/8928.jpg  \n",
            "  inflating: 512_Images/Train/Labeled/Non-Flooded/image/7925.jpg  \n",
            "  inflating: 512_Images/Train/Labeled/Non-Flooded/image/6839.jpg  \n",
            "  inflating: 512_Images/Train/Labeled/Non-Flooded/image/8068.jpg  \n",
            "  inflating: 512_Images/Train/Labeled/Non-Flooded/image/6465.jpg  \n",
            "  inflating: 512_Images/Train/Labeled/Non-Flooded/image/7033.jpg  \n",
            "  inflating: 512_Images/Train/Labeled/Non-Flooded/image/10811.jpg  \n",
            "  inflating: 512_Images/Train/Labeled/Non-Flooded/image/6855.jpg  \n",
            "  inflating: 512_Images/Train/Labeled/Non-Flooded/image/7654.jpg  \n",
            "  inflating: 512_Images/Train/Labeled/Non-Flooded/image/7727.jpg  \n",
            "  inflating: 512_Images/Train/Labeled/Non-Flooded/image/6656.jpg  \n",
            "  inflating: 512_Images/Train/Labeled/Non-Flooded/image/8119.jpg  \n",
            "  inflating: 512_Images/Train/Labeled/Non-Flooded/image/8940.jpg  \n",
            "  inflating: 512_Images/Train/Labeled/Non-Flooded/image/7917.jpg  \n",
            "  inflating: 512_Images/Train/Labeled/Non-Flooded/image/7789.jpg  \n",
            "  inflating: 512_Images/Train/Labeled/Non-Flooded/image/7808.jpg  \n",
            "  inflating: 512_Images/Train/Labeled/Non-Flooded/image/8102.jpg  \n",
            "  inflating: 512_Images/Train/Labeled/Non-Flooded/image/8500.jpg  \n",
            "  inflating: 512_Images/Train/Labeled/Non-Flooded/image/8185.jpg  \n",
            "  inflating: 512_Images/Train/Labeled/Non-Flooded/image/8510.jpg  \n",
            "  inflating: 512_Images/Train/Labeled/Non-Flooded/image/7053.jpg  \n",
            "  inflating: 512_Images/Train/Labeled/Non-Flooded/image/7982.jpg  \n",
            "  inflating: 512_Images/Train/Labeled/Non-Flooded/image/7829.jpg  \n",
            "  inflating: 512_Images/Train/Labeled/Non-Flooded/image/7083.jpg  \n",
            "  inflating: 512_Images/Train/Labeled/Non-Flooded/image/9069.jpg  \n",
            "  inflating: 512_Images/Train/Labeled/Non-Flooded/image/8775.jpg  \n",
            "  inflating: 512_Images/Train/Labeled/Non-Flooded/image/8334.jpg  \n",
            "  inflating: 512_Images/Train/Labeled/Non-Flooded/image/6812.jpg  \n",
            "  inflating: 512_Images/Train/Labeled/Non-Flooded/image/6368.jpg  \n",
            "  inflating: 512_Images/Train/Labeled/Non-Flooded/image/7100.jpg  \n",
            "  inflating: 512_Images/Train/Labeled/Non-Flooded/image/7184.jpg  \n",
            "  inflating: 512_Images/Train/Labeled/Non-Flooded/image/8398.jpg  \n",
            "  inflating: 512_Images/Train/Labeled/Non-Flooded/image/7965.jpg  \n",
            "  inflating: 512_Images/Train/Labeled/Non-Flooded/image/8426.jpg  \n",
            "  inflating: 512_Images/Train/Labeled/Non-Flooded/image/7078.jpg  \n",
            "  inflating: 512_Images/Train/Labeled/Non-Flooded/image/6477.jpg  \n",
            "  inflating: 512_Images/Train/Labeled/Non-Flooded/image/6623.jpg  \n",
            "  inflating: 512_Images/Train/Labeled/Non-Flooded/image/7972.jpg  \n",
            "  inflating: 512_Images/Train/Labeled/Non-Flooded/image/6924.jpg  \n",
            "  inflating: 512_Images/Train/Labeled/Non-Flooded/image/8210.jpg  \n",
            "  inflating: 512_Images/Train/Labeled/Non-Flooded/image/7802.jpg  \n",
            "  inflating: 512_Images/Train/Labeled/Non-Flooded/image/8475.jpg  \n",
            "  inflating: 512_Images/Train/Labeled/Non-Flooded/image/8247.jpg  \n",
            "  inflating: 512_Images/Train/Labeled/Non-Flooded/image/8394.jpg  \n",
            "  inflating: 512_Images/Train/Labeled/Non-Flooded/image/8805.jpg  \n",
            "  inflating: 512_Images/Train/Labeled/Non-Flooded/image/7671.jpg  \n",
            "  inflating: 512_Images/Train/Labeled/Non-Flooded/image/9365.jpg  \n",
            "  inflating: 512_Images/Train/Labeled/Non-Flooded/image/7914.jpg  \n",
            "  inflating: 512_Images/Train/Labeled/Non-Flooded/image/8342.jpg  \n",
            "  inflating: 512_Images/Train/Labeled/Non-Flooded/image/7867.jpg  \n",
            "  inflating: 512_Images/Train/Labeled/Non-Flooded/image/7749.jpg  \n",
            "  inflating: 512_Images/Train/Labeled/Non-Flooded/image/8429.jpg  \n",
            "  inflating: 512_Images/Train/Labeled/Non-Flooded/image/8137.jpg  \n",
            "  inflating: 512_Images/Train/Labeled/Non-Flooded/image/7039.jpg  \n",
            "  inflating: 512_Images/Train/Labeled/Non-Flooded/image/8538.jpg  \n",
            "  inflating: 512_Images/Train/Labeled/Non-Flooded/image/7010.jpg  \n",
            "  inflating: 512_Images/Train/Labeled/Non-Flooded/image/7980.jpg  \n",
            "  inflating: 512_Images/Train/Labeled/Non-Flooded/image/7713.jpg  \n",
            "  inflating: 512_Images/Train/Labeled/Non-Flooded/image/9040.jpg  \n",
            "  inflating: 512_Images/Train/Labeled/Non-Flooded/image/8244.jpg  \n",
            "  inflating: 512_Images/Train/Labeled/Non-Flooded/image/6459.jpg  \n",
            "  inflating: 512_Images/Train/Labeled/Non-Flooded/image/8488.jpg  \n",
            "  inflating: 512_Images/Train/Labeled/Non-Flooded/image/6960.jpg  \n",
            "  inflating: 512_Images/Train/Labeled/Non-Flooded/image/8057.jpg  \n",
            "  inflating: 512_Images/Train/Labeled/Non-Flooded/image/6395.jpg  \n",
            "  inflating: 512_Images/Train/Labeled/Non-Flooded/image/8361.jpg  \n",
            "  inflating: 512_Images/Train/Labeled/Non-Flooded/image/6338.jpg  \n",
            "  inflating: 512_Images/Train/Labeled/Non-Flooded/image/8443.jpg  \n",
            "  inflating: 512_Images/Train/Labeled/Non-Flooded/image/9884.jpg  \n",
            "  inflating: 512_Images/Train/Labeled/Non-Flooded/image/6585.jpg  \n",
            "  inflating: 512_Images/Train/Labeled/Non-Flooded/image/7077.jpg  \n",
            "  inflating: 512_Images/Train/Labeled/Non-Flooded/image/7944.jpg  \n",
            "  inflating: 512_Images/Train/Labeled/Non-Flooded/image/7998.jpg  \n",
            "  inflating: 512_Images/Train/Labeled/Non-Flooded/image/6555.jpg  \n",
            "  inflating: 512_Images/Train/Labeled/Non-Flooded/image/6646.jpg  \n",
            "  inflating: 512_Images/Train/Labeled/Non-Flooded/image/6447.jpg  \n",
            "  inflating: 512_Images/Train/Labeled/Non-Flooded/image/10819.jpg  \n",
            "  inflating: 512_Images/Train/Labeled/Non-Flooded/image/8176.jpg  \n",
            "  inflating: 512_Images/Train/Labeled/Non-Flooded/image/7999.jpg  \n",
            "  inflating: 512_Images/Train/Labeled/Non-Flooded/image/8060.jpg  \n",
            "  inflating: 512_Images/Train/Labeled/Non-Flooded/image/7195.jpg  \n",
            "  inflating: 512_Images/Train/Labeled/Non-Flooded/image/7546.jpg  \n",
            "  inflating: 512_Images/Train/Labeled/Non-Flooded/image/9050.jpg  \n",
            "  inflating: 512_Images/Train/Labeled/Non-Flooded/image/7717.jpg  \n",
            "  inflating: 512_Images/Train/Labeled/Non-Flooded/image/6964.jpg  \n",
            "  inflating: 512_Images/Train/Labeled/Non-Flooded/image/8172.jpg  \n",
            "  inflating: 512_Images/Train/Labeled/Non-Flooded/image/8800.jpg  \n",
            "  inflating: 512_Images/Train/Labeled/Non-Flooded/image/7751.jpg  \n",
            "  inflating: 512_Images/Train/Labeled/Non-Flooded/image/6512.jpg  \n",
            "  inflating: 512_Images/Train/Labeled/Non-Flooded/image/7697.jpg  \n",
            "  inflating: 512_Images/Train/Labeled/Non-Flooded/image/7003.jpg  \n",
            "  inflating: 512_Images/Train/Labeled/Non-Flooded/image/8351.jpg  \n",
            "  inflating: 512_Images/Train/Labeled/Non-Flooded/image/8638.jpg  \n",
            "  inflating: 512_Images/Train/Labeled/Non-Flooded/image/9061.jpg  \n",
            "  inflating: 512_Images/Train/Labeled/Non-Flooded/image/7183.jpg  \n",
            "  inflating: 512_Images/Train/Labeled/Non-Flooded/image/7102.jpg  \n",
            "  inflating: 512_Images/Train/Labeled/Non-Flooded/image/7672.jpg  \n",
            "  inflating: 512_Images/Train/Labeled/Non-Flooded/image/8529.jpg  \n",
            "  inflating: 512_Images/Train/Labeled/Non-Flooded/image/8600.jpg  \n",
            "  inflating: 512_Images/Train/Labeled/Non-Flooded/image/6792.jpg  \n",
            "  inflating: 512_Images/Train/Labeled/Non-Flooded/image/7721.jpg  \n",
            "  inflating: 512_Images/Train/Labeled/Non-Flooded/image/8101.jpg  \n",
            "  inflating: 512_Images/Train/Labeled/Non-Flooded/image/9722.jpg  \n",
            "  inflating: 512_Images/Train/Labeled/Non-Flooded/image/9343.jpg  \n",
            "  inflating: 512_Images/Train/Labeled/Non-Flooded/image/9080.jpg  \n",
            "  inflating: 512_Images/Train/Labeled/Non-Flooded/image/8232.jpg  \n",
            "  inflating: 512_Images/Train/Labeled/Non-Flooded/image/7675.jpg  \n",
            "  inflating: 512_Images/Train/Labeled/Non-Flooded/image/8322.jpg  \n",
            "  inflating: 512_Images/Train/Labeled/Non-Flooded/image/6982.jpg  \n",
            "  inflating: 512_Images/Train/Labeled/Non-Flooded/image/8977.jpg  \n",
            "  inflating: 512_Images/Train/Labeled/Non-Flooded/image/8063.jpg  \n",
            "  inflating: 512_Images/Train/Labeled/Non-Flooded/image/7712.jpg  \n",
            "  inflating: 512_Images/Train/Labeled/Non-Flooded/image/8962.jpg  \n",
            "  inflating: 512_Images/Train/Labeled/Non-Flooded/image/6731.jpg  \n",
            "  inflating: 512_Images/Train/Labeled/Non-Flooded/image/8956.jpg  \n",
            "  inflating: 512_Images/Train/Labeled/Non-Flooded/image/8966.jpg  \n",
            "  inflating: 512_Images/Train/Labeled/Non-Flooded/image/8087.jpg  \n",
            "  inflating: 512_Images/Train/Labeled/Non-Flooded/image/7815.jpg  \n",
            "  inflating: 512_Images/Train/Labeled/Non-Flooded/image/7170.jpg  \n",
            "  inflating: 512_Images/Train/Labeled/Non-Flooded/image/8479.jpg  \n",
            "  inflating: 512_Images/Train/Labeled/Non-Flooded/image/7071.jpg  \n",
            "  inflating: 512_Images/Train/Labeled/Non-Flooded/image/6535.jpg  \n",
            "  inflating: 512_Images/Train/Labeled/Non-Flooded/image/8157.jpg  \n",
            "  inflating: 512_Images/Train/Labeled/Non-Flooded/image/9086.jpg  \n",
            "  inflating: 512_Images/Train/Labeled/Non-Flooded/image/7907.jpg  \n",
            "  inflating: 512_Images/Train/Labeled/Non-Flooded/image/9106.jpg  \n",
            "  inflating: 512_Images/Train/Labeled/Non-Flooded/image/7774.jpg  \n",
            "  inflating: 512_Images/Train/Labeled/Non-Flooded/image/8264.jpg  \n",
            "  inflating: 512_Images/Train/Labeled/Non-Flooded/image/7109.jpg  \n",
            "  inflating: 512_Images/Train/Labeled/Non-Flooded/image/7754.jpg  \n",
            "  inflating: 512_Images/Train/Labeled/Non-Flooded/image/8086.jpg  \n",
            "  inflating: 512_Images/Train/Labeled/Non-Flooded/image/10176.jpg  \n",
            "  inflating: 512_Images/Train/Labeled/Non-Flooded/image/8482.jpg  \n",
            "  inflating: 512_Images/Train/Labeled/Non-Flooded/image/8524.jpg  \n",
            "  inflating: 512_Images/Train/Labeled/Non-Flooded/image/7929.jpg  \n",
            "  inflating: 512_Images/Train/Labeled/Non-Flooded/image/7764.jpg  \n",
            "  inflating: 512_Images/Train/Labeled/Non-Flooded/image/7825.jpg  \n",
            "  inflating: 512_Images/Train/Labeled/Non-Flooded/image/10828.jpg  \n",
            "  inflating: 512_Images/Train/Labeled/Non-Flooded/image/6556.jpg  \n",
            "  inflating: 512_Images/Train/Labeled/Non-Flooded/image/6735.jpg  \n",
            "  inflating: 512_Images/Train/Labeled/Non-Flooded/image/6802.jpg  \n",
            "  inflating: 512_Images/Train/Labeled/Non-Flooded/image/7282.jpg  \n",
            "  inflating: 512_Images/Train/Labeled/Non-Flooded/image/6463.jpg  \n",
            "  inflating: 512_Images/Train/Labeled/Non-Flooded/image/8472.jpg  \n",
            "  inflating: 512_Images/Train/Labeled/Non-Flooded/image/8117.jpg  \n",
            "  inflating: 512_Images/Train/Labeled/Non-Flooded/image/8288.jpg  \n",
            "  inflating: 512_Images/Train/Labeled/Non-Flooded/image/8286.jpg  \n",
            "  inflating: 512_Images/Train/Labeled/Non-Flooded/image/6860.jpg  \n",
            "  inflating: 512_Images/Train/Labeled/Non-Flooded/image/6651.jpg  \n",
            "  inflating: 512_Images/Train/Labeled/Non-Flooded/image/6426.jpg  \n",
            "  inflating: 512_Images/Train/Labeled/Non-Flooded/image/6386.jpg  \n",
            "  inflating: 512_Images/Train/Labeled/Non-Flooded/image/6455.jpg  \n",
            "  inflating: 512_Images/Train/Labeled/Non-Flooded/image/6824.jpg  \n",
            "  inflating: 512_Images/Train/Labeled/Non-Flooded/image/8350.jpg  \n",
            "  inflating: 512_Images/Train/Labeled/Non-Flooded/image/7918.jpg  \n",
            "  inflating: 512_Images/Train/Labeled/Non-Flooded/image/8355.jpg  \n",
            "  inflating: 512_Images/Train/Labeled/Non-Flooded/image/6393.jpg  \n",
            "  inflating: 512_Images/Train/Labeled/Non-Flooded/image/8051.jpg  \n",
            "  inflating: 512_Images/Train/Labeled/Non-Flooded/image/9724.jpg  \n",
            "  inflating: 512_Images/Train/Labeled/Non-Flooded/image/7973.jpg  \n",
            "  inflating: 512_Images/Train/Labeled/Non-Flooded/image/8957.jpg  \n",
            "  inflating: 512_Images/Train/Labeled/Non-Flooded/image/8924.jpg  \n",
            "  inflating: 512_Images/Train/Labeled/Non-Flooded/image/8794.jpg  \n",
            "  inflating: 512_Images/Train/Labeled/Non-Flooded/image/7225.jpg  \n",
            "  inflating: 512_Images/Train/Labeled/Non-Flooded/image/7103.jpg  \n",
            "  inflating: 512_Images/Train/Labeled/Non-Flooded/image/6589.jpg  \n",
            "  inflating: 512_Images/Train/Labeled/Non-Flooded/image/8319.jpg  \n",
            "  inflating: 512_Images/Train/Labeled/Non-Flooded/image/7820.jpg  \n",
            "  inflating: 512_Images/Train/Labeled/Non-Flooded/image/7128.jpg  \n",
            "  inflating: 512_Images/Train/Labeled/Non-Flooded/image/7806.jpg  \n",
            "  inflating: 512_Images/Train/Labeled/Non-Flooded/image/10817.jpg  \n",
            "  inflating: 512_Images/Train/Labeled/Non-Flooded/image/6437.jpg  \n",
            "  inflating: 512_Images/Train/Labeled/Non-Flooded/image/8146.jpg  \n",
            "  inflating: 512_Images/Train/Labeled/Non-Flooded/image/9345.jpg  \n",
            "  inflating: 512_Images/Train/Labeled/Non-Flooded/image/7862.jpg  \n",
            "  inflating: 512_Images/Train/Labeled/Non-Flooded/image/8658.jpg  \n",
            "  inflating: 512_Images/Train/Labeled/Non-Flooded/image/7018.jpg  \n",
            "  inflating: 512_Images/Train/Labeled/Non-Flooded/image/6549.jpg  \n",
            "  inflating: 512_Images/Train/Labeled/Non-Flooded/image/6938.jpg  \n",
            "  inflating: 512_Images/Train/Labeled/Non-Flooded/image/6804.jpg  \n",
            "  inflating: 512_Images/Train/Labeled/Non-Flooded/image/8786.jpg  \n",
            "  inflating: 512_Images/Train/Labeled/Non-Flooded/image/7884.jpg  \n",
            "  inflating: 512_Images/Train/Labeled/Non-Flooded/image/7124.jpg  \n",
            "  inflating: 512_Images/Train/Labeled/Non-Flooded/image/8415.jpg  \n",
            "  inflating: 512_Images/Train/Labeled/Non-Flooded/image/8009.jpg  \n",
            "  inflating: 512_Images/Train/Labeled/Non-Flooded/image/7726.jpg  \n",
            "  inflating: 512_Images/Train/Labeled/Non-Flooded/image/6682.jpg  \n",
            "  inflating: 512_Images/Train/Labeled/Non-Flooded/image/7162.jpg  \n",
            "  inflating: 512_Images/Train/Labeled/Non-Flooded/image/8005.jpg  \n",
            "  inflating: 512_Images/Train/Labeled/Non-Flooded/image/6348.jpg  \n",
            "  inflating: 512_Images/Train/Labeled/Non-Flooded/image/6808.jpg  \n",
            "  inflating: 512_Images/Train/Labeled/Non-Flooded/image/8306.jpg  \n",
            "  inflating: 512_Images/Train/Labeled/Non-Flooded/image/8522.jpg  \n",
            "  inflating: 512_Images/Train/Labeled/Non-Flooded/image/8802.jpg  \n",
            "  inflating: 512_Images/Train/Labeled/Non-Flooded/image/8317.jpg  \n",
            "  inflating: 512_Images/Train/Labeled/Non-Flooded/image/7146.jpg  \n",
            "  inflating: 512_Images/Train/Labeled/Non-Flooded/image/6919.jpg  \n",
            "  inflating: 512_Images/Train/Labeled/Non-Flooded/image/9287.jpg  \n",
            "  inflating: 512_Images/Train/Labeled/Non-Flooded/image/8809.jpg  \n",
            "  inflating: 512_Images/Train/Labeled/Non-Flooded/image/9093.jpg  \n",
            "  inflating: 512_Images/Train/Labeled/Non-Flooded/image/8141.jpg  \n",
            "  inflating: 512_Images/Train/Labeled/Non-Flooded/image/6600.jpg  \n",
            "  inflating: 512_Images/Train/Labeled/Non-Flooded/image/6978.jpg  \n",
            "  inflating: 512_Images/Train/Labeled/Non-Flooded/image/7098.jpg  \n",
            "  inflating: 512_Images/Train/Labeled/Non-Flooded/image/10687.jpg  \n",
            "  inflating: 512_Images/Train/Labeled/Non-Flooded/image/8386.jpg  \n",
            "  inflating: 512_Images/Train/Labeled/Non-Flooded/image/7893.jpg  \n",
            "  inflating: 512_Images/Train/Labeled/Non-Flooded/image/7674.jpg  \n",
            "  inflating: 512_Images/Train/Labeled/Non-Flooded/image/7879.jpg  \n",
            "  inflating: 512_Images/Train/Labeled/Non-Flooded/image/7050.jpg  \n",
            "  inflating: 512_Images/Train/Labeled/Non-Flooded/image/7219.jpg  \n",
            "  inflating: 512_Images/Train/Labeled/Non-Flooded/image/7185.jpg  \n",
            "  inflating: 512_Images/Train/Labeled/Non-Flooded/image/7752.jpg  \n",
            "  inflating: 512_Images/Train/Labeled/Non-Flooded/image/6540.jpg  \n",
            "  inflating: 512_Images/Train/Labeled/Non-Flooded/image/7238.jpg  \n",
            "  inflating: 512_Images/Train/Labeled/Non-Flooded/image/6832.jpg  \n",
            "  inflating: 512_Images/Train/Labeled/Non-Flooded/image/6692.jpg  \n",
            "  inflating: 512_Images/Train/Labeled/Non-Flooded/image/7024.jpg  \n",
            "  inflating: 512_Images/Train/Labeled/Non-Flooded/image/7724.jpg  \n",
            "  inflating: 512_Images/Train/Labeled/Non-Flooded/image/8550.jpg  \n",
            "  inflating: 512_Images/Train/Labeled/Non-Flooded/image/6464.jpg  \n",
            "  inflating: 512_Images/Train/Labeled/Non-Flooded/image/6667.jpg  \n",
            "  inflating: 512_Images/Train/Labeled/Non-Flooded/image/8967.jpg  \n",
            "  inflating: 512_Images/Train/Labeled/Non-Flooded/image/8437.jpg  \n",
            "  inflating: 512_Images/Train/Labeled/Non-Flooded/image/7160.jpg  \n",
            "  inflating: 512_Images/Train/Labeled/Non-Flooded/image/6478.jpg  \n",
            "  inflating: 512_Images/Train/Labeled/Non-Flooded/image/8859.jpg  \n",
            "  inflating: 512_Images/Train/Labeled/Non-Flooded/image/7920.jpg  \n",
            "  inflating: 512_Images/Train/Labeled/Non-Flooded/image/6742.jpg  \n",
            "  inflating: 512_Images/Train/Labeled/Non-Flooded/image/8971.jpg  \n",
            "  inflating: 512_Images/Train/Labeled/Non-Flooded/image/6953.jpg  \n",
            "  inflating: 512_Images/Train/Labeled/Non-Flooded/image/9027.jpg  \n",
            "  inflating: 512_Images/Train/Labeled/Non-Flooded/image/9723.jpg  \n",
            "  inflating: 512_Images/Train/Labeled/Non-Flooded/image/6918.jpg  \n",
            "  inflating: 512_Images/Train/Labeled/Non-Flooded/image/8911.jpg  \n",
            "  inflating: 512_Images/Train/Labeled/Non-Flooded/image/8153.jpg  \n",
            "  inflating: 512_Images/Train/Labeled/Non-Flooded/image/7901.jpg  \n",
            "  inflating: 512_Images/Train/Labeled/Non-Flooded/image/8556.jpg  \n",
            "  inflating: 512_Images/Train/Labeled/Non-Flooded/image/7852.jpg  \n",
            "  inflating: 512_Images/Train/Labeled/Non-Flooded/image/7049.jpg  \n",
            "  inflating: 512_Images/Train/Labeled/Non-Flooded/image/6734.jpg  \n",
            "  inflating: 512_Images/Train/Labeled/Non-Flooded/image/10836.jpg  \n",
            "  inflating: 512_Images/Train/Labeled/Non-Flooded/image/8217.jpg  \n",
            "  inflating: 512_Images/Train/Labeled/Non-Flooded/image/7718.jpg  \n",
            "  inflating: 512_Images/Train/Labeled/Non-Flooded/image/8385.jpg  \n",
            "  inflating: 512_Images/Train/Labeled/Non-Flooded/image/7872.jpg  \n",
            "  inflating: 512_Images/Train/Labeled/Non-Flooded/image/9095.jpg  \n",
            "  inflating: 512_Images/Train/Labeled/Non-Flooded/image/8165.jpg  \n",
            "  inflating: 512_Images/Train/Labeled/Non-Flooded/image/7064.jpg  \n",
            "  inflating: 512_Images/Train/Labeled/Non-Flooded/image/8407.jpg  \n",
            "  inflating: 512_Images/Train/Labeled/Non-Flooded/image/7711.jpg  \n",
            "  inflating: 512_Images/Train/Labeled/Non-Flooded/image/9725.jpg  \n",
            "  inflating: 512_Images/Train/Labeled/Non-Flooded/image/6727.jpg  \n",
            "  inflating: 512_Images/Train/Labeled/Non-Flooded/image/6747.jpg  \n",
            "  inflating: 512_Images/Train/Labeled/Non-Flooded/image/8807.jpg  \n",
            "  inflating: 512_Images/Train/Labeled/Non-Flooded/image/7072.jpg  \n",
            "  inflating: 512_Images/Train/Labeled/Non-Flooded/image/7646.jpg  \n",
            "  inflating: 512_Images/Train/Labeled/Non-Flooded/image/9066.jpg  \n",
            "  inflating: 512_Images/Train/Labeled/Non-Flooded/image/7801.jpg  \n",
            "  inflating: 512_Images/Train/Labeled/Non-Flooded/image/7192.jpg  \n",
            "  inflating: 512_Images/Train/Labeled/Non-Flooded/image/8075.jpg  \n",
            "  inflating: 512_Images/Train/Labeled/Non-Flooded/image/6836.jpg  \n",
            "  inflating: 512_Images/Train/Labeled/Non-Flooded/image/8422.jpg  \n",
            "  inflating: 512_Images/Train/Labeled/Non-Flooded/image/8130.jpg  \n",
            "  inflating: 512_Images/Train/Labeled/Non-Flooded/image/9278.jpg  \n",
            "  inflating: 512_Images/Train/Labeled/Non-Flooded/image/8229.jpg  \n",
            "  inflating: 512_Images/Train/Labeled/Non-Flooded/image/8597.jpg  \n",
            "  inflating: 512_Images/Train/Labeled/Non-Flooded/image/6458.jpg  \n",
            "  inflating: 512_Images/Train/Labeled/Non-Flooded/image/7709.jpg  \n",
            "  inflating: 512_Images/Train/Labeled/Non-Flooded/image/8267.jpg  \n",
            "  inflating: 512_Images/Train/Labeled/Non-Flooded/image/7791.jpg  \n",
            "  inflating: 512_Images/Train/Labeled/Non-Flooded/image/8424.jpg  \n",
            "  inflating: 512_Images/Train/Labeled/Non-Flooded/image/6413.jpg  \n",
            "  inflating: 512_Images/Train/Labeled/Non-Flooded/image/6359.jpg  \n",
            "  inflating: 512_Images/Train/Labeled/Non-Flooded/image/6693.jpg  \n",
            "  inflating: 512_Images/Train/Labeled/Non-Flooded/image/8822.jpg  \n",
            "  inflating: 512_Images/Train/Labeled/Non-Flooded/image/7051.jpg  \n",
            "  inflating: 512_Images/Train/Labeled/Non-Flooded/image/6994.jpg  \n",
            "  inflating: 512_Images/Train/Labeled/Non-Flooded/image/7088.jpg  \n",
            "  inflating: 512_Images/Train/Labeled/Non-Flooded/image/6955.jpg  \n",
            "  inflating: 512_Images/Train/Labeled/Non-Flooded/image/7214.jpg  \n",
            "  inflating: 512_Images/Train/Labeled/Non-Flooded/image/6854.jpg  \n",
            "  inflating: 512_Images/Train/Labeled/Non-Flooded/image/8212.jpg  \n",
            "  inflating: 512_Images/Train/Labeled/Non-Flooded/image/10840.jpg  \n",
            "  inflating: 512_Images/Train/Labeled/Non-Flooded/image/6628.jpg  \n",
            "  inflating: 512_Images/Train/Labeled/Non-Flooded/image/8015.jpg  \n",
            "  inflating: 512_Images/Train/Labeled/Non-Flooded/image/6332.jpg  \n",
            "  inflating: 512_Images/Train/Labeled/Non-Flooded/image/8269.jpg  \n",
            "  inflating: 512_Images/Train/Labeled/Non-Flooded/image/8336.jpg  \n",
            "  inflating: 512_Images/Train/Labeled/Non-Flooded/image/8603.jpg  \n",
            "  inflating: 512_Images/Train/Labeled/Non-Flooded/image/9022.jpg  \n",
            "  inflating: 512_Images/Train/Labeled/Non-Flooded/image/6564.jpg  \n",
            "  inflating: 512_Images/Train/Labeled/Non-Flooded/image/8033.jpg  \n",
            "  inflating: 512_Images/Train/Labeled/Non-Flooded/image/6397.jpg  \n",
            "  inflating: 512_Images/Train/Labeled/Non-Flooded/image/7081.jpg  \n",
            "  inflating: 512_Images/Train/Labeled/Non-Flooded/image/8387.jpg  \n",
            "  inflating: 512_Images/Train/Labeled/Non-Flooded/image/9925.jpg  \n",
            "  inflating: 512_Images/Train/Labeled/Non-Flooded/image/7775.jpg  \n",
            "  inflating: 512_Images/Train/Labeled/Non-Flooded/image/8594.jpg  \n",
            "  inflating: 512_Images/Train/Labeled/Non-Flooded/image/8096.jpg  \n",
            "  inflating: 512_Images/Train/Labeled/Non-Flooded/image/10837.jpg  \n",
            "  inflating: 512_Images/Train/Labeled/Non-Flooded/image/7831.jpg  \n",
            "  inflating: 512_Images/Train/Labeled/Non-Flooded/image/7909.jpg  \n",
            "  inflating: 512_Images/Train/Labeled/Non-Flooded/image/6997.jpg  \n",
            "  inflating: 512_Images/Train/Labeled/Non-Flooded/image/7706.jpg  \n",
            "  inflating: 512_Images/Train/Labeled/Non-Flooded/image/7967.jpg  \n",
            "  inflating: 512_Images/Train/Labeled/Non-Flooded/image/8388.jpg  \n",
            "  inflating: 512_Images/Train/Labeled/Non-Flooded/image/7692.jpg  \n",
            "  inflating: 512_Images/Train/Labeled/Non-Flooded/image/8929.jpg  \n",
            "  inflating: 512_Images/Train/Labeled/Non-Flooded/image/8161.jpg  \n",
            "  inflating: 512_Images/Train/Labeled/Non-Flooded/image/10175.jpg  \n",
            "   creating: 512_Images/Train/Labeled/Non-Flooded/mask/\n",
            "  inflating: 512_Images/Train/Labeled/Non-Flooded/mask/8524_lab.png  \n",
            "  inflating: 512_Images/Train/Labeled/Non-Flooded/mask/8269_lab.png  \n",
            "  inflating: 512_Images/Train/Labeled/Non-Flooded/mask/8212_lab.png  \n",
            "  inflating: 512_Images/Train/Labeled/Non-Flooded/mask/6960_lab.png  \n",
            "  inflating: 512_Images/Train/Labeled/Non-Flooded/mask/9351_lab.png  \n",
            "  inflating: 512_Images/Train/Labeled/Non-Flooded/mask/6731_lab.png  \n",
            "  inflating: 512_Images/Train/Labeled/Non-Flooded/mask/10836_lab.png  \n",
            "  inflating: 512_Images/Train/Labeled/Non-Flooded/mask/7219_lab.png  \n",
            "  inflating: 512_Images/Train/Labeled/Non-Flooded/mask/8488_lab.png  \n",
            "  inflating: 512_Images/Train/Labeled/Non-Flooded/mask/9061_lab.png  \n",
            "  inflating: 512_Images/Train/Labeled/Non-Flooded/mask/6804_lab.png  \n",
            "  inflating: 512_Images/Train/Labeled/Non-Flooded/mask/8911_lab.png  \n",
            "  inflating: 512_Images/Train/Labeled/Non-Flooded/mask/7214_lab.png  \n",
            "  inflating: 512_Images/Train/Labeled/Non-Flooded/mask/8106_lab.png  \n",
            "  inflating: 512_Images/Train/Labeled/Non-Flooded/mask/6465_lab.png  \n",
            "  inflating: 512_Images/Train/Labeled/Non-Flooded/mask/6555_lab.png  \n",
            "  inflating: 512_Images/Train/Labeled/Non-Flooded/mask/10176_lab.png  \n",
            "  inflating: 512_Images/Train/Labeled/Non-Flooded/mask/6734_lab.png  \n",
            "  inflating: 512_Images/Train/Labeled/Non-Flooded/mask/6693_lab.png  \n",
            "  inflating: 512_Images/Train/Labeled/Non-Flooded/mask/8597_lab.png  \n",
            "  inflating: 512_Images/Train/Labeled/Non-Flooded/mask/8334_lab.png  \n",
            "  inflating: 512_Images/Train/Labeled/Non-Flooded/mask/8172_lab.png  \n",
            "  inflating: 512_Images/Train/Labeled/Non-Flooded/mask/8429_lab.png  \n",
            "  inflating: 512_Images/Train/Labeled/Non-Flooded/mask/8005_lab.png  \n",
            "  inflating: 512_Images/Train/Labeled/Non-Flooded/mask/6393_lab.png  \n",
            "  inflating: 512_Images/Train/Labeled/Non-Flooded/mask/7010_lab.png  \n",
            "  inflating: 512_Images/Train/Labeled/Non-Flooded/mask/8967_lab.png  \n",
            "  inflating: 512_Images/Train/Labeled/Non-Flooded/mask/6938_lab.png  \n",
            "  inflating: 512_Images/Train/Labeled/Non-Flooded/mask/7102_lab.png  \n",
            "  inflating: 512_Images/Train/Labeled/Non-Flooded/mask/7901_lab.png  \n",
            "  inflating: 512_Images/Train/Labeled/Non-Flooded/mask/7815_lab.png  \n",
            "  inflating: 512_Images/Train/Labeled/Non-Flooded/mask/8102_lab.png  \n",
            "  inflating: 512_Images/Train/Labeled/Non-Flooded/mask/7820_lab.png  \n",
            "  inflating: 512_Images/Train/Labeled/Non-Flooded/mask/8510_lab.png  \n",
            "  inflating: 512_Images/Train/Labeled/Non-Flooded/mask/9723_lab.png  \n",
            "  inflating: 512_Images/Train/Labeled/Non-Flooded/mask/7801_lab.png  \n",
            "  inflating: 512_Images/Train/Labeled/Non-Flooded/mask/6997_lab.png  \n",
            "  inflating: 512_Images/Train/Labeled/Non-Flooded/mask/7039_lab.png  \n",
            "  inflating: 512_Images/Train/Labeled/Non-Flooded/mask/8063_lab.png  \n",
            "  inflating: 512_Images/Train/Labeled/Non-Flooded/mask/6860_lab.png  \n",
            "  inflating: 512_Images/Train/Labeled/Non-Flooded/mask/6692_lab.png  \n",
            "  inflating: 512_Images/Train/Labeled/Non-Flooded/mask/7982_lab.png  \n",
            "  inflating: 512_Images/Train/Labeled/Non-Flooded/mask/6842_lab.png  \n",
            "  inflating: 512_Images/Train/Labeled/Non-Flooded/mask/7929_lab.png  \n",
            "  inflating: 512_Images/Train/Labeled/Non-Flooded/mask/6512_lab.png  \n",
            "  inflating: 512_Images/Train/Labeled/Non-Flooded/mask/7183_lab.png  \n",
            "  inflating: 512_Images/Train/Labeled/Non-Flooded/mask/7081_lab.png  \n",
            "  inflating: 512_Images/Train/Labeled/Non-Flooded/mask/7674_lab.png  \n",
            "  inflating: 512_Images/Train/Labeled/Non-Flooded/mask/7751_lab.png  \n",
            "  inflating: 512_Images/Train/Labeled/Non-Flooded/mask/6628_lab.png  \n",
            "  inflating: 512_Images/Train/Labeled/Non-Flooded/mask/8286_lab.png  \n",
            "  inflating: 512_Images/Train/Labeled/Non-Flooded/mask/7872_lab.png  \n",
            "  inflating: 512_Images/Train/Labeled/Non-Flooded/mask/6812_lab.png  \n",
            "  inflating: 512_Images/Train/Labeled/Non-Flooded/mask/7717_lab.png  \n",
            "  inflating: 512_Images/Train/Labeled/Non-Flooded/mask/7650_lab.png  \n",
            "  inflating: 512_Images/Train/Labeled/Non-Flooded/mask/6999_lab.png  \n",
            "  inflating: 512_Images/Train/Labeled/Non-Flooded/mask/8398_lab.png  \n",
            "  inflating: 512_Images/Train/Labeled/Non-Flooded/mask/7727_lab.png  \n",
            "  inflating: 512_Images/Train/Labeled/Non-Flooded/mask/7879_lab.png  \n",
            "  inflating: 512_Images/Train/Labeled/Non-Flooded/mask/7024_lab.png  \n",
            "  inflating: 512_Images/Train/Labeled/Non-Flooded/mask/6430_lab.png  \n",
            "  inflating: 512_Images/Train/Labeled/Non-Flooded/mask/7907_lab.png  \n",
            "  inflating: 512_Images/Train/Labeled/Non-Flooded/mask/8600_lab.png  \n",
            "  inflating: 512_Images/Train/Labeled/Non-Flooded/mask/7697_lab.png  \n",
            "  inflating: 512_Images/Train/Labeled/Non-Flooded/mask/7053_lab.png  \n",
            "  inflating: 512_Images/Train/Labeled/Non-Flooded/mask/7967_lab.png  \n",
            "  inflating: 512_Images/Train/Labeled/Non-Flooded/mask/9925_lab.png  \n",
            "  inflating: 512_Images/Train/Labeled/Non-Flooded/mask/9069_lab.png  \n",
            "  inflating: 512_Images/Train/Labeled/Non-Flooded/mask/7973_lab.png  \n",
            "  inflating: 512_Images/Train/Labeled/Non-Flooded/mask/6459_lab.png  \n",
            "  inflating: 512_Images/Train/Labeled/Non-Flooded/mask/7195_lab.png  \n",
            "  inflating: 512_Images/Train/Labeled/Non-Flooded/mask/6808_lab.png  \n",
            "  inflating: 512_Images/Train/Labeled/Non-Flooded/mask/7808_lab.png  \n",
            "  inflating: 512_Images/Train/Labeled/Non-Flooded/mask/9086_lab.png  \n",
            "  inflating: 512_Images/Train/Labeled/Non-Flooded/mask/8087_lab.png  \n",
            "  inflating: 512_Images/Train/Labeled/Non-Flooded/mask/7078_lab.png  \n",
            "  inflating: 512_Images/Train/Labeled/Non-Flooded/mask/7128_lab.png  \n",
            "  inflating: 512_Images/Train/Labeled/Non-Flooded/mask/7752_lab.png  \n",
            "  inflating: 512_Images/Train/Labeled/Non-Flooded/mask/8185_lab.png  \n",
            "  inflating: 512_Images/Train/Labeled/Non-Flooded/mask/6843_lab.png  \n",
            "  inflating: 512_Images/Train/Labeled/Non-Flooded/mask/6426_lab.png  \n",
            "  inflating: 512_Images/Train/Labeled/Non-Flooded/mask/7706_lab.png  \n",
            "  inflating: 512_Images/Train/Labeled/Non-Flooded/mask/6773_lab.png  \n",
            "  inflating: 512_Images/Train/Labeled/Non-Flooded/mask/8500_lab.png  \n",
            "  inflating: 512_Images/Train/Labeled/Non-Flooded/mask/7882_lab.png  \n",
            "  inflating: 512_Images/Train/Labeled/Non-Flooded/mask/8971_lab.png  \n",
            "  inflating: 512_Images/Train/Labeled/Non-Flooded/mask/9027_lab.png  \n",
            "  inflating: 512_Images/Train/Labeled/Non-Flooded/mask/8940_lab.png  \n",
            "  inflating: 512_Images/Train/Labeled/Non-Flooded/mask/7192_lab.png  \n",
            "  inflating: 512_Images/Train/Labeled/Non-Flooded/mask/8319_lab.png  \n",
            "  inflating: 512_Images/Train/Labeled/Non-Flooded/mask/8479_lab.png  \n",
            "  inflating: 512_Images/Train/Labeled/Non-Flooded/mask/9083_lab.png  \n",
            "  inflating: 512_Images/Train/Labeled/Non-Flooded/mask/7051_lab.png  \n",
            "  inflating: 512_Images/Train/Labeled/Non-Flooded/mask/8775_lab.png  \n",
            "  inflating: 512_Images/Train/Labeled/Non-Flooded/mask/7160_lab.png  \n",
            "  inflating: 512_Images/Train/Labeled/Non-Flooded/mask/7071_lab.png  \n",
            "  inflating: 512_Images/Train/Labeled/Non-Flooded/mask/7672_lab.png  \n",
            "  inflating: 512_Images/Train/Labeled/Non-Flooded/mask/9724_lab.png  \n",
            "  inflating: 512_Images/Train/Labeled/Non-Flooded/mask/6656_lab.png  \n",
            "  inflating: 512_Images/Train/Labeled/Non-Flooded/mask/8061_lab.png  \n",
            "  inflating: 512_Images/Train/Labeled/Non-Flooded/mask/7789_lab.png  \n",
            "  inflating: 512_Images/Train/Labeled/Non-Flooded/mask/8351_lab.png  \n",
            "  inflating: 512_Images/Train/Labeled/Non-Flooded/mask/6595_lab.png  \n",
            "  inflating: 512_Images/Train/Labeled/Non-Flooded/mask/7917_lab.png  \n",
            "  inflating: 512_Images/Train/Labeled/Non-Flooded/mask/8242_lab.png  \n",
            "  inflating: 512_Images/Train/Labeled/Non-Flooded/mask/8165_lab.png  \n",
            "  inflating: 512_Images/Train/Labeled/Non-Flooded/mask/7791_lab.png  \n",
            "  inflating: 512_Images/Train/Labeled/Non-Flooded/mask/6802_lab.png  \n",
            "  inflating: 512_Images/Train/Labeled/Non-Flooded/mask/6348_lab.png  \n",
            "  inflating: 512_Images/Train/Labeled/Non-Flooded/mask/6413_lab.png  \n",
            "  inflating: 512_Images/Train/Labeled/Non-Flooded/mask/6477_lab.png  \n",
            "  inflating: 512_Images/Train/Labeled/Non-Flooded/mask/6649_lab.png  \n",
            "  inflating: 512_Images/Train/Labeled/Non-Flooded/mask/8550_lab.png  \n",
            "  inflating: 512_Images/Train/Labeled/Non-Flooded/mask/8405_lab.png  \n",
            "  inflating: 512_Images/Train/Labeled/Non-Flooded/mask/6549_lab.png  \n",
            "  inflating: 512_Images/Train/Labeled/Non-Flooded/mask/7282_lab.png  \n",
            "  inflating: 512_Images/Train/Labeled/Non-Flooded/mask/8217_lab.png  \n",
            "  inflating: 512_Images/Train/Labeled/Non-Flooded/mask/8807_lab.png  \n",
            "  inflating: 512_Images/Train/Labeled/Non-Flooded/mask/7764_lab.png  \n",
            "  inflating: 512_Images/Train/Labeled/Non-Flooded/mask/7867_lab.png  \n",
            "  inflating: 512_Images/Train/Labeled/Non-Flooded/mask/7098_lab.png  \n",
            "  inflating: 512_Images/Train/Labeled/Non-Flooded/mask/8522_lab.png  \n",
            "  inflating: 512_Images/Train/Labeled/Non-Flooded/mask/6564_lab.png  \n",
            "  inflating: 512_Images/Train/Labeled/Non-Flooded/mask/7925_lab.png  \n",
            "  inflating: 512_Images/Train/Labeled/Non-Flooded/mask/8394_lab.png  \n",
            "  inflating: 512_Images/Train/Labeled/Non-Flooded/mask/6359_lab.png  \n",
            "  inflating: 512_Images/Train/Labeled/Non-Flooded/mask/6742_lab.png  \n",
            "  inflating: 512_Images/Train/Labeled/Non-Flooded/mask/6437_lab.png  \n",
            "  inflating: 512_Images/Train/Labeled/Non-Flooded/mask/6824_lab.png  \n",
            "  inflating: 512_Images/Train/Labeled/Non-Flooded/mask/7909_lab.png  \n",
            "  inflating: 512_Images/Train/Labeled/Non-Flooded/mask/8247_lab.png  \n",
            "  inflating: 512_Images/Train/Labeled/Non-Flooded/mask/6982_lab.png  \n",
            "  inflating: 512_Images/Train/Labeled/Non-Flooded/mask/6994_lab.png  \n",
            "  inflating: 512_Images/Train/Labeled/Non-Flooded/mask/7064_lab.png  \n",
            "  inflating: 512_Images/Train/Labeled/Non-Flooded/mask/6332_lab.png  \n",
            "  inflating: 512_Images/Train/Labeled/Non-Flooded/mask/6455_lab.png  \n",
            "  inflating: 512_Images/Train/Labeled/Non-Flooded/mask/6854_lab.png  \n",
            "  inflating: 512_Images/Train/Labeled/Non-Flooded/mask/8805_lab.png  \n",
            "  inflating: 512_Images/Train/Labeled/Non-Flooded/mask/6535_lab.png  \n",
            "  inflating: 512_Images/Train/Labeled/Non-Flooded/mask/7072_lab.png  \n",
            "  inflating: 512_Images/Train/Labeled/Non-Flooded/mask/6682_lab.png  \n",
            "  inflating: 512_Images/Train/Labeled/Non-Flooded/mask/8210_lab.png  \n",
            "  inflating: 512_Images/Train/Labeled/Non-Flooded/mask/8437_lab.png  \n",
            "  inflating: 512_Images/Train/Labeled/Non-Flooded/mask/8412_lab.png  \n",
            "  inflating: 512_Images/Train/Labeled/Non-Flooded/mask/8977_lab.png  \n",
            "  inflating: 512_Images/Train/Labeled/Non-Flooded/mask/7050_lab.png  \n",
            "  inflating: 512_Images/Train/Labeled/Non-Flooded/mask/8137_lab.png  \n",
            "  inflating: 512_Images/Train/Labeled/Non-Flooded/mask/9093_lab.png  \n",
            "  inflating: 512_Images/Train/Labeled/Non-Flooded/mask/6964_lab.png  \n",
            "  inflating: 512_Images/Train/Labeled/Non-Flooded/mask/7965_lab.png  \n",
            "  inflating: 512_Images/Train/Labeled/Non-Flooded/mask/7893_lab.png  \n",
            "  inflating: 512_Images/Train/Labeled/Non-Flooded/mask/8388_lab.png  \n",
            "  inflating: 512_Images/Train/Labeled/Non-Flooded/mask/7726_lab.png  \n",
            "  inflating: 512_Images/Train/Labeled/Non-Flooded/mask/7918_lab.png  \n",
            "  inflating: 512_Images/Train/Labeled/Non-Flooded/mask/8822_lab.png  \n",
            "  inflating: 512_Images/Train/Labeled/Non-Flooded/mask/7829_lab.png  \n",
            "  inflating: 512_Images/Train/Labeled/Non-Flooded/mask/6829_lab.png  \n",
            "  inflating: 512_Images/Train/Labeled/Non-Flooded/mask/9722_lab.png  \n",
            "  inflating: 512_Images/Train/Labeled/Non-Flooded/mask/7124_lab.png  \n",
            "  inflating: 512_Images/Train/Labeled/Non-Flooded/mask/9884_lab.png  \n",
            "  inflating: 512_Images/Train/Labeled/Non-Flooded/mask/8141_lab.png  \n",
            "  inflating: 512_Images/Train/Labeled/Non-Flooded/mask/8361_lab.png  \n",
            "  inflating: 512_Images/Train/Labeled/Non-Flooded/mask/8924_lab.png  \n",
            "  inflating: 512_Images/Train/Labeled/Non-Flooded/mask/9343_lab.png  \n",
            "  inflating: 512_Images/Train/Labeled/Non-Flooded/mask/6556_lab.png  \n",
            "  inflating: 512_Images/Train/Labeled/Non-Flooded/mask/10840_lab.png  \n",
            "  inflating: 512_Images/Train/Labeled/Non-Flooded/mask/9287_lab.png  \n",
            "  inflating: 512_Images/Train/Labeled/Non-Flooded/mask/6855_lab.png  \n",
            "  inflating: 512_Images/Train/Labeled/Non-Flooded/mask/8556_lab.png  \n",
            "  inflating: 512_Images/Train/Labeled/Non-Flooded/mask/6955_lab.png  \n",
            "  inflating: 512_Images/Train/Labeled/Non-Flooded/mask/7711_lab.png  \n",
            "  inflating: 512_Images/Train/Labeled/Non-Flooded/mask/7077_lab.png  \n",
            "  inflating: 512_Images/Train/Labeled/Non-Flooded/mask/9876_lab.png  \n",
            "  inflating: 512_Images/Train/Labeled/Non-Flooded/mask/8800_lab.png  \n",
            "  inflating: 512_Images/Train/Labeled/Non-Flooded/mask/6918_lab.png  \n",
            "  inflating: 512_Images/Train/Labeled/Non-Flooded/mask/8658_lab.png  \n",
            "  inflating: 512_Images/Train/Labeled/Non-Flooded/mask/7238_lab.png  \n",
            "  inflating: 512_Images/Train/Labeled/Non-Flooded/mask/7170_lab.png  \n",
            "  inflating: 512_Images/Train/Labeled/Non-Flooded/mask/6832_lab.png  \n",
            "  inflating: 512_Images/Train/Labeled/Non-Flooded/mask/6386_lab.png  \n",
            "  inflating: 512_Images/Train/Labeled/Non-Flooded/mask/8929_lab.png  \n",
            "  inflating: 512_Images/Train/Labeled/Non-Flooded/mask/8966_lab.png  \n",
            "  inflating: 512_Images/Train/Labeled/Non-Flooded/mask/6839_lab.png  \n",
            "  inflating: 512_Images/Train/Labeled/Non-Flooded/mask/6727_lab.png  \n",
            "  inflating: 512_Images/Train/Labeled/Non-Flooded/mask/7999_lab.png  \n",
            "  inflating: 512_Images/Train/Labeled/Non-Flooded/mask/8176_lab.png  \n",
            "  inflating: 512_Images/Train/Labeled/Non-Flooded/mask/7100_lab.png  \n",
            "  inflating: 512_Images/Train/Labeled/Non-Flooded/mask/8802_lab.png  \n",
            "  inflating: 512_Images/Train/Labeled/Non-Flooded/mask/6454_lab.png  \n",
            "  inflating: 512_Images/Train/Labeled/Non-Flooded/mask/8033_lab.png  \n",
            "  inflating: 512_Images/Train/Labeled/Non-Flooded/mask/6464_lab.png  \n",
            "  inflating: 512_Images/Train/Labeled/Non-Flooded/mask/7724_lab.png  \n",
            "  inflating: 512_Images/Train/Labeled/Non-Flooded/mask/8057_lab.png  \n",
            "  inflating: 512_Images/Train/Labeled/Non-Flooded/mask/8267_lab.png  \n",
            "  inflating: 512_Images/Train/Labeled/Non-Flooded/mask/8229_lab.png  \n",
            "  inflating: 512_Images/Train/Labeled/Non-Flooded/mask/8153_lab.png  \n",
            "  inflating: 512_Images/Train/Labeled/Non-Flooded/mask/7003_lab.png  \n",
            "  inflating: 512_Images/Train/Labeled/Non-Flooded/mask/7749_lab.png  \n",
            "  inflating: 512_Images/Train/Labeled/Non-Flooded/mask/7692_lab.png  \n",
            "  inflating: 512_Images/Train/Labeled/Non-Flooded/mask/8119_lab.png  \n",
            "  inflating: 512_Images/Train/Labeled/Non-Flooded/mask/7046_lab.png  \n",
            "  inflating: 512_Images/Train/Labeled/Non-Flooded/mask/7931_lab.png  \n",
            "  inflating: 512_Images/Train/Labeled/Non-Flooded/mask/8342_lab.png  \n",
            "  inflating: 512_Images/Train/Labeled/Non-Flooded/mask/8962_lab.png  \n",
            "  inflating: 512_Images/Train/Labeled/Non-Flooded/mask/7185_lab.png  \n",
            "  inflating: 512_Images/Train/Labeled/Non-Flooded/mask/8387_lab.png  \n",
            "  inflating: 512_Images/Train/Labeled/Non-Flooded/mask/6458_lab.png  \n",
            "  inflating: 512_Images/Train/Labeled/Non-Flooded/mask/7852_lab.png  \n",
            "  inflating: 512_Images/Train/Labeled/Non-Flooded/mask/6600_lab.png  \n",
            "  inflating: 512_Images/Train/Labeled/Non-Flooded/mask/7920_lab.png  \n",
            "  inflating: 512_Images/Train/Labeled/Non-Flooded/mask/8786_lab.png  \n",
            "  inflating: 512_Images/Train/Labeled/Non-Flooded/mask/9036_lab.png  \n",
            "  inflating: 512_Images/Train/Labeled/Non-Flooded/mask/7709_lab.png  \n",
            "  inflating: 512_Images/Train/Labeled/Non-Flooded/mask/6370_lab.png  \n",
            "  inflating: 512_Images/Train/Labeled/Non-Flooded/mask/7103_lab.png  \n",
            "  inflating: 512_Images/Train/Labeled/Non-Flooded/mask/8051_lab.png  \n",
            "  inflating: 512_Images/Train/Labeled/Non-Flooded/mask/8407_lab.png  \n",
            "  inflating: 512_Images/Train/Labeled/Non-Flooded/mask/6836_lab.png  \n",
            "  inflating: 512_Images/Train/Labeled/Non-Flooded/mask/6747_lab.png  \n",
            "  inflating: 512_Images/Train/Labeled/Non-Flooded/mask/7109_lab.png  \n",
            "  inflating: 512_Images/Train/Labeled/Non-Flooded/mask/8386_lab.png  \n",
            "  inflating: 512_Images/Train/Labeled/Non-Flooded/mask/7774_lab.png  \n",
            "  inflating: 512_Images/Train/Labeled/Non-Flooded/mask/9040_lab.png  \n",
            "  inflating: 512_Images/Train/Labeled/Non-Flooded/mask/8157_lab.png  \n",
            "  inflating: 512_Images/Train/Labeled/Non-Flooded/mask/8068_lab.png  \n",
            "  inflating: 512_Images/Train/Labeled/Non-Flooded/mask/7014_lab.png  \n",
            "  inflating: 512_Images/Train/Labeled/Non-Flooded/mask/6735_lab.png  \n",
            "  inflating: 512_Images/Train/Labeled/Non-Flooded/mask/8317_lab.png  \n",
            "  inflating: 512_Images/Train/Labeled/Non-Flooded/mask/9080_lab.png  \n",
            "  inflating: 512_Images/Train/Labeled/Non-Flooded/mask/8322_lab.png  \n",
            "  inflating: 512_Images/Train/Labeled/Non-Flooded/mask/8336_lab.png  \n",
            "  inflating: 512_Images/Train/Labeled/Non-Flooded/mask/7754_lab.png  \n",
            "  inflating: 512_Images/Train/Labeled/Non-Flooded/mask/6397_lab.png  \n",
            "  inflating: 512_Images/Train/Labeled/Non-Flooded/mask/7884_lab.png  \n",
            "  inflating: 512_Images/Train/Labeled/Non-Flooded/mask/6338_lab.png  \n",
            "  inflating: 512_Images/Train/Labeled/Non-Flooded/mask/6924_lab.png  \n",
            "  inflating: 512_Images/Train/Labeled/Non-Flooded/mask/7675_lab.png  \n",
            "  inflating: 512_Images/Train/Labeled/Non-Flooded/mask/9278_lab.png  \n",
            "  inflating: 512_Images/Train/Labeled/Non-Flooded/mask/8426_lab.png  \n",
            "  inflating: 512_Images/Train/Labeled/Non-Flooded/mask/8094_lab.png  \n",
            "  inflating: 512_Images/Train/Labeled/Non-Flooded/mask/8385_lab.png  \n",
            "  inflating: 512_Images/Train/Labeled/Non-Flooded/mask/10811_lab.png  \n",
            "  inflating: 512_Images/Train/Labeled/Non-Flooded/mask/7712_lab.png  \n",
            "  inflating: 512_Images/Train/Labeled/Non-Flooded/mask/8638_lab.png  \n",
            "  inflating: 512_Images/Train/Labeled/Non-Flooded/mask/7944_lab.png  \n",
            "  inflating: 512_Images/Train/Labeled/Non-Flooded/mask/10817_lab.png  \n",
            "  inflating: 512_Images/Train/Labeled/Non-Flooded/mask/7671_lab.png  \n",
            "  inflating: 512_Images/Train/Labeled/Non-Flooded/mask/6651_lab.png  \n",
            "  inflating: 512_Images/Train/Labeled/Non-Flooded/mask/7184_lab.png  \n",
            "  inflating: 512_Images/Train/Labeled/Non-Flooded/mask/7914_lab.png  \n",
            "  inflating: 512_Images/Train/Labeled/Non-Flooded/mask/10175_lab.png  \n",
            "  inflating: 512_Images/Train/Labeled/Non-Flooded/mask/8086_lab.png  \n",
            "  inflating: 512_Images/Train/Labeled/Non-Flooded/mask/7646_lab.png  \n",
            "  inflating: 512_Images/Train/Labeled/Non-Flooded/mask/9050_lab.png  \n",
            "  inflating: 512_Images/Train/Labeled/Non-Flooded/mask/8529_lab.png  \n",
            "  inflating: 512_Images/Train/Labeled/Non-Flooded/mask/6750_lab.png  \n",
            "  inflating: 512_Images/Train/Labeled/Non-Flooded/mask/6586_lab.png  \n",
            "  inflating: 512_Images/Train/Labeled/Non-Flooded/mask/7831_lab.png  \n",
            "  inflating: 512_Images/Train/Labeled/Non-Flooded/mask/8244_lab.png  \n",
            "  inflating: 512_Images/Train/Labeled/Non-Flooded/mask/10837_lab.png  \n",
            "  inflating: 512_Images/Train/Labeled/Non-Flooded/mask/10687_lab.png  \n",
            "  inflating: 512_Images/Train/Labeled/Non-Flooded/mask/6585_lab.png  \n",
            "  inflating: 512_Images/Train/Labeled/Non-Flooded/mask/9365_lab.png  \n",
            "  inflating: 512_Images/Train/Labeled/Non-Flooded/mask/9345_lab.png  \n",
            "  inflating: 512_Images/Train/Labeled/Non-Flooded/mask/8475_lab.png  \n",
            "  inflating: 512_Images/Train/Labeled/Non-Flooded/mask/6646_lab.png  \n",
            "  inflating: 512_Images/Train/Labeled/Non-Flooded/mask/6368_lab.png  \n",
            "  inflating: 512_Images/Train/Labeled/Non-Flooded/mask/8096_lab.png  \n",
            "  inflating: 512_Images/Train/Labeled/Non-Flooded/mask/7718_lab.png  \n",
            "  inflating: 512_Images/Train/Labeled/Non-Flooded/mask/8350_lab.png  \n",
            "  inflating: 512_Images/Train/Labeled/Non-Flooded/mask/8009_lab.png  \n",
            "  inflating: 512_Images/Train/Labeled/Non-Flooded/mask/7806_lab.png  \n",
            "  inflating: 512_Images/Train/Labeled/Non-Flooded/mask/6447_lab.png  \n",
            "  inflating: 512_Images/Train/Labeled/Non-Flooded/mask/7998_lab.png  \n",
            "  inflating: 512_Images/Train/Labeled/Non-Flooded/mask/7146_lab.png  \n",
            "  inflating: 512_Images/Train/Labeled/Non-Flooded/mask/7033_lab.png  \n",
            "  inflating: 512_Images/Train/Labeled/Non-Flooded/mask/7713_lab.png  \n",
            "  inflating: 512_Images/Train/Labeled/Non-Flooded/mask/8809_lab.png  \n",
            "  inflating: 512_Images/Train/Labeled/Non-Flooded/mask/8859_lab.png  \n",
            "  inflating: 512_Images/Train/Labeled/Non-Flooded/mask/8288_lab.png  \n",
            "  inflating: 512_Images/Train/Labeled/Non-Flooded/mask/6589_lab.png  \n",
            "  inflating: 512_Images/Train/Labeled/Non-Flooded/mask/7721_lab.png  \n",
            "  inflating: 512_Images/Train/Labeled/Non-Flooded/mask/6478_lab.png  \n",
            "  inflating: 512_Images/Train/Labeled/Non-Flooded/mask/6667_lab.png  \n",
            "  inflating: 512_Images/Train/Labeled/Non-Flooded/mask/8264_lab.png  \n",
            "  inflating: 512_Images/Train/Labeled/Non-Flooded/mask/8424_lab.png  \n",
            "  inflating: 512_Images/Train/Labeled/Non-Flooded/mask/8306_lab.png  \n",
            "  inflating: 512_Images/Train/Labeled/Non-Flooded/mask/6953_lab.png  \n",
            "  inflating: 512_Images/Train/Labeled/Non-Flooded/mask/10819_lab.png  \n",
            "  inflating: 512_Images/Train/Labeled/Non-Flooded/mask/8957_lab.png  \n",
            "  inflating: 512_Images/Train/Labeled/Non-Flooded/mask/7825_lab.png  \n",
            "  inflating: 512_Images/Train/Labeled/Non-Flooded/mask/9095_lab.png  \n",
            "  inflating: 512_Images/Train/Labeled/Non-Flooded/mask/8443_lab.png  \n",
            "  inflating: 512_Images/Train/Labeled/Non-Flooded/mask/8895_lab.png  \n",
            "  inflating: 512_Images/Train/Labeled/Non-Flooded/mask/7225_lab.png  \n",
            "  inflating: 512_Images/Train/Labeled/Non-Flooded/mask/7178_lab.png  \n",
            "  inflating: 512_Images/Train/Labeled/Non-Flooded/mask/8232_lab.png  \n",
            "  inflating: 512_Images/Train/Labeled/Non-Flooded/mask/7775_lab.png  \n",
            "  inflating: 512_Images/Train/Labeled/Non-Flooded/mask/7018_lab.png  \n",
            "  inflating: 512_Images/Train/Labeled/Non-Flooded/mask/8161_lab.png  \n",
            "  inflating: 512_Images/Train/Labeled/Non-Flooded/mask/6623_lab.png  \n",
            "  inflating: 512_Images/Train/Labeled/Non-Flooded/mask/8159_lab.png  \n",
            "  inflating: 512_Images/Train/Labeled/Non-Flooded/mask/6792_lab.png  \n",
            "  inflating: 512_Images/Train/Labeled/Non-Flooded/mask/8538_lab.png  \n",
            "  inflating: 512_Images/Train/Labeled/Non-Flooded/mask/7862_lab.png  \n",
            "  inflating: 512_Images/Train/Labeled/Non-Flooded/mask/6395_lab.png  \n",
            "  inflating: 512_Images/Train/Labeled/Non-Flooded/mask/8928_lab.png  \n",
            "  inflating: 512_Images/Train/Labeled/Non-Flooded/mask/8956_lab.png  \n",
            "  inflating: 512_Images/Train/Labeled/Non-Flooded/mask/7546_lab.png  \n",
            "  inflating: 512_Images/Train/Labeled/Non-Flooded/mask/6540_lab.png  \n",
            "  inflating: 512_Images/Train/Labeled/Non-Flooded/mask/9106_lab.png  \n",
            "  inflating: 512_Images/Train/Labeled/Non-Flooded/mask/6978_lab.png  \n",
            "  inflating: 512_Images/Train/Labeled/Non-Flooded/mask/8482_lab.png  \n",
            "  inflating: 512_Images/Train/Labeled/Non-Flooded/mask/6463_lab.png  \n",
            "  inflating: 512_Images/Train/Labeled/Non-Flooded/mask/6919_lab.png  \n",
            "  inflating: 512_Images/Train/Labeled/Non-Flooded/mask/8101_lab.png  \n",
            "  inflating: 512_Images/Train/Labeled/Non-Flooded/mask/7083_lab.png  \n",
            "  inflating: 512_Images/Train/Labeled/Non-Flooded/mask/9066_lab.png  \n",
            "  inflating: 512_Images/Train/Labeled/Non-Flooded/mask/8130_lab.png  \n",
            "  inflating: 512_Images/Train/Labeled/Non-Flooded/mask/6788_lab.png  \n",
            "  inflating: 512_Images/Train/Labeled/Non-Flooded/mask/7972_lab.png  \n",
            "  inflating: 512_Images/Train/Labeled/Non-Flooded/mask/8355_lab.png  \n",
            "  inflating: 512_Images/Train/Labeled/Non-Flooded/mask/7802_lab.png  \n",
            "  inflating: 512_Images/Train/Labeled/Non-Flooded/mask/8146_lab.png  \n",
            "  inflating: 512_Images/Train/Labeled/Non-Flooded/mask/8472_lab.png  \n",
            "  inflating: 512_Images/Train/Labeled/Non-Flooded/mask/7162_lab.png  \n",
            "  inflating: 512_Images/Train/Labeled/Non-Flooded/mask/9070_lab.png  \n",
            "  inflating: 512_Images/Train/Labeled/Non-Flooded/mask/8117_lab.png  \n",
            "  inflating: 512_Images/Train/Labeled/Non-Flooded/mask/8794_lab.png  \n",
            "  inflating: 512_Images/Train/Labeled/Non-Flooded/mask/10828_lab.png  \n",
            "  inflating: 512_Images/Train/Labeled/Non-Flooded/mask/8015_lab.png  \n",
            "  inflating: 512_Images/Train/Labeled/Non-Flooded/mask/7654_lab.png  \n",
            "  inflating: 512_Images/Train/Labeled/Non-Flooded/mask/8594_lab.png  \n",
            "  inflating: 512_Images/Train/Labeled/Non-Flooded/mask/8422_lab.png  \n",
            "  inflating: 512_Images/Train/Labeled/Non-Flooded/mask/8075_lab.png  \n",
            "  inflating: 512_Images/Train/Labeled/Non-Flooded/mask/6838_lab.png  \n",
            "  inflating: 512_Images/Train/Labeled/Non-Flooded/mask/8415_lab.png  \n",
            "  inflating: 512_Images/Train/Labeled/Non-Flooded/mask/7980_lab.png  \n",
            "  inflating: 512_Images/Train/Labeled/Non-Flooded/mask/8243_lab.png  \n",
            "  inflating: 512_Images/Train/Labeled/Non-Flooded/mask/9022_lab.png  \n",
            "  inflating: 512_Images/Train/Labeled/Non-Flooded/mask/7049_lab.png  \n",
            "  inflating: 512_Images/Train/Labeled/Non-Flooded/mask/6421_lab.png  \n",
            "  inflating: 512_Images/Train/Labeled/Non-Flooded/mask/7088_lab.png  \n",
            "  inflating: 512_Images/Train/Labeled/Non-Flooded/mask/8074_lab.png  \n",
            "  inflating: 512_Images/Train/Labeled/Non-Flooded/mask/9725_lab.png  \n",
            "  inflating: 512_Images/Train/Labeled/Non-Flooded/mask/8060_lab.png  \n",
            "  inflating: 512_Images/Train/Labeled/Non-Flooded/mask/8603_lab.png  \n",
            "   creating: 512_Images/Train/Labeled/Flooded/\n",
            "   creating: 512_Images/Train/Labeled/Flooded/image/\n",
            "  inflating: 512_Images/Train/Labeled/Flooded/image/6614.jpg  \n",
            "  inflating: 512_Images/Train/Labeled/Flooded/image/7332.jpg  \n",
            "  inflating: 512_Images/Train/Labeled/Flooded/image/7428.jpg  \n",
            "  inflating: 512_Images/Train/Labeled/Flooded/image/7434.jpg  \n",
            "  inflating: 512_Images/Train/Labeled/Flooded/image/7485.jpg  \n",
            "  inflating: 512_Images/Train/Labeled/Flooded/image/7202.jpg  \n",
            "  inflating: 512_Images/Train/Labeled/Flooded/image/7594.jpg  \n",
            "  inflating: 512_Images/Train/Labeled/Flooded/image/7405.jpg  \n",
            "  inflating: 512_Images/Train/Labeled/Flooded/image/7325.jpg  \n",
            "  inflating: 512_Images/Train/Labeled/Flooded/image/6703.jpg  \n",
            "  inflating: 512_Images/Train/Labeled/Flooded/image/7362.jpg  \n",
            "  inflating: 512_Images/Train/Labeled/Flooded/image/7466.jpg  \n",
            "  inflating: 512_Images/Train/Labeled/Flooded/image/6706.jpg  \n",
            "  inflating: 512_Images/Train/Labeled/Flooded/image/7357.jpg  \n",
            "  inflating: 512_Images/Train/Labeled/Flooded/image/6707.jpg  \n",
            "  inflating: 512_Images/Train/Labeled/Flooded/image/6615.jpg  \n",
            "  inflating: 512_Images/Train/Labeled/Flooded/image/7523.jpg  \n",
            "  inflating: 512_Images/Train/Labeled/Flooded/image/8379.jpg  \n",
            "  inflating: 512_Images/Train/Labeled/Flooded/image/7330.jpg  \n",
            "  inflating: 512_Images/Train/Labeled/Flooded/image/10166.jpg  \n",
            "  inflating: 512_Images/Train/Labeled/Flooded/image/9000.jpg  \n",
            "  inflating: 512_Images/Train/Labeled/Flooded/image/7524.jpg  \n",
            "  inflating: 512_Images/Train/Labeled/Flooded/image/8408.jpg  \n",
            "  inflating: 512_Images/Train/Labeled/Flooded/image/7273.jpg  \n",
            "  inflating: 512_Images/Train/Labeled/Flooded/image/9003.jpg  \n",
            "  inflating: 512_Images/Train/Labeled/Flooded/image/6704.jpg  \n",
            "  inflating: 512_Images/Train/Labeled/Flooded/image/7321.jpg  \n",
            "  inflating: 512_Images/Train/Labeled/Flooded/image/7317.jpg  \n",
            "  inflating: 512_Images/Train/Labeled/Flooded/image/7289.jpg  \n",
            "  inflating: 512_Images/Train/Labeled/Flooded/image/7418.jpg  \n",
            "  inflating: 512_Images/Train/Labeled/Flooded/image/7571.jpg  \n",
            "  inflating: 512_Images/Train/Labeled/Flooded/image/7372.jpg  \n",
            "  inflating: 512_Images/Train/Labeled/Flooded/image/7587.jpg  \n",
            "  inflating: 512_Images/Train/Labeled/Flooded/image/6716.jpg  \n",
            "  inflating: 512_Images/Train/Labeled/Flooded/image/7266.jpg  \n",
            "  inflating: 512_Images/Train/Labeled/Flooded/image/7261.jpg  \n",
            "  inflating: 512_Images/Train/Labeled/Flooded/image/10165.jpg  \n",
            "  inflating: 512_Images/Train/Labeled/Flooded/image/7267.jpg  \n",
            "  inflating: 512_Images/Train/Labeled/Flooded/image/6618.jpg  \n",
            "  inflating: 512_Images/Train/Labeled/Flooded/image/7240.jpg  \n",
            "  inflating: 512_Images/Train/Labeled/Flooded/image/6279.jpg  \n",
            "  inflating: 512_Images/Train/Labeled/Flooded/image/7243.jpg  \n",
            "  inflating: 512_Images/Train/Labeled/Flooded/image/7331.jpg  \n",
            "  inflating: 512_Images/Train/Labeled/Flooded/image/7414.jpg  \n",
            "  inflating: 512_Images/Train/Labeled/Flooded/image/7364.jpg  \n",
            "  inflating: 512_Images/Train/Labeled/Flooded/image/7298.jpg  \n",
            "  inflating: 512_Images/Train/Labeled/Flooded/image/7556.jpg  \n",
            "  inflating: 512_Images/Train/Labeled/Flooded/image/7463.jpg  \n",
            "  inflating: 512_Images/Train/Labeled/Flooded/image/7473.jpg  \n",
            "  inflating: 512_Images/Train/Labeled/Flooded/image/7199.jpg  \n",
            "  inflating: 512_Images/Train/Labeled/Flooded/image/7488.jpg  \n",
            "   creating: 512_Images/Train/Labeled/Flooded/mask/\n",
            "  inflating: 512_Images/Train/Labeled/Flooded/mask/7325_lab.png  \n",
            "  inflating: 512_Images/Train/Labeled/Flooded/mask/7523_lab.png  \n",
            "  inflating: 512_Images/Train/Labeled/Flooded/mask/9000_lab.png  \n",
            "  inflating: 512_Images/Train/Labeled/Flooded/mask/7488_lab.png  \n",
            "  inflating: 512_Images/Train/Labeled/Flooded/mask/7473_lab.png  \n",
            "  inflating: 512_Images/Train/Labeled/Flooded/mask/7273_lab.png  \n",
            "  inflating: 512_Images/Train/Labeled/Flooded/mask/7428_lab.png  \n",
            "  inflating: 512_Images/Train/Labeled/Flooded/mask/7594_lab.png  \n",
            "  inflating: 512_Images/Train/Labeled/Flooded/mask/7261_lab.png  \n",
            "  inflating: 512_Images/Train/Labeled/Flooded/mask/7364_lab.png  \n",
            "  inflating: 512_Images/Train/Labeled/Flooded/mask/10166_lab.png  \n",
            "  inflating: 512_Images/Train/Labeled/Flooded/mask/7434_lab.png  \n",
            "  inflating: 512_Images/Train/Labeled/Flooded/mask/7267_lab.png  \n",
            "  inflating: 512_Images/Train/Labeled/Flooded/mask/6716_lab.png  \n",
            "  inflating: 512_Images/Train/Labeled/Flooded/mask/7362_lab.png  \n",
            "  inflating: 512_Images/Train/Labeled/Flooded/mask/7556_lab.png  \n",
            "  inflating: 512_Images/Train/Labeled/Flooded/mask/7405_lab.png  \n",
            "  inflating: 512_Images/Train/Labeled/Flooded/mask/7202_lab.png  \n",
            "  inflating: 512_Images/Train/Labeled/Flooded/mask/6706_lab.png  \n",
            "  inflating: 512_Images/Train/Labeled/Flooded/mask/7357_lab.png  \n",
            "  inflating: 512_Images/Train/Labeled/Flooded/mask/6618_lab.png  \n",
            "  inflating: 512_Images/Train/Labeled/Flooded/mask/8408_lab.png  \n",
            "  inflating: 512_Images/Train/Labeled/Flooded/mask/7418_lab.png  \n",
            "  inflating: 512_Images/Train/Labeled/Flooded/mask/7571_lab.png  \n",
            "  inflating: 512_Images/Train/Labeled/Flooded/mask/7330_lab.png  \n",
            "  inflating: 512_Images/Train/Labeled/Flooded/mask/7524_lab.png  \n",
            "  inflating: 512_Images/Train/Labeled/Flooded/mask/6704_lab.png  \n",
            "  inflating: 512_Images/Train/Labeled/Flooded/mask/8379_lab.png  \n",
            "  inflating: 512_Images/Train/Labeled/Flooded/mask/7414_lab.png  \n",
            "  inflating: 512_Images/Train/Labeled/Flooded/mask/7466_lab.png  \n",
            "  inflating: 512_Images/Train/Labeled/Flooded/mask/6707_lab.png  \n",
            "  inflating: 512_Images/Train/Labeled/Flooded/mask/6279_lab.png  \n",
            "  inflating: 512_Images/Train/Labeled/Flooded/mask/7199_lab.png  \n",
            "  inflating: 512_Images/Train/Labeled/Flooded/mask/7289_lab.png  \n",
            "  inflating: 512_Images/Train/Labeled/Flooded/mask/10165_lab.png  \n",
            "  inflating: 512_Images/Train/Labeled/Flooded/mask/7266_lab.png  \n",
            "  inflating: 512_Images/Train/Labeled/Flooded/mask/7463_lab.png  \n",
            "  inflating: 512_Images/Train/Labeled/Flooded/mask/7332_lab.png  \n",
            "  inflating: 512_Images/Train/Labeled/Flooded/mask/7372_lab.png  \n",
            "  inflating: 512_Images/Train/Labeled/Flooded/mask/6614_lab.png  \n",
            "  inflating: 512_Images/Train/Labeled/Flooded/mask/7317_lab.png  \n",
            "  inflating: 512_Images/Train/Labeled/Flooded/mask/6615_lab.png  \n",
            "  inflating: 512_Images/Train/Labeled/Flooded/mask/7331_lab.png  \n",
            "  inflating: 512_Images/Train/Labeled/Flooded/mask/7298_lab.png  \n",
            "  inflating: 512_Images/Train/Labeled/Flooded/mask/6703_lab.png  \n",
            "  inflating: 512_Images/Train/Labeled/Flooded/mask/7240_lab.png  \n",
            "  inflating: 512_Images/Train/Labeled/Flooded/mask/9003_lab.png  \n",
            "  inflating: 512_Images/Train/Labeled/Flooded/mask/7587_lab.png  \n",
            "  inflating: 512_Images/Train/Labeled/Flooded/mask/7321_lab.png  \n",
            "  inflating: 512_Images/Train/Labeled/Flooded/mask/7243_lab.png  \n",
            "  inflating: 512_Images/Train/Labeled/Flooded/mask/7485_lab.png  \n",
            "   creating: 512_Images/Train/Unlabeled/\n",
            "   creating: 512_Images/Train/Unlabeled/image/\n",
            "  inflating: 512_Images/Train/Unlabeled/image/7227.jpg  \n",
            "  inflating: 512_Images/Train/Unlabeled/image/7123.jpg  \n",
            "  inflating: 512_Images/Train/Unlabeled/image/7895.jpg  \n",
            "  inflating: 512_Images/Train/Unlabeled/image/7475.jpg  \n",
            "  inflating: 512_Images/Train/Unlabeled/image/6676.jpg  \n",
            "  inflating: 512_Images/Train/Unlabeled/image/7374.jpg  \n",
            "  inflating: 512_Images/Train/Unlabeled/image/7600.jpg  \n",
            "  inflating: 512_Images/Train/Unlabeled/image/6972.jpg  \n",
            "  inflating: 512_Images/Train/Unlabeled/image/7855.jpg  \n",
            "  inflating: 512_Images/Train/Unlabeled/image/8116.jpg  \n",
            "  inflating: 512_Images/Train/Unlabeled/image/6620.jpg  \n",
            "  inflating: 512_Images/Train/Unlabeled/image/6933.jpg  \n",
            "  inflating: 512_Images/Train/Unlabeled/image/7892.jpg  \n",
            "  inflating: 512_Images/Train/Unlabeled/image/6789.jpg  \n",
            "  inflating: 512_Images/Train/Unlabeled/image/9796.jpg  \n",
            "  inflating: 512_Images/Train/Unlabeled/image/6486.jpg  \n",
            "  inflating: 512_Images/Train/Unlabeled/image/9892.jpg  \n",
            "  inflating: 512_Images/Train/Unlabeled/image/6936.jpg  \n",
            "  inflating: 512_Images/Train/Unlabeled/image/8560.jpg  \n",
            "  inflating: 512_Images/Train/Unlabeled/image/8166.jpg  \n",
            "  inflating: 512_Images/Train/Unlabeled/image/7144.jpg  \n",
            "  inflating: 512_Images/Train/Unlabeled/image/7251.jpg  \n",
            "  inflating: 512_Images/Train/Unlabeled/image/7257.jpg  \n",
            "  inflating: 512_Images/Train/Unlabeled/image/6513.jpg  \n",
            "  inflating: 512_Images/Train/Unlabeled/image/9459.jpg  \n",
            "  inflating: 512_Images/Train/Unlabeled/image/7691.jpg  \n",
            "  inflating: 512_Images/Train/Unlabeled/image/7235.jpg  \n",
            "  inflating: 512_Images/Train/Unlabeled/image/6772.jpg  \n",
            "  inflating: 512_Images/Train/Unlabeled/image/6481.jpg  \n",
            "  inflating: 512_Images/Train/Unlabeled/image/7945.jpg  \n",
            "  inflating: 512_Images/Train/Unlabeled/image/7469.jpg  \n",
            "  inflating: 512_Images/Train/Unlabeled/image/9076.jpg  \n",
            "  inflating: 512_Images/Train/Unlabeled/image/8196.jpg  \n",
            "  inflating: 512_Images/Train/Unlabeled/image/9115.jpg  \n",
            "  inflating: 512_Images/Train/Unlabeled/image/7606.jpg  \n",
            "  inflating: 512_Images/Train/Unlabeled/image/6505.jpg  \n",
            "  inflating: 512_Images/Train/Unlabeled/image/9011.jpg  \n",
            "  inflating: 512_Images/Train/Unlabeled/image/8121.jpg  \n",
            "  inflating: 512_Images/Train/Unlabeled/image/8002.jpg  \n",
            "  inflating: 512_Images/Train/Unlabeled/image/6776.jpg  \n",
            "  inflating: 512_Images/Train/Unlabeled/image/7028.jpg  \n",
            "  inflating: 512_Images/Train/Unlabeled/image/6644.jpg  \n",
            "  inflating: 512_Images/Train/Unlabeled/image/8598.jpg  \n",
            "  inflating: 512_Images/Train/Unlabeled/image/6805.jpg  \n",
            "  inflating: 512_Images/Train/Unlabeled/image/7193.jpg  \n",
            "  inflating: 512_Images/Train/Unlabeled/image/7454.jpg  \n",
            "  inflating: 512_Images/Train/Unlabeled/image/8226.jpg  \n",
            "  inflating: 512_Images/Train/Unlabeled/image/7842.jpg  \n",
            "  inflating: 512_Images/Train/Unlabeled/image/7795.jpg  \n",
            "  inflating: 512_Images/Train/Unlabeled/image/8059.jpg  \n",
            "  inflating: 512_Images/Train/Unlabeled/image/6453.jpg  \n",
            "  inflating: 512_Images/Train/Unlabeled/image/7328.jpg  \n",
            "  inflating: 512_Images/Train/Unlabeled/image/10172.jpg  \n",
            "  inflating: 512_Images/Train/Unlabeled/image/6538.jpg  \n",
            "  inflating: 512_Images/Train/Unlabeled/image/8531.jpg  \n",
            "  inflating: 512_Images/Train/Unlabeled/image/8785.jpg  \n",
            "  inflating: 512_Images/Train/Unlabeled/image/9039.jpg  \n",
            "  inflating: 512_Images/Train/Unlabeled/image/8271.jpg  \n",
            "  inflating: 512_Images/Train/Unlabeled/image/6639.jpg  \n",
            "  inflating: 512_Images/Train/Unlabeled/image/8253.jpg  \n",
            "  inflating: 512_Images/Train/Unlabeled/image/7047.jpg  \n",
            "  inflating: 512_Images/Train/Unlabeled/image/8374.jpg  \n",
            "  inflating: 512_Images/Train/Unlabeled/image/7445.jpg  \n",
            "  inflating: 512_Images/Train/Unlabeled/image/7156.jpg  \n",
            "  inflating: 512_Images/Train/Unlabeled/image/7211.jpg  \n",
            "  inflating: 512_Images/Train/Unlabeled/image/6648.jpg  \n",
            "  inflating: 512_Images/Train/Unlabeled/image/8498.jpg  \n",
            "  inflating: 512_Images/Train/Unlabeled/image/7693.jpg  \n",
            "  inflating: 512_Images/Train/Unlabeled/image/7696.jpg  \n",
            "  inflating: 512_Images/Train/Unlabeled/image/8275.jpg  \n",
            "  inflating: 512_Images/Train/Unlabeled/image/6701.jpg  \n",
            "  inflating: 512_Images/Train/Unlabeled/image/8294.jpg  \n",
            "  inflating: 512_Images/Train/Unlabeled/image/6372.jpg  \n",
            "  inflating: 512_Images/Train/Unlabeled/image/6588.jpg  \n",
            "  inflating: 512_Images/Train/Unlabeled/image/9072.jpg  \n",
            "  inflating: 512_Images/Train/Unlabeled/image/7489.jpg  \n",
            "  inflating: 512_Images/Train/Unlabeled/image/6658.jpg  \n",
            "  inflating: 512_Images/Train/Unlabeled/image/7121.jpg  \n",
            "  inflating: 512_Images/Train/Unlabeled/image/7704.jpg  \n",
            "  inflating: 512_Images/Train/Unlabeled/image/10821.jpg  \n",
            "  inflating: 512_Images/Train/Unlabeled/image/7036.jpg  \n",
            "  inflating: 512_Images/Train/Unlabeled/image/8034.jpg  \n",
            "  inflating: 512_Images/Train/Unlabeled/image/8777.jpg  \n",
            "  inflating: 512_Images/Train/Unlabeled/image/10810.jpg  \n",
            "  inflating: 512_Images/Train/Unlabeled/image/8241.jpg  \n",
            "  inflating: 512_Images/Train/Unlabeled/image/6544.jpg  \n",
            "  inflating: 512_Images/Train/Unlabeled/image/8927.jpg  \n",
            "  inflating: 512_Images/Train/Unlabeled/image/9073.jpg  \n",
            "  inflating: 512_Images/Train/Unlabeled/image/6800.jpg  \n",
            "  inflating: 512_Images/Train/Unlabeled/image/6565.jpg  \n",
            "  inflating: 512_Images/Train/Unlabeled/image/8326.jpg  \n",
            "  inflating: 512_Images/Train/Unlabeled/image/6941.jpg  \n",
            "  inflating: 512_Images/Train/Unlabeled/image/7065.jpg  \n",
            "  inflating: 512_Images/Train/Unlabeled/image/6520.jpg  \n",
            "  inflating: 512_Images/Train/Unlabeled/image/8149.jpg  \n",
            "  inflating: 512_Images/Train/Unlabeled/image/6407.jpg  \n",
            "  inflating: 512_Images/Train/Unlabeled/image/7410.jpg  \n",
            "  inflating: 512_Images/Train/Unlabeled/image/7568.jpg  \n",
            "  inflating: 512_Images/Train/Unlabeled/image/7221.jpg  \n",
            "  inflating: 512_Images/Train/Unlabeled/image/7778.jpg  \n",
            "  inflating: 512_Images/Train/Unlabeled/image/8516.jpg  \n",
            "  inflating: 512_Images/Train/Unlabeled/image/7788.jpg  \n",
            "  inflating: 512_Images/Train/Unlabeled/image/8515.jpg  \n",
            "  inflating: 512_Images/Train/Unlabeled/image/6711.jpg  \n",
            "  inflating: 512_Images/Train/Unlabeled/image/8404.jpg  \n",
            "  inflating: 512_Images/Train/Unlabeled/image/7318.jpg  \n",
            "  inflating: 512_Images/Train/Unlabeled/image/7252.jpg  \n",
            "  inflating: 512_Images/Train/Unlabeled/image/8368.jpg  \n",
            "  inflating: 512_Images/Train/Unlabeled/image/6354.jpg  \n",
            "  inflating: 512_Images/Train/Unlabeled/image/7108.jpg  \n",
            "  inflating: 512_Images/Train/Unlabeled/image/8151.jpg  \n",
            "  inflating: 512_Images/Train/Unlabeled/image/8298.jpg  \n",
            "  inflating: 512_Images/Train/Unlabeled/image/8139.jpg  \n",
            "  inflating: 512_Images/Train/Unlabeled/image/7800.jpg  \n",
            "  inflating: 512_Images/Train/Unlabeled/image/6981.jpg  \n",
            "  inflating: 512_Images/Train/Unlabeled/image/7810.jpg  \n",
            "  inflating: 512_Images/Train/Unlabeled/image/6943.jpg  \n",
            "  inflating: 512_Images/Train/Unlabeled/image/7045.jpg  \n",
            "  inflating: 512_Images/Train/Unlabeled/image/8798.jpg  \n",
            "  inflating: 512_Images/Train/Unlabeled/image/7324.jpg  \n",
            "  inflating: 512_Images/Train/Unlabeled/image/8065.jpg  \n",
            "  inflating: 512_Images/Train/Unlabeled/image/7834.jpg  \n",
            "  inflating: 512_Images/Train/Unlabeled/image/8909.jpg  \n",
            "  inflating: 512_Images/Train/Unlabeled/image/6633.jpg  \n",
            "  inflating: 512_Images/Train/Unlabeled/image/8604.jpg  \n",
            "  inflating: 512_Images/Train/Unlabeled/image/7412.jpg  \n",
            "  inflating: 512_Images/Train/Unlabeled/image/7312.jpg  \n",
            "  inflating: 512_Images/Train/Unlabeled/image/8517.jpg  \n",
            "  inflating: 512_Images/Train/Unlabeled/image/6890.jpg  \n",
            "  inflating: 512_Images/Train/Unlabeled/image/7989.jpg  \n",
            "  inflating: 512_Images/Train/Unlabeled/image/7919.jpg  \n",
            "  inflating: 512_Images/Train/Unlabeled/image/7645.jpg  \n",
            "  inflating: 512_Images/Train/Unlabeled/image/7270.jpg  \n",
            "  inflating: 512_Images/Train/Unlabeled/image/6908.jpg  \n",
            "  inflating: 512_Images/Train/Unlabeled/image/6398.jpg  \n",
            "  inflating: 512_Images/Train/Unlabeled/image/7962.jpg  \n",
            "  inflating: 512_Images/Train/Unlabeled/image/6411.jpg  \n",
            "  inflating: 512_Images/Train/Unlabeled/image/7890.jpg  \n",
            "  inflating: 512_Images/Train/Unlabeled/image/8016.jpg  \n",
            "  inflating: 512_Images/Train/Unlabeled/image/7922.jpg  \n",
            "  inflating: 512_Images/Train/Unlabeled/image/7609.jpg  \n",
            "  inflating: 512_Images/Train/Unlabeled/image/6806.jpg  \n",
            "  inflating: 512_Images/Train/Unlabeled/image/7827.jpg  \n",
            "  inflating: 512_Images/Train/Unlabeled/image/8901.jpg  \n",
            "  inflating: 512_Images/Train/Unlabeled/image/7814.jpg  \n",
            "  inflating: 512_Images/Train/Unlabeled/image/7459.jpg  \n",
            "  inflating: 512_Images/Train/Unlabeled/image/6427.jpg  \n",
            "  inflating: 512_Images/Train/Unlabeled/image/6986.jpg  \n",
            "  inflating: 512_Images/Train/Unlabeled/image/7748.jpg  \n",
            "  inflating: 512_Images/Train/Unlabeled/image/9890.jpg  \n",
            "  inflating: 512_Images/Train/Unlabeled/image/6344.jpg  \n",
            "  inflating: 512_Images/Train/Unlabeled/image/8011.jpg  \n",
            "  inflating: 512_Images/Train/Unlabeled/image/8039.jpg  \n",
            "  inflating: 512_Images/Train/Unlabeled/image/9110.jpg  \n",
            "  inflating: 512_Images/Train/Unlabeled/image/8227.jpg  \n",
            "  inflating: 512_Images/Train/Unlabeled/image/8370.jpg  \n",
            "  inflating: 512_Images/Train/Unlabeled/image/8003.jpg  \n",
            "  inflating: 512_Images/Train/Unlabeled/image/8816.jpg  \n",
            "  inflating: 512_Images/Train/Unlabeled/image/8409.jpg  \n",
            "  inflating: 512_Images/Train/Unlabeled/image/7641.jpg  \n",
            "  inflating: 512_Images/Train/Unlabeled/image/6367.jpg  \n",
            "  inflating: 512_Images/Train/Unlabeled/image/6287.jpg  \n",
            "  inflating: 512_Images/Train/Unlabeled/image/6340.jpg  \n",
            "  inflating: 512_Images/Train/Unlabeled/image/8276.jpg  \n",
            "  inflating: 512_Images/Train/Unlabeled/image/7643.jpg  \n",
            "  inflating: 512_Images/Train/Unlabeled/image/7602.jpg  \n",
            "  inflating: 512_Images/Train/Unlabeled/image/7168.jpg  \n",
            "  inflating: 512_Images/Train/Unlabeled/image/8251.jpg  \n",
            "  inflating: 512_Images/Train/Unlabeled/image/9100.jpg  \n",
            "  inflating: 512_Images/Train/Unlabeled/image/7462.jpg  \n",
            "  inflating: 512_Images/Train/Unlabeled/image/7809.jpg  \n",
            "  inflating: 512_Images/Train/Unlabeled/image/6911.jpg  \n",
            "  inflating: 512_Images/Train/Unlabeled/image/10180.jpg  \n",
            "  inflating: 512_Images/Train/Unlabeled/image/7472.jpg  \n",
            "  inflating: 512_Images/Train/Unlabeled/image/7765.jpg  \n",
            "  inflating: 512_Images/Train/Unlabeled/image/7151.jpg  \n",
            "  inflating: 512_Images/Train/Unlabeled/image/8077.jpg  \n",
            "  inflating: 512_Images/Train/Unlabeled/image/9028.jpg  \n",
            "  inflating: 512_Images/Train/Unlabeled/image/8245.jpg  \n",
            "  inflating: 512_Images/Train/Unlabeled/image/6580.jpg  \n",
            "  inflating: 512_Images/Train/Unlabeled/image/9162.jpg  \n",
            "  inflating: 512_Images/Train/Unlabeled/image/6446.jpg  \n",
            "  inflating: 512_Images/Train/Unlabeled/image/7344.jpg  \n",
            "  inflating: 512_Images/Train/Unlabeled/image/7746.jpg  \n",
            "  inflating: 512_Images/Train/Unlabeled/image/7818.jpg  \n",
            "  inflating: 512_Images/Train/Unlabeled/image/8907.jpg  \n",
            "  inflating: 512_Images/Train/Unlabeled/image/7429.jpg  \n",
            "  inflating: 512_Images/Train/Unlabeled/image/8359.jpg  \n",
            "  inflating: 512_Images/Train/Unlabeled/image/6422.jpg  \n",
            "  inflating: 512_Images/Train/Unlabeled/image/8208.jpg  \n",
            "  inflating: 512_Images/Train/Unlabeled/image/7026.jpg  \n",
            "  inflating: 512_Images/Train/Unlabeled/image/7288.jpg  \n",
            "  inflating: 512_Images/Train/Unlabeled/image/6756.jpg  \n",
            "  inflating: 512_Images/Train/Unlabeled/image/8234.jpg  \n",
            "  inflating: 512_Images/Train/Unlabeled/image/6375.jpg  \n",
            "  inflating: 512_Images/Train/Unlabeled/image/7522.jpg  \n",
            "  inflating: 512_Images/Train/Unlabeled/image/8225.jpg  \n",
            "  inflating: 512_Images/Train/Unlabeled/image/6523.jpg  \n",
            "  inflating: 512_Images/Train/Unlabeled/image/6528.jpg  \n",
            "  inflating: 512_Images/Train/Unlabeled/image/7787.jpg  \n",
            "  inflating: 512_Images/Train/Unlabeled/image/8477.jpg  \n",
            "  inflating: 512_Images/Train/Unlabeled/image/8659.jpg  \n",
            "  inflating: 512_Images/Train/Unlabeled/image/7783.jpg  \n",
            "  inflating: 512_Images/Train/Unlabeled/image/9085.jpg  \n",
            "  inflating: 512_Images/Train/Unlabeled/image/8545.jpg  \n",
            "  inflating: 512_Images/Train/Unlabeled/image/6525.jpg  \n",
            "  inflating: 512_Images/Train/Unlabeled/image/7027.jpg  \n",
            "  inflating: 512_Images/Train/Unlabeled/image/7205.jpg  \n",
            "  inflating: 512_Images/Train/Unlabeled/image/9797.jpg  \n",
            "  inflating: 512_Images/Train/Unlabeled/image/8132.jpg  \n",
            "  inflating: 512_Images/Train/Unlabeled/image/9053.jpg  \n",
            "  inflating: 512_Images/Train/Unlabeled/image/6929.jpg  \n",
            "  inflating: 512_Images/Train/Unlabeled/image/6969.jpg  \n",
            "  inflating: 512_Images/Train/Unlabeled/image/8425.jpg  \n",
            "  inflating: 512_Images/Train/Unlabeled/image/7070.jpg  \n",
            "  inflating: 512_Images/Train/Unlabeled/image/7702.jpg  \n",
            "  inflating: 512_Images/Train/Unlabeled/image/7908.jpg  \n",
            "  inflating: 512_Images/Train/Unlabeled/image/7786.jpg  \n",
            "  inflating: 512_Images/Train/Unlabeled/image/9062.jpg  \n",
            "  inflating: 512_Images/Train/Unlabeled/image/8236.jpg  \n",
            "  inflating: 512_Images/Train/Unlabeled/image/8206.jpg  \n",
            "  inflating: 512_Images/Train/Unlabeled/image/7585.jpg  \n",
            "  inflating: 512_Images/Train/Unlabeled/image/7725.jpg  \n",
            "  inflating: 512_Images/Train/Unlabeled/image/9349.jpg  \n",
            "  inflating: 512_Images/Train/Unlabeled/image/9019.jpg  \n",
            "  inflating: 512_Images/Train/Unlabeled/image/7832.jpg  \n",
            "  inflating: 512_Images/Train/Unlabeled/image/8770.jpg  \n",
            "  inflating: 512_Images/Train/Unlabeled/image/6416.jpg  \n",
            "  inflating: 512_Images/Train/Unlabeled/image/6770.jpg  \n",
            "  inflating: 512_Images/Train/Unlabeled/image/7354.jpg  \n",
            "  inflating: 512_Images/Train/Unlabeled/image/7858.jpg  \n",
            "  inflating: 512_Images/Train/Unlabeled/image/7366.jpg  \n",
            "  inflating: 512_Images/Train/Unlabeled/image/8150.jpg  \n",
            "  inflating: 512_Images/Train/Unlabeled/image/8969.jpg  \n",
            "  inflating: 512_Images/Train/Unlabeled/image/7739.jpg  \n",
            "  inflating: 512_Images/Train/Unlabeled/image/8047.jpg  \n",
            "  inflating: 512_Images/Train/Unlabeled/image/7766.jpg  \n",
            "  inflating: 512_Images/Train/Unlabeled/image/7682.jpg  \n",
            "  inflating: 512_Images/Train/Unlabeled/image/9546.jpg  \n",
            "  inflating: 512_Images/Train/Unlabeled/image/7597.jpg  \n",
            "  inflating: 512_Images/Train/Unlabeled/image/8974.jpg  \n",
            "  inflating: 512_Images/Train/Unlabeled/image/7750.jpg  \n",
            "  inflating: 512_Images/Train/Unlabeled/image/6939.jpg  \n",
            "  inflating: 512_Images/Train/Unlabeled/image/6813.jpg  \n",
            "  inflating: 512_Images/Train/Unlabeled/image/7059.jpg  \n",
            "  inflating: 512_Images/Train/Unlabeled/image/8984.jpg  \n",
            "  inflating: 512_Images/Train/Unlabeled/image/6966.jpg  \n",
            "  inflating: 512_Images/Train/Unlabeled/image/6530.jpg  \n",
            "  inflating: 512_Images/Train/Unlabeled/image/7857.jpg  \n",
            "  inflating: 512_Images/Train/Unlabeled/image/7377.jpg  \n",
            "  inflating: 512_Images/Train/Unlabeled/image/8044.jpg  \n",
            "  inflating: 512_Images/Train/Unlabeled/image/6797.jpg  \n",
            "  inflating: 512_Images/Train/Unlabeled/image/6601.jpg  \n",
            "  inflating: 512_Images/Train/Unlabeled/image/7436.jpg  \n",
            "  inflating: 512_Images/Train/Unlabeled/image/8590.jpg  \n",
            "  inflating: 512_Images/Train/Unlabeled/image/8304.jpg  \n",
            "  inflating: 512_Images/Train/Unlabeled/image/8900.jpg  \n",
            "  inflating: 512_Images/Train/Unlabeled/image/6689.jpg  \n",
            "  inflating: 512_Images/Train/Unlabeled/image/8371.jpg  \n",
            "  inflating: 512_Images/Train/Unlabeled/image/8520.jpg  \n",
            "  inflating: 512_Images/Train/Unlabeled/image/6670.jpg  \n",
            "  inflating: 512_Images/Train/Unlabeled/image/8174.jpg  \n",
            "  inflating: 512_Images/Train/Unlabeled/image/8998.jpg  \n",
            "  inflating: 512_Images/Train/Unlabeled/image/6369.jpg  \n",
            "  inflating: 512_Images/Train/Unlabeled/image/8796.jpg  \n",
            "  inflating: 512_Images/Train/Unlabeled/image/8995.jpg  \n",
            "  inflating: 512_Images/Train/Unlabeled/image/6584.jpg  \n",
            "  inflating: 512_Images/Train/Unlabeled/image/8110.jpg  \n",
            "  inflating: 512_Images/Train/Unlabeled/image/8053.jpg  \n",
            "  inflating: 512_Images/Train/Unlabeled/image/6352.jpg  \n",
            "  inflating: 512_Images/Train/Unlabeled/image/6387.jpg  \n",
            "  inflating: 512_Images/Train/Unlabeled/image/7438.jpg  \n",
            "  inflating: 512_Images/Train/Unlabeled/image/8315.jpg  \n",
            "  inflating: 512_Images/Train/Unlabeled/image/7091.jpg  \n",
            "  inflating: 512_Images/Train/Unlabeled/image/8540.jpg  \n",
            "  inflating: 512_Images/Train/Unlabeled/image/7869.jpg  \n",
            "  inflating: 512_Images/Train/Unlabeled/image/8080.jpg  \n",
            "  inflating: 512_Images/Train/Unlabeled/image/6627.jpg  \n",
            "  inflating: 512_Images/Train/Unlabeled/image/7430.jpg  \n",
            "  inflating: 512_Images/Train/Unlabeled/image/8552.jpg  \n",
            "  inflating: 512_Images/Train/Unlabeled/image/9010.jpg  \n",
            "  inflating: 512_Images/Train/Unlabeled/image/8118.jpg  \n",
            "  inflating: 512_Images/Train/Unlabeled/image/6385.jpg  \n",
            "  inflating: 512_Images/Train/Unlabeled/image/10168.jpg  \n",
            "  inflating: 512_Images/Train/Unlabeled/image/8548.jpg  \n",
            "  inflating: 512_Images/Train/Unlabeled/image/6754.jpg  \n",
            "  inflating: 512_Images/Train/Unlabeled/image/7175.jpg  \n",
            "  inflating: 512_Images/Train/Unlabeled/image/8952.jpg  \n",
            "  inflating: 512_Images/Train/Unlabeled/image/7136.jpg  \n",
            "  inflating: 512_Images/Train/Unlabeled/image/8588.jpg  \n",
            "  inflating: 512_Images/Train/Unlabeled/image/7097.jpg  \n",
            "  inflating: 512_Images/Train/Unlabeled/image/6376.jpg  \n",
            "  inflating: 512_Images/Train/Unlabeled/image/6853.jpg  \n",
            "  inflating: 512_Images/Train/Unlabeled/image/7547.jpg  \n",
            "  inflating: 512_Images/Train/Unlabeled/image/6902.jpg  \n",
            "  inflating: 512_Images/Train/Unlabeled/image/8593.jpg  \n",
            "  inflating: 512_Images/Train/Unlabeled/image/8098.jpg  \n",
            "  inflating: 512_Images/Train/Unlabeled/image/7061.jpg  \n",
            "  inflating: 512_Images/Train/Unlabeled/image/10820.jpg  \n",
            "  inflating: 512_Images/Train/Unlabeled/image/7017.jpg  \n",
            "  inflating: 512_Images/Train/Unlabeled/image/8129.jpg  \n",
            "  inflating: 512_Images/Train/Unlabeled/image/6498.jpg  \n",
            "  inflating: 512_Images/Train/Unlabeled/image/6431.jpg  \n",
            "  inflating: 512_Images/Train/Unlabeled/image/6450.jpg  \n",
            "  inflating: 512_Images/Train/Unlabeled/image/7953.jpg  \n",
            "  inflating: 512_Images/Train/Unlabeled/image/8173.jpg  \n",
            "  inflating: 512_Images/Train/Unlabeled/image/8953.jpg  \n",
            "  inflating: 512_Images/Train/Unlabeled/image/8230.jpg  \n",
            "  inflating: 512_Images/Train/Unlabeled/image/7580.jpg  \n",
            "  inflating: 512_Images/Train/Unlabeled/image/9875.jpg  \n",
            "  inflating: 512_Images/Train/Unlabeled/image/7037.jpg  \n",
            "  inflating: 512_Images/Train/Unlabeled/image/7075.jpg  \n",
            "  inflating: 512_Images/Train/Unlabeled/image/7673.jpg  \n",
            "  inflating: 512_Images/Train/Unlabeled/image/9353.jpg  \n",
            "  inflating: 512_Images/Train/Unlabeled/image/6563.jpg  \n",
            "  inflating: 512_Images/Train/Unlabeled/image/7878.jpg  \n",
            "  inflating: 512_Images/Train/Unlabeled/image/8589.jpg  \n",
            "  inflating: 512_Images/Train/Unlabeled/image/8095.jpg  \n",
            "  inflating: 512_Images/Train/Unlabeled/image/7648.jpg  \n",
            "  inflating: 512_Images/Train/Unlabeled/image/7022.jpg  \n",
            "  inflating: 512_Images/Train/Unlabeled/image/8587.jpg  \n",
            "  inflating: 512_Images/Train/Unlabeled/image/9116.jpg  \n",
            "  inflating: 512_Images/Train/Unlabeled/image/6749.jpg  \n",
            "  inflating: 512_Images/Train/Unlabeled/image/7688.jpg  \n",
            "  inflating: 512_Images/Train/Unlabeled/image/8504.jpg  \n",
            "  inflating: 512_Images/Train/Unlabeled/image/8433.jpg  \n",
            "  inflating: 512_Images/Train/Unlabeled/image/8555.jpg  \n",
            "  inflating: 512_Images/Train/Unlabeled/image/7848.jpg  \n",
            "  inflating: 512_Images/Train/Unlabeled/image/8134.jpg  \n",
            "  inflating: 512_Images/Train/Unlabeled/image/6541.jpg  \n",
            "  inflating: 512_Images/Train/Unlabeled/image/7924.jpg  \n",
            "  inflating: 512_Images/Train/Unlabeled/image/6399.jpg  \n",
            "  inflating: 512_Images/Train/Unlabeled/image/8224.jpg  \n",
            "  inflating: 512_Images/Train/Unlabeled/image/8491.jpg  \n",
            "  inflating: 512_Images/Train/Unlabeled/image/8921.jpg  \n",
            "  inflating: 512_Images/Train/Unlabeled/image/8029.jpg  \n",
            "  inflating: 512_Images/Train/Unlabeled/image/7579.jpg  \n",
            "  inflating: 512_Images/Train/Unlabeled/image/8916.jpg  \n",
            "  inflating: 512_Images/Train/Unlabeled/image/8109.jpg  \n",
            "  inflating: 512_Images/Train/Unlabeled/image/7612.jpg  \n",
            "  inflating: 512_Images/Train/Unlabeled/image/8803.jpg  \n",
            "  inflating: 512_Images/Train/Unlabeled/image/8352.jpg  \n",
            "  inflating: 512_Images/Train/Unlabeled/image/7090.jpg  \n",
            "  inflating: 512_Images/Train/Unlabeled/image/9894.jpg  \n",
            "  inflating: 512_Images/Train/Unlabeled/image/7345.jpg  \n",
            "  inflating: 512_Images/Train/Unlabeled/image/7662.jpg  \n",
            "  inflating: 512_Images/Train/Unlabeled/image/8380.jpg  \n",
            "  inflating: 512_Images/Train/Unlabeled/image/6675.jpg  \n",
            "  inflating: 512_Images/Train/Unlabeled/image/7575.jpg  \n",
            "  inflating: 512_Images/Train/Unlabeled/image/7729.jpg  \n",
            "  inflating: 512_Images/Train/Unlabeled/image/8345.jpg  \n",
            "  inflating: 512_Images/Train/Unlabeled/image/7677.jpg  \n",
            "  inflating: 512_Images/Train/Unlabeled/image/6351.jpg  \n",
            "  inflating: 512_Images/Train/Unlabeled/image/6365.jpg  \n",
            "  inflating: 512_Images/Train/Unlabeled/image/7521.jpg  \n",
            "  inflating: 512_Images/Train/Unlabeled/image/8465.jpg  \n",
            "  inflating: 512_Images/Train/Unlabeled/image/6360.jpg  \n",
            "  inflating: 512_Images/Train/Unlabeled/image/8131.jpg  \n",
            "  inflating: 512_Images/Train/Unlabeled/image/6803.jpg  \n",
            "  inflating: 512_Images/Train/Unlabeled/image/6456.jpg  \n",
            "  inflating: 512_Images/Train/Unlabeled/image/9059.jpg  \n",
            "  inflating: 512_Images/Train/Unlabeled/image/8085.jpg  \n",
            "  inflating: 512_Images/Train/Unlabeled/image/6444.jpg  \n",
            "  inflating: 512_Images/Train/Unlabeled/image/8968.jpg  \n",
            "  inflating: 512_Images/Train/Unlabeled/image/6534.jpg  \n",
            "  inflating: 512_Images/Train/Unlabeled/image/7784.jpg  \n",
            "  inflating: 512_Images/Train/Unlabeled/image/6501.jpg  \n",
            "  inflating: 512_Images/Train/Unlabeled/image/10184.jpg  \n",
            "  inflating: 512_Images/Train/Unlabeled/image/6552.jpg  \n",
            "  inflating: 512_Images/Train/Unlabeled/image/7304.jpg  \n",
            "  inflating: 512_Images/Train/Unlabeled/image/6424.jpg  \n",
            "  inflating: 512_Images/Train/Unlabeled/image/6819.jpg  \n",
            "  inflating: 512_Images/Train/Unlabeled/image/8037.jpg  \n",
            "  inflating: 512_Images/Train/Unlabeled/image/10806.jpg  \n",
            "  inflating: 512_Images/Train/Unlabeled/image/6970.jpg  \n",
            "  inflating: 512_Images/Train/Unlabeled/image/7614.jpg  \n",
            "  inflating: 512_Images/Train/Unlabeled/image/8986.jpg  \n",
            "  inflating: 512_Images/Train/Unlabeled/image/7996.jpg  \n",
            "  inflating: 512_Images/Train/Unlabeled/image/6608.jpg  \n",
            "  inflating: 512_Images/Train/Unlabeled/image/7242.jpg  \n",
            "  inflating: 512_Images/Train/Unlabeled/image/6622.jpg  \n",
            "  inflating: 512_Images/Train/Unlabeled/image/8501.jpg  \n",
            "  inflating: 512_Images/Train/Unlabeled/image/8207.jpg  \n",
            "  inflating: 512_Images/Train/Unlabeled/image/9514.jpg  \n",
            "  inflating: 512_Images/Train/Unlabeled/image/6793.jpg  \n",
            "  inflating: 512_Images/Train/Unlabeled/image/7177.jpg  \n",
            "  inflating: 512_Images/Train/Unlabeled/image/8445.jpg  \n",
            "  inflating: 512_Images/Train/Unlabeled/image/6931.jpg  \n",
            "  inflating: 512_Images/Train/Unlabeled/image/6533.jpg  \n",
            "  inflating: 512_Images/Train/Unlabeled/image/7130.jpg  \n",
            "  inflating: 512_Images/Train/Unlabeled/image/7460.jpg  \n",
            "  inflating: 512_Images/Train/Unlabeled/image/7603.jpg  \n",
            "  inflating: 512_Images/Train/Unlabeled/image/6499.jpg  \n",
            "  inflating: 512_Images/Train/Unlabeled/image/7567.jpg  \n",
            "  inflating: 512_Images/Train/Unlabeled/image/9049.jpg  \n",
            "  inflating: 512_Images/Train/Unlabeled/image/6985.jpg  \n",
            "  inflating: 512_Images/Train/Unlabeled/image/8481.jpg  \n",
            "  inflating: 512_Images/Train/Unlabeled/image/8223.jpg  \n",
            "  inflating: 512_Images/Train/Unlabeled/image/7422.jpg  \n",
            "  inflating: 512_Images/Train/Unlabeled/image/8001.jpg  \n",
            "  inflating: 512_Images/Train/Unlabeled/image/7212.jpg  \n",
            "  inflating: 512_Images/Train/Unlabeled/image/6350.jpg  \n",
            "  inflating: 512_Images/Train/Unlabeled/image/9047.jpg  \n",
            "  inflating: 512_Images/Train/Unlabeled/image/10834.jpg  \n",
            "  inflating: 512_Images/Train/Unlabeled/image/6992.jpg  \n",
            "  inflating: 512_Images/Train/Unlabeled/image/8330.jpg  \n",
            "  inflating: 512_Images/Train/Unlabeled/image/8973.jpg  \n",
            "  inflating: 512_Images/Train/Unlabeled/image/7132.jpg  \n",
            "  inflating: 512_Images/Train/Unlabeled/image/7096.jpg  \n",
            "  inflating: 512_Images/Train/Unlabeled/image/7306.jpg  \n",
            "  inflating: 512_Images/Train/Unlabeled/image/8527.jpg  \n",
            "  inflating: 512_Images/Train/Unlabeled/image/7833.jpg  \n",
            "  inflating: 512_Images/Train/Unlabeled/image/8774.jpg  \n",
            "  inflating: 512_Images/Train/Unlabeled/image/6335.jpg  \n",
            "  inflating: 512_Images/Train/Unlabeled/image/6736.jpg  \n",
            "  inflating: 512_Images/Train/Unlabeled/image/6710.jpg  \n",
            "  inflating: 512_Images/Train/Unlabeled/image/9075.jpg  \n",
            "  inflating: 512_Images/Train/Unlabeled/image/7439.jpg  \n",
            "  inflating: 512_Images/Train/Unlabeled/image/7573.jpg  \n",
            "  inflating: 512_Images/Train/Unlabeled/image/7263.jpg  \n",
            "  inflating: 512_Images/Train/Unlabeled/image/6531.jpg  \n",
            "  inflating: 512_Images/Train/Unlabeled/image/7798.jpg  \n",
            "  inflating: 512_Images/Train/Unlabeled/image/6569.jpg  \n",
            "  inflating: 512_Images/Train/Unlabeled/image/6402.jpg  \n",
            "  inflating: 512_Images/Train/Unlabeled/image/7828.jpg  \n",
            "  inflating: 512_Images/Train/Unlabeled/image/10841.jpg  \n",
            "  inflating: 512_Images/Train/Unlabeled/image/8277.jpg  \n",
            "  inflating: 512_Images/Train/Unlabeled/image/8817.jpg  \n",
            "  inflating: 512_Images/Train/Unlabeled/image/6657.jpg  \n",
            "  inflating: 512_Images/Train/Unlabeled/image/7044.jpg  \n",
            "  inflating: 512_Images/Train/Unlabeled/image/8480.jpg  \n",
            "  inflating: 512_Images/Train/Unlabeled/image/8975.jpg  \n",
            "  inflating: 512_Images/Train/Unlabeled/image/7545.jpg  \n",
            "  inflating: 512_Images/Train/Unlabeled/image/8915.jpg  \n",
            "  inflating: 512_Images/Train/Unlabeled/image/8487.jpg  \n",
            "  inflating: 512_Images/Train/Unlabeled/image/8274.jpg  \n",
            "  inflating: 512_Images/Train/Unlabeled/image/8935.jpg  \n",
            "  inflating: 512_Images/Train/Unlabeled/image/8184.jpg  \n",
            "  inflating: 512_Images/Train/Unlabeled/image/8182.jpg  \n",
            "  inflating: 512_Images/Train/Unlabeled/image/7728.jpg  \n",
            "  inflating: 512_Images/Train/Unlabeled/image/7161.jpg  \n",
            "  inflating: 512_Images/Train/Unlabeled/image/8473.jpg  \n",
            "  inflating: 512_Images/Train/Unlabeled/image/6760.jpg  \n",
            "  inflating: 512_Images/Train/Unlabeled/image/8419.jpg  \n",
            "  inflating: 512_Images/Train/Unlabeled/image/7194.jpg  \n",
            "  inflating: 512_Images/Train/Unlabeled/image/7932.jpg  \n",
            "  inflating: 512_Images/Train/Unlabeled/image/8918.jpg  \n",
            "  inflating: 512_Images/Train/Unlabeled/image/6995.jpg  \n",
            "  inflating: 512_Images/Train/Unlabeled/image/8496.jpg  \n",
            "  inflating: 512_Images/Train/Unlabeled/image/7896.jpg  \n",
            "  inflating: 512_Images/Train/Unlabeled/image/9898.jpg  \n",
            "  inflating: 512_Images/Train/Unlabeled/image/6655.jpg  \n",
            "  inflating: 512_Images/Train/Unlabeled/image/7258.jpg  \n",
            "  inflating: 512_Images/Train/Unlabeled/image/10300.jpg  \n",
            "  inflating: 512_Images/Train/Unlabeled/image/6548.jpg  \n",
            "  inflating: 512_Images/Train/Unlabeled/image/8389.jpg  \n",
            "  inflating: 512_Images/Train/Unlabeled/image/8311.jpg  \n",
            "  inflating: 512_Images/Train/Unlabeled/image/8305.jpg  \n",
            "  inflating: 512_Images/Train/Unlabeled/image/10182.jpg  \n",
            "  inflating: 512_Images/Train/Unlabeled/image/7875.jpg  \n",
            "  inflating: 512_Images/Train/Unlabeled/image/7589.jpg  \n",
            "  inflating: 512_Images/Train/Unlabeled/image/7601.jpg  \n",
            "  inflating: 512_Images/Train/Unlabeled/image/7756.jpg  \n",
            "  inflating: 512_Images/Train/Unlabeled/image/6461.jpg  \n",
            "  inflating: 512_Images/Train/Unlabeled/image/8463.jpg  \n",
            "  inflating: 512_Images/Train/Unlabeled/image/7125.jpg  \n",
            "  inflating: 512_Images/Train/Unlabeled/image/8024.jpg  \n",
            "  inflating: 512_Images/Train/Unlabeled/image/8190.jpg  \n",
            "  inflating: 512_Images/Train/Unlabeled/image/7073.jpg  \n",
            "  inflating: 512_Images/Train/Unlabeled/image/8107.jpg  \n",
            "  inflating: 512_Images/Train/Unlabeled/image/6687.jpg  \n",
            "  inflating: 512_Images/Train/Unlabeled/image/9078.jpg  \n",
            "  inflating: 512_Images/Train/Unlabeled/image/8052.jpg  \n",
            "  inflating: 512_Images/Train/Unlabeled/image/7189.jpg  \n",
            "  inflating: 512_Images/Train/Unlabeled/image/8970.jpg  \n",
            "  inflating: 512_Images/Train/Unlabeled/image/8886.jpg  \n",
            "  inflating: 512_Images/Train/Unlabeled/image/9896.jpg  \n",
            "  inflating: 512_Images/Train/Unlabeled/image/6358.jpg  \n",
            "  inflating: 512_Images/Train/Unlabeled/image/9017.jpg  \n",
            "  inflating: 512_Images/Train/Unlabeled/image/6737.jpg  \n",
            "  inflating: 512_Images/Train/Unlabeled/image/8536.jpg  \n",
            "  inflating: 512_Images/Train/Unlabeled/image/7038.jpg  \n",
            "  inflating: 512_Images/Train/Unlabeled/image/6763.jpg  \n",
            "  inflating: 512_Images/Train/Unlabeled/image/7340.jpg  \n",
            "  inflating: 512_Images/Train/Unlabeled/image/7958.jpg  \n",
            "  inflating: 512_Images/Train/Unlabeled/image/9015.jpg  \n",
            "  inflating: 512_Images/Train/Unlabeled/image/8406.jpg  \n",
            "  inflating: 512_Images/Train/Unlabeled/image/8539.jpg  \n",
            "  inflating: 512_Images/Train/Unlabeled/image/7705.jpg  \n",
            "  inflating: 512_Images/Train/Unlabeled/image/6708.jpg  \n",
            "  inflating: 512_Images/Train/Unlabeled/image/9108.jpg  \n",
            "  inflating: 512_Images/Train/Unlabeled/image/7292.jpg  \n",
            "  inflating: 512_Images/Train/Unlabeled/image/7247.jpg  \n",
            "  inflating: 512_Images/Train/Unlabeled/image/7975.jpg  \n",
            "  inflating: 512_Images/Train/Unlabeled/image/7678.jpg  \n",
            "  inflating: 512_Images/Train/Unlabeled/image/7335.jpg  \n",
            "  inflating: 512_Images/Train/Unlabeled/image/8931.jpg  \n",
            "  inflating: 512_Images/Train/Unlabeled/image/6574.jpg  \n",
            "  inflating: 512_Images/Train/Unlabeled/image/6573.jpg  \n",
            "  inflating: 512_Images/Train/Unlabeled/image/6516.jpg  \n",
            "  inflating: 512_Images/Train/Unlabeled/image/9007.jpg  \n",
            "  inflating: 512_Images/Train/Unlabeled/image/7782.jpg  \n",
            "  inflating: 512_Images/Train/Unlabeled/image/6442.jpg  \n",
            "  inflating: 512_Images/Train/Unlabeled/image/7171.jpg  \n",
            "  inflating: 512_Images/Train/Unlabeled/image/6714.jpg  \n",
            "  inflating: 512_Images/Train/Unlabeled/image/7542.jpg  \n",
            "  inflating: 512_Images/Train/Unlabeled/image/7115.jpg  \n",
            "  inflating: 512_Images/Train/Unlabeled/image/7222.jpg  \n",
            "  inflating: 512_Images/Train/Unlabeled/image/7768.jpg  \n",
            "  inflating: 512_Images/Train/Unlabeled/image/8410.jpg  \n",
            "  inflating: 512_Images/Train/Unlabeled/image/6783.jpg  \n",
            "  inflating: 512_Images/Train/Unlabeled/image/7987.jpg  \n",
            "  inflating: 512_Images/Train/Unlabeled/image/6662.jpg  \n",
            "  inflating: 512_Images/Train/Unlabeled/image/7859.jpg  \n",
            "  inflating: 512_Images/Train/Unlabeled/image/9879.jpg  \n",
            "  inflating: 512_Images/Train/Unlabeled/image/10826.jpg  \n",
            "  inflating: 512_Images/Train/Unlabeled/image/7000.jpg  \n",
            "  inflating: 512_Images/Train/Unlabeled/image/6546.jpg  \n",
            "  inflating: 512_Images/Train/Unlabeled/image/7314.jpg  \n",
            "  inflating: 512_Images/Train/Unlabeled/image/7176.jpg  \n",
            "  inflating: 512_Images/Train/Unlabeled/image/8278.jpg  \n",
            "  inflating: 512_Images/Train/Unlabeled/image/8143.jpg  \n",
            "  inflating: 512_Images/Train/Unlabeled/image/7939.jpg  \n",
            "  inflating: 512_Images/Train/Unlabeled/image/8820.jpg  \n",
            "  inflating: 512_Images/Train/Unlabeled/image/8138.jpg  \n",
            "  inflating: 512_Images/Train/Unlabeled/image/9366.jpg  \n",
            "  inflating: 512_Images/Train/Unlabeled/image/8586.jpg  \n",
            "  inflating: 512_Images/Train/Unlabeled/image/8492.jpg  \n",
            "  inflating: 512_Images/Train/Unlabeled/image/7094.jpg  \n",
            "  inflating: 512_Images/Train/Unlabeled/image/9880.jpg  \n",
            "  inflating: 512_Images/Train/Unlabeled/image/7830.jpg  \n",
            "  inflating: 512_Images/Train/Unlabeled/image/9063.jpg  \n",
            "  inflating: 512_Images/Train/Unlabeled/image/7467.jpg  \n",
            "  inflating: 512_Images/Train/Unlabeled/image/8938.jpg  \n",
            "  inflating: 512_Images/Train/Unlabeled/image/8205.jpg  \n",
            "  inflating: 512_Images/Train/Unlabeled/image/8158.jpg  \n",
            "  inflating: 512_Images/Train/Unlabeled/image/7055.jpg  \n",
            "  inflating: 512_Images/Train/Unlabeled/image/6852.jpg  \n",
            "  inflating: 512_Images/Train/Unlabeled/image/6971.jpg  \n",
            "  inflating: 512_Images/Train/Unlabeled/image/7107.jpg  \n",
            "  inflating: 512_Images/Train/Unlabeled/image/8994.jpg  \n",
            "  inflating: 512_Images/Train/Unlabeled/image/6814.jpg  \n",
            "  inflating: 512_Images/Train/Unlabeled/image/8070.jpg  \n",
            "  inflating: 512_Images/Train/Unlabeled/image/7845.jpg  \n",
            "  inflating: 512_Images/Train/Unlabeled/image/8963.jpg  \n",
            "  inflating: 512_Images/Train/Unlabeled/image/8248.jpg  \n",
            "  inflating: 512_Images/Train/Unlabeled/image/7737.jpg  \n",
            "  inflating: 512_Images/Train/Unlabeled/image/7008.jpg  \n",
            "  inflating: 512_Images/Train/Unlabeled/image/9101.jpg  \n",
            "  inflating: 512_Images/Train/Unlabeled/image/6668.jpg  \n",
            "  inflating: 512_Images/Train/Unlabeled/image/7951.jpg  \n",
            "  inflating: 512_Images/Train/Unlabeled/image/7236.jpg  \n",
            "  inflating: 512_Images/Train/Unlabeled/image/7244.jpg  \n",
            "  inflating: 512_Images/Train/Unlabeled/image/8521.jpg  \n",
            "  inflating: 512_Images/Train/Unlabeled/image/8420.jpg  \n",
            "  inflating: 512_Images/Train/Unlabeled/image/6934.jpg  \n",
            "  inflating: 512_Images/Train/Unlabeled/image/8502.jpg  \n",
            "  inflating: 512_Images/Train/Unlabeled/image/7487.jpg  \n",
            "  inflating: 512_Images/Train/Unlabeled/image/7680.jpg  \n",
            "  inflating: 512_Images/Train/Unlabeled/image/9897.jpg  \n",
            "  inflating: 512_Images/Train/Unlabeled/image/8980.jpg  \n",
            "  inflating: 512_Images/Train/Unlabeled/image/7451.jpg  \n",
            "  inflating: 512_Images/Train/Unlabeled/image/6438.jpg  \n",
            "  inflating: 512_Images/Train/Unlabeled/image/7685.jpg  \n",
            "  inflating: 512_Images/Train/Unlabeled/image/7164.jpg  \n",
            "  inflating: 512_Images/Train/Unlabeled/image/8284.jpg  \n",
            "  inflating: 512_Images/Train/Unlabeled/image/9043.jpg  \n",
            "  inflating: 512_Images/Train/Unlabeled/image/8917.jpg  \n",
            "  inflating: 512_Images/Train/Unlabeled/image/7767.jpg  \n",
            "  inflating: 512_Images/Train/Unlabeled/image/8799.jpg  \n",
            "  inflating: 512_Images/Train/Unlabeled/image/8605.jpg  \n",
            "  inflating: 512_Images/Train/Unlabeled/image/6484.jpg  \n",
            "  inflating: 512_Images/Train/Unlabeled/image/7979.jpg  \n",
            "  inflating: 512_Images/Train/Unlabeled/image/8392.jpg  \n",
            "  inflating: 512_Images/Train/Unlabeled/image/8000.jpg  \n",
            "  inflating: 512_Images/Train/Unlabeled/image/8321.jpg  \n",
            "  inflating: 512_Images/Train/Unlabeled/image/8483.jpg  \n",
            "  inflating: 512_Images/Train/Unlabeled/image/7868.jpg  \n",
            "  inflating: 512_Images/Train/Unlabeled/image/8431.jpg  \n",
            "  inflating: 512_Images/Train/Unlabeled/image/8175.jpg  \n",
            "  inflating: 512_Images/Train/Unlabeled/image/6527.jpg  \n",
            "  inflating: 512_Images/Train/Unlabeled/image/6409.jpg  \n",
            "  inflating: 512_Images/Train/Unlabeled/image/8382.jpg  \n",
            "  inflating: 512_Images/Train/Unlabeled/image/7952.jpg  \n",
            "  inflating: 512_Images/Train/Unlabeled/image/8348.jpg  \n",
            "  inflating: 512_Images/Train/Unlabeled/image/6610.jpg  \n",
            "  inflating: 512_Images/Train/Unlabeled/image/8135.jpg  \n",
            "  inflating: 512_Images/Train/Unlabeled/image/6998.jpg  \n",
            "  inflating: 512_Images/Train/Unlabeled/image/8222.jpg  \n",
            "  inflating: 512_Images/Train/Unlabeled/image/6403.jpg  \n",
            "  inflating: 512_Images/Train/Unlabeled/image/6334.jpg  \n",
            "  inflating: 512_Images/Train/Unlabeled/image/7719.jpg  \n",
            "  inflating: 512_Images/Train/Unlabeled/image/7025.jpg  \n",
            "  inflating: 512_Images/Train/Unlabeled/image/6592.jpg  \n",
            "  inflating: 512_Images/Train/Unlabeled/image/7934.jpg  \n",
            "  inflating: 512_Images/Train/Unlabeled/image/8996.jpg  \n",
            "  inflating: 512_Images/Train/Unlabeled/image/8418.jpg  \n",
            "  inflating: 512_Images/Train/Unlabeled/image/7792.jpg  \n",
            "  inflating: 512_Images/Train/Unlabeled/image/7186.jpg  \n",
            "  inflating: 512_Images/Train/Unlabeled/image/8142.jpg  \n",
            "  inflating: 512_Images/Train/Unlabeled/image/8299.jpg  \n",
            "  inflating: 512_Images/Train/Unlabeled/image/7448.jpg  \n",
            "  inflating: 512_Images/Train/Unlabeled/image/7427.jpg  \n",
            "  inflating: 512_Images/Train/Unlabeled/image/8615.jpg  \n",
            "  inflating: 512_Images/Train/Unlabeled/image/6818.jpg  \n",
            "  inflating: 512_Images/Train/Unlabeled/image/6947.jpg  \n",
            "  inflating: 512_Images/Train/Unlabeled/image/8099.jpg  \n",
            "  inflating: 512_Images/Train/Unlabeled/image/7865.jpg  \n",
            "  inflating: 512_Images/Train/Unlabeled/image/7157.jpg  \n",
            "  inflating: 512_Images/Train/Unlabeled/image/7916.jpg  \n",
            "  inflating: 512_Images/Train/Unlabeled/image/7006.jpg  \n",
            "  inflating: 512_Images/Train/Unlabeled/image/8042.jpg  \n",
            "  inflating: 512_Images/Train/Unlabeled/image/9077.jpg  \n",
            "  inflating: 512_Images/Train/Unlabeled/image/9033.jpg  \n",
            "  inflating: 512_Images/Train/Unlabeled/image/6388.jpg  \n",
            "  inflating: 512_Images/Train/Unlabeled/image/6681.jpg  \n",
            "  inflating: 512_Images/Train/Unlabeled/image/8833.jpg  \n",
            "  inflating: 512_Images/Train/Unlabeled/image/6748.jpg  \n",
            "  inflating: 512_Images/Train/Unlabeled/image/6968.jpg  \n",
            "  inflating: 512_Images/Train/Unlabeled/image/6798.jpg  \n",
            "  inflating: 512_Images/Train/Unlabeled/image/9538.jpg  \n",
            "  inflating: 512_Images/Train/Unlabeled/image/6830.jpg  \n",
            "  inflating: 512_Images/Train/Unlabeled/image/6469.jpg  \n",
            "  inflating: 512_Images/Train/Unlabeled/image/9071.jpg  \n",
            "  inflating: 512_Images/Train/Unlabeled/image/8281.jpg  \n",
            "  inflating: 512_Images/Train/Unlabeled/image/7715.jpg  \n",
            "  inflating: 512_Images/Train/Unlabeled/image/8357.jpg  \n",
            "  inflating: 512_Images/Train/Unlabeled/image/7557.jpg  \n",
            "  inflating: 512_Images/Train/Unlabeled/image/7566.jpg  \n",
            "  inflating: 512_Images/Train/Unlabeled/image/7264.jpg  \n",
            "  inflating: 512_Images/Train/Unlabeled/image/8049.jpg  \n",
            "  inflating: 512_Images/Train/Unlabeled/image/7559.jpg  \n",
            "  inflating: 512_Images/Train/Unlabeled/image/10566.jpg  \n",
            "  inflating: 512_Images/Train/Unlabeled/image/8318.jpg  \n",
            "  inflating: 512_Images/Train/Unlabeled/image/8235.jpg  \n",
            "  inflating: 512_Images/Train/Unlabeled/image/6926.jpg  \n",
            "  inflating: 512_Images/Train/Unlabeled/image/9091.jpg  \n",
            "  inflating: 512_Images/Train/Unlabeled/image/7021.jpg  \n",
            "  inflating: 512_Images/Train/Unlabeled/image/6857.jpg  \n",
            "  inflating: 512_Images/Train/Unlabeled/image/8240.jpg  \n",
            "  inflating: 512_Images/Train/Unlabeled/image/7847.jpg  \n",
            "  inflating: 512_Images/Train/Unlabeled/image/6713.jpg  \n",
            "  inflating: 512_Images/Train/Unlabeled/image/6408.jpg  \n",
            "  inflating: 512_Images/Train/Unlabeled/image/8010.jpg  \n",
            "  inflating: 512_Images/Train/Unlabeled/image/6506.jpg  \n",
            "  inflating: 512_Images/Train/Unlabeled/image/7239.jpg  \n",
            "  inflating: 512_Images/Train/Unlabeled/image/8221.jpg  \n",
            "  inflating: 512_Images/Train/Unlabeled/image/7661.jpg  \n",
            "  inflating: 512_Images/Train/Unlabeled/image/8014.jpg  \n",
            "  inflating: 512_Images/Train/Unlabeled/image/8090.jpg  \n",
            "  inflating: 512_Images/Train/Unlabeled/image/6543.jpg  \n",
            "  inflating: 512_Images/Train/Unlabeled/image/7316.jpg  \n",
            "  inflating: 512_Images/Train/Unlabeled/image/7299.jpg  \n",
            "  inflating: 512_Images/Train/Unlabeled/image/6496.jpg  \n",
            "  inflating: 512_Images/Train/Unlabeled/image/7477.jpg  \n",
            "  inflating: 512_Images/Train/Unlabeled/image/8432.jpg  \n",
            "  inflating: 512_Images/Train/Unlabeled/image/7174.jpg  \n",
            "  inflating: 512_Images/Train/Unlabeled/image/7465.jpg  \n",
            "  inflating: 512_Images/Train/Unlabeled/image/8312.jpg  \n",
            "  inflating: 512_Images/Train/Unlabeled/image/6904.jpg  \n",
            "  inflating: 512_Images/Train/Unlabeled/image/7525.jpg  \n",
            "  inflating: 512_Images/Train/Unlabeled/image/7188.jpg  \n",
            "  inflating: 512_Images/Train/Unlabeled/image/8168.jpg  \n",
            "  inflating: 512_Images/Train/Unlabeled/image/7011.jpg  \n",
            "  inflating: 512_Images/Train/Unlabeled/image/6849.jpg  \n",
            "  inflating: 512_Images/Train/Unlabeled/image/7118.jpg  \n",
            "  inflating: 512_Images/Train/Unlabeled/image/7933.jpg  \n",
            "  inflating: 512_Images/Train/Unlabeled/image/6346.jpg  \n",
            "  inflating: 512_Images/Train/Unlabeled/image/8526.jpg  \n",
            "  inflating: 512_Images/Train/Unlabeled/image/6946.jpg  \n",
            "  inflating: 512_Images/Train/Unlabeled/image/6779.jpg  \n",
            "  inflating: 512_Images/Train/Unlabeled/image/7905.jpg  \n",
            "  inflating: 512_Images/Train/Unlabeled/image/7131.jpg  \n",
            "  inflating: 512_Images/Train/Unlabeled/image/6664.jpg  \n",
            "  inflating: 512_Images/Train/Unlabeled/image/7776.jpg  \n",
            "  inflating: 512_Images/Train/Unlabeled/image/8192.jpg  \n",
            "  inflating: 512_Images/Train/Unlabeled/image/8951.jpg  \n",
            "  inflating: 512_Images/Train/Unlabeled/image/7526.jpg  \n",
            "  inflating: 512_Images/Train/Unlabeled/image/10835.jpg  \n",
            "  inflating: 512_Images/Train/Unlabeled/image/8547.jpg  \n",
            "  inflating: 512_Images/Train/Unlabeled/image/8987.jpg  \n",
            "  inflating: 512_Images/Train/Unlabeled/image/8910.jpg  \n",
            "  inflating: 512_Images/Train/Unlabeled/image/7843.jpg  \n",
            "  inflating: 512_Images/Train/Unlabeled/image/7849.jpg  \n",
            "  inflating: 512_Images/Train/Unlabeled/image/6566.jpg  \n",
            "  inflating: 512_Images/Train/Unlabeled/image/6341.jpg  \n",
            "  inflating: 512_Images/Train/Unlabeled/image/6597.jpg  \n",
            "  inflating: 512_Images/Train/Unlabeled/image/8965.jpg  \n",
            "  inflating: 512_Images/Train/Unlabeled/image/6799.jpg  \n",
            "  inflating: 512_Images/Train/Unlabeled/image/6457.jpg  \n",
            "  inflating: 512_Images/Train/Unlabeled/image/8072.jpg  \n",
            "  inflating: 512_Images/Train/Unlabeled/image/7110.jpg  \n",
            "  inflating: 512_Images/Train/Unlabeled/image/7552.jpg  \n",
            "  inflating: 512_Images/Train/Unlabeled/image/8045.jpg  \n",
            "  inflating: 512_Images/Train/Unlabeled/image/6899.jpg  \n",
            "  inflating: 512_Images/Train/Unlabeled/image/9023.jpg  \n",
            "  inflating: 512_Images/Train/Unlabeled/image/6381.jpg  \n",
            "  inflating: 512_Images/Train/Unlabeled/image/8280.jpg  \n",
            "  inflating: 512_Images/Train/Unlabeled/image/8783.jpg  \n",
            "  inflating: 512_Images/Train/Unlabeled/image/6745.jpg  \n",
            "  inflating: 512_Images/Train/Unlabeled/image/6685.jpg  \n",
            "  inflating: 512_Images/Train/Unlabeled/image/7864.jpg  \n",
            "  inflating: 512_Images/Train/Unlabeled/image/8943.jpg  \n",
            "  inflating: 512_Images/Train/Unlabeled/image/9885.jpg  \n",
            "  inflating: 512_Images/Train/Unlabeled/image/6466.jpg  \n",
            "  inflating: 512_Images/Train/Unlabeled/image/6790.jpg  \n",
            "  inflating: 512_Images/Train/Unlabeled/image/7948.jpg  \n",
            "  inflating: 512_Images/Train/Unlabeled/image/7082.jpg  \n",
            "  inflating: 512_Images/Train/Unlabeled/image/8083.jpg  \n",
            "  inflating: 512_Images/Train/Unlabeled/image/9090.jpg  \n",
            "  inflating: 512_Images/Train/Unlabeled/image/8177.jpg  \n",
            "  inflating: 512_Images/Train/Unlabeled/image/7947.jpg  \n",
            "  inflating: 512_Images/Train/Unlabeled/image/6719.jpg  \n",
            "  inflating: 512_Images/Train/Unlabeled/image/8082.jpg  \n",
            "  inflating: 512_Images/Train/Unlabeled/image/8272.jpg  \n",
            "  inflating: 512_Images/Train/Unlabeled/image/9064.jpg  \n",
            "  inflating: 512_Images/Train/Unlabeled/image/8335.jpg  \n",
            "  inflating: 512_Images/Train/Unlabeled/image/8823.jpg  \n",
            "  inflating: 512_Images/Train/Unlabeled/image/8148.jpg  \n",
            "  inflating: 512_Images/Train/Unlabeled/image/8055.jpg  \n",
            "  inflating: 512_Images/Train/Unlabeled/image/7201.jpg  \n",
            "  inflating: 512_Images/Train/Unlabeled/image/6652.jpg  \n",
            "  inflating: 512_Images/Train/Unlabeled/image/6509.jpg  \n",
            "  inflating: 512_Images/Train/Unlabeled/image/8145.jpg  \n",
            "  inflating: 512_Images/Train/Unlabeled/image/8252.jpg  \n",
            "  inflating: 512_Images/Train/Unlabeled/image/7720.jpg  \n",
            "  inflating: 512_Images/Train/Unlabeled/image/8493.jpg  \n",
            "  inflating: 512_Images/Train/Unlabeled/image/7426.jpg  \n",
            "  inflating: 512_Images/Train/Unlabeled/image/7278.jpg  \n",
            "  inflating: 512_Images/Train/Unlabeled/image/9084.jpg  \n",
            "  inflating: 512_Images/Train/Unlabeled/image/7966.jpg  \n",
            "  inflating: 512_Images/Train/Unlabeled/image/6996.jpg  \n",
            "  inflating: 512_Images/Train/Unlabeled/image/6666.jpg  \n",
            "  inflating: 512_Images/Train/Unlabeled/image/7287.jpg  \n",
            "  inflating: 512_Images/Train/Unlabeled/image/9513.jpg  \n",
            "  inflating: 512_Images/Train/Unlabeled/image/8923.jpg  \n",
            "  inflating: 512_Images/Train/Unlabeled/image/8958.jpg  \n",
            "  inflating: 512_Images/Train/Unlabeled/image/7182.jpg  \n",
            "  inflating: 512_Images/Train/Unlabeled/image/7305.jpg  \n",
            "  inflating: 512_Images/Train/Unlabeled/image/8089.jpg  \n",
            "  inflating: 512_Images/Train/Unlabeled/image/7873.jpg  \n",
            "  inflating: 512_Images/Train/Unlabeled/image/9074.jpg  \n",
            "  inflating: 512_Images/Train/Unlabeled/image/6914.jpg  \n",
            "  inflating: 512_Images/Train/Unlabeled/image/6833.jpg  \n",
            "  inflating: 512_Images/Train/Unlabeled/image/7883.jpg  \n",
            "  inflating: 512_Images/Train/Unlabeled/image/7226.jpg  \n",
            "  inflating: 512_Images/Train/Unlabeled/image/9030.jpg  \n",
            "  inflating: 512_Images/Train/Unlabeled/image/8197.jpg  \n",
            "  inflating: 512_Images/Train/Unlabeled/image/7142.jpg  \n",
            "  inflating: 512_Images/Train/Unlabeled/image/6625.jpg  \n",
            "  inflating: 512_Images/Train/Unlabeled/image/9105.jpg  \n",
            "  inflating: 512_Images/Train/Unlabeled/image/6891.jpg  \n",
            "  inflating: 512_Images/Train/Unlabeled/image/7686.jpg  \n",
            "  inflating: 512_Images/Train/Unlabeled/image/6492.jpg  \n",
            "  inflating: 512_Images/Train/Unlabeled/image/8423.jpg  \n",
            "  inflating: 512_Images/Train/Unlabeled/image/7949.jpg  \n",
            "  inflating: 512_Images/Train/Unlabeled/image/8366.jpg  \n",
            "  inflating: 512_Images/Train/Unlabeled/image/7187.jpg  \n",
            "  inflating: 512_Images/Train/Unlabeled/image/6635.jpg  \n",
            "  inflating: 512_Images/Train/Unlabeled/image/7245.jpg  \n",
            "  inflating: 512_Images/Train/Unlabeled/image/9099.jpg  \n",
            "  inflating: 512_Images/Train/Unlabeled/image/8046.jpg  \n",
            "  inflating: 512_Images/Train/Unlabeled/image/6559.jpg  \n",
            "  inflating: 512_Images/Train/Unlabeled/image/8416.jpg  \n",
            "  inflating: 512_Images/Train/Unlabeled/image/6613.jpg  \n",
            "  inflating: 512_Images/Train/Unlabeled/image/7753.jpg  \n",
            "  inflating: 512_Images/Train/Unlabeled/image/6673.jpg  \n",
            "  inflating: 512_Images/Train/Unlabeled/image/6347.jpg  \n",
            "  inflating: 512_Images/Train/Unlabeled/image/8260.jpg  \n",
            "  inflating: 512_Images/Train/Unlabeled/image/6810.jpg  \n",
            "  inflating: 512_Images/Train/Unlabeled/image/7293.jpg  \n",
            "  inflating: 512_Images/Train/Unlabeled/image/9079.jpg  \n",
            "  inflating: 512_Images/Train/Unlabeled/image/7923.jpg  \n",
            "  inflating: 512_Images/Train/Unlabeled/image/8282.jpg  \n",
            "  inflating: 512_Images/Train/Unlabeled/image/8108.jpg  \n",
            "  inflating: 512_Images/Train/Unlabeled/image/6542.jpg  \n",
            "  inflating: 512_Images/Train/Unlabeled/image/7453.jpg  \n",
            "  inflating: 512_Images/Train/Unlabeled/image/9088.jpg  \n",
            "  inflating: 512_Images/Train/Unlabeled/image/7974.jpg  \n",
            "  inflating: 512_Images/Train/Unlabeled/image/8906.jpg  \n",
            "  inflating: 512_Images/Train/Unlabeled/image/10170.jpg  \n",
            "  inflating: 512_Images/Train/Unlabeled/image/7837.jpg  \n",
            "  inflating: 512_Images/Train/Unlabeled/image/6414.jpg  \n",
            "  inflating: 512_Images/Train/Unlabeled/image/8231.jpg  \n",
            "  inflating: 512_Images/Train/Unlabeled/image/6435.jpg  \n",
            "  inflating: 512_Images/Train/Unlabeled/image/7582.jpg  \n",
            "  inflating: 512_Images/Train/Unlabeled/image/6616.jpg  \n",
            "  inflating: 512_Images/Train/Unlabeled/image/7950.jpg  \n",
            "  inflating: 512_Images/Train/Unlabeled/image/6364.jpg  \n",
            "  inflating: 512_Images/Train/Unlabeled/image/6373.jpg  \n",
            "  inflating: 512_Images/Train/Unlabeled/image/7703.jpg  \n",
            "  inflating: 512_Images/Train/Unlabeled/image/8933.jpg  \n",
            "  inflating: 512_Images/Train/Unlabeled/image/6826.jpg  \n",
            "  inflating: 512_Images/Train/Unlabeled/image/6560.jpg  \n",
            "  inflating: 512_Images/Train/Unlabeled/image/8152.jpg  \n",
            "  inflating: 512_Images/Train/Unlabeled/image/8093.jpg  \n",
            "  inflating: 512_Images/Train/Unlabeled/image/8344.jpg  \n",
            "  inflating: 512_Images/Train/Unlabeled/image/6526.jpg  \n",
            "  inflating: 512_Images/Train/Unlabeled/image/7548.jpg  \n",
            "  inflating: 512_Images/Train/Unlabeled/image/6846.jpg  \n",
            "  inflating: 512_Images/Train/Unlabeled/image/9144.jpg  \n",
            "  inflating: 512_Images/Train/Unlabeled/image/7285.jpg  \n",
            "  inflating: 512_Images/Train/Unlabeled/image/11723.jpg  \n",
            "  inflating: 512_Images/Train/Unlabeled/image/8403.jpg  \n",
            "  inflating: 512_Images/Train/Unlabeled/image/7319.jpg  \n",
            "  inflating: 512_Images/Train/Unlabeled/image/8791.jpg  \n",
            "  inflating: 512_Images/Train/Unlabeled/image/7229.jpg  \n",
            "  inflating: 512_Images/Train/Unlabeled/image/7440.jpg  \n",
            "  inflating: 512_Images/Train/Unlabeled/image/7271.jpg  \n",
            "  inflating: 512_Images/Train/Unlabeled/image/6640.jpg  \n",
            "  inflating: 512_Images/Train/Unlabeled/image/8442.jpg  \n",
            "  inflating: 512_Images/Train/Unlabeled/image/7256.jpg  \n",
            "  inflating: 512_Images/Train/Unlabeled/image/6363.jpg  \n",
            "  inflating: 512_Images/Train/Unlabeled/image/7322.jpg  \n",
            "  inflating: 512_Images/Train/Unlabeled/image/7714.jpg  \n",
            "  inflating: 512_Images/Train/Unlabeled/image/8249.jpg  \n",
            "  inflating: 512_Images/Train/Unlabeled/image/7653.jpg  \n",
            "  inflating: 512_Images/Train/Unlabeled/image/7574.jpg  \n",
            "  inflating: 512_Images/Train/Unlabeled/image/8265.jpg  \n",
            "  inflating: 512_Images/Train/Unlabeled/image/8313.jpg  \n",
            "  inflating: 512_Images/Train/Unlabeled/image/8393.jpg  \n",
            "  inflating: 512_Images/Train/Unlabeled/image/7681.jpg  \n",
            "  inflating: 512_Images/Train/Unlabeled/image/7761.jpg  \n",
            "  inflating: 512_Images/Train/Unlabeled/image/6858.jpg  \n",
            "  inflating: 512_Images/Train/Unlabeled/image/8430.jpg  \n",
            "  inflating: 512_Images/Train/Unlabeled/image/6603.jpg  \n",
            "  inflating: 512_Images/Train/Unlabeled/image/8485.jpg  \n",
            "  inflating: 512_Images/Train/Unlabeled/image/10825.jpg  \n",
            "  inflating: 512_Images/Train/Unlabeled/image/6957.jpg  \n",
            "  inflating: 512_Images/Train/Unlabeled/image/8464.jpg  \n",
            "  inflating: 512_Images/Train/Unlabeled/image/8200.jpg  \n",
            "  inflating: 512_Images/Train/Unlabeled/image/6462.jpg  \n",
            "  inflating: 512_Images/Train/Unlabeled/image/8091.jpg  \n",
            "  inflating: 512_Images/Train/Unlabeled/image/7731.jpg  \n",
            "  inflating: 512_Images/Train/Unlabeled/image/10818.jpg  \n",
            "  inflating: 512_Images/Train/Unlabeled/image/7977.jpg  \n",
            "  inflating: 512_Images/Train/Unlabeled/image/8470.jpg  \n",
            "  inflating: 512_Images/Train/Unlabeled/image/7844.jpg  \n",
            "  inflating: 512_Images/Train/Unlabeled/image/7313.jpg  \n",
            "  inflating: 512_Images/Train/Unlabeled/image/6755.jpg  \n",
            "  inflating: 512_Images/Train/Unlabeled/image/8008.jpg  \n",
            "  inflating: 512_Images/Train/Unlabeled/image/8535.jpg  \n",
            "  inflating: 512_Images/Train/Unlabeled/image/8354.jpg  \n",
            "  inflating: 512_Images/Train/Unlabeled/image/9025.jpg  \n",
            "  inflating: 512_Images/Train/Unlabeled/image/8228.jpg  \n",
            "  inflating: 512_Images/Train/Unlabeled/image/6460.jpg  \n",
            "  inflating: 512_Images/Train/Unlabeled/image/7963.jpg  \n",
            "  inflating: 512_Images/Train/Unlabeled/image/9081.jpg  \n",
            "  inflating: 512_Images/Train/Unlabeled/image/6712.jpg  \n",
            "  inflating: 512_Images/Train/Unlabeled/image/6743.jpg  \n",
            "  inflating: 512_Images/Train/Unlabeled/image/9877.jpg  \n",
            "  inflating: 512_Images/Train/Unlabeled/image/7458.jpg  \n",
            "  inflating: 512_Images/Train/Unlabeled/image/8320.jpg  \n",
            "  inflating: 512_Images/Train/Unlabeled/image/7272.jpg  \n",
            "  inflating: 512_Images/Train/Unlabeled/image/6404.jpg  \n",
            "  inflating: 512_Images/Train/Unlabeled/image/9008.jpg  \n",
            "  inflating: 512_Images/Train/Unlabeled/image/8528.jpg  \n",
            "  inflating: 512_Images/Train/Unlabeled/image/8202.jpg  \n",
            "  inflating: 512_Images/Train/Unlabeled/image/6504.jpg  \n",
            "  inflating: 512_Images/Train/Unlabeled/image/6993.jpg  \n",
            "  inflating: 512_Images/Train/Unlabeled/image/8947.jpg  \n",
            "  inflating: 512_Images/Train/Unlabeled/image/6851.jpg  \n",
            "  inflating: 512_Images/Train/Unlabeled/image/9103.jpg  \n",
            "  inflating: 512_Images/Train/Unlabeled/image/7760.jpg  \n",
            "  inflating: 512_Images/Train/Unlabeled/image/6974.jpg  \n",
            "  inflating: 512_Images/Train/Unlabeled/image/8484.jpg  \n",
            "  inflating: 512_Images/Train/Unlabeled/image/6654.jpg  \n",
            "  inflating: 512_Images/Train/Unlabeled/image/6686.jpg  \n",
            "  inflating: 512_Images/Train/Unlabeled/image/7971.jpg  \n",
            "  inflating: 512_Images/Train/Unlabeled/image/9094.jpg  \n",
            "  inflating: 512_Images/Train/Unlabeled/image/8167.jpg  \n",
            "  inflating: 512_Images/Train/Unlabeled/image/8512.jpg  \n",
            "  inflating: 512_Images/Train/Unlabeled/image/7449.jpg  \n",
            "  inflating: 512_Images/Train/Unlabeled/image/7167.jpg  \n",
            "  inflating: 512_Images/Train/Unlabeled/image/7736.jpg  \n",
            "  inflating: 512_Images/Train/Unlabeled/image/8038.jpg  \n",
            "  inflating: 512_Images/Train/Unlabeled/image/8013.jpg  \n",
            "  inflating: 512_Images/Train/Unlabeled/image/6922.jpg  \n",
            "  inflating: 512_Images/Train/Unlabeled/image/6732.jpg  \n",
            "  inflating: 512_Images/Train/Unlabeled/image/8905.jpg  \n",
            "  inflating: 512_Images/Train/Unlabeled/image/7861.jpg  \n",
            "  inflating: 512_Images/Train/Unlabeled/image/8904.jpg  \n",
            "  inflating: 512_Images/Train/Unlabeled/image/8216.jpg  \n",
            "  inflating: 512_Images/Train/Unlabeled/image/8599.jpg  \n",
            "  inflating: 512_Images/Train/Unlabeled/image/6617.jpg  \n",
            "  inflating: 512_Images/Train/Unlabeled/image/7356.jpg  \n",
            "  inflating: 512_Images/Train/Unlabeled/image/8400.jpg  \n",
            "  inflating: 512_Images/Train/Unlabeled/image/7910.jpg  \n",
            "  inflating: 512_Images/Train/Unlabeled/image/8381.jpg  \n",
            "  inflating: 512_Images/Train/Unlabeled/image/7816.jpg  \n",
            "  inflating: 512_Images/Train/Unlabeled/image/9089.jpg  \n",
            "  inflating: 512_Images/Train/Unlabeled/image/8982.jpg  \n",
            "  inflating: 512_Images/Train/Unlabeled/image/7163.jpg  \n",
            "  inflating: 512_Images/Train/Unlabeled/image/6660.jpg  \n",
            "  inflating: 512_Images/Train/Unlabeled/image/7700.jpg  \n",
            "  inflating: 512_Images/Train/Unlabeled/image/7665.jpg  \n",
            "  inflating: 512_Images/Train/Unlabeled/image/8490.jpg  \n",
            "  inflating: 512_Images/Train/Unlabeled/image/7165.jpg  \n",
            "  inflating: 512_Images/Train/Unlabeled/image/6645.jpg  \n",
            "  inflating: 512_Images/Train/Unlabeled/image/6374.jpg  \n",
            "  inflating: 512_Images/Train/Unlabeled/image/8193.jpg  \n",
            "  inflating: 512_Images/Train/Unlabeled/image/7209.jpg  \n",
            "  inflating: 512_Images/Train/Unlabeled/image/8347.jpg  \n",
            "  inflating: 512_Images/Train/Unlabeled/image/8256.jpg  \n",
            "  inflating: 512_Images/Train/Unlabeled/image/7181.jpg  \n",
            "  inflating: 512_Images/Train/Unlabeled/image/8030.jpg  \n",
            "  inflating: 512_Images/Train/Unlabeled/image/9052.jpg  \n",
            "  inflating: 512_Images/Train/Unlabeled/image/7841.jpg  \n",
            "  inflating: 512_Images/Train/Unlabeled/image/9874.jpg  \n",
            "  inflating: 512_Images/Train/Unlabeled/image/6900.jpg  \n",
            "  inflating: 512_Images/Train/Unlabeled/image/7902.jpg  \n",
            "  inflating: 512_Images/Train/Unlabeled/image/6901.jpg  \n",
            "  inflating: 512_Images/Train/Unlabeled/image/9558.jpg  \n",
            "  inflating: 512_Images/Train/Unlabeled/image/6956.jpg  \n",
            "  inflating: 512_Images/Train/Unlabeled/image/7560.jpg  \n",
            "  inflating: 512_Images/Train/Unlabeled/image/8932.jpg  \n",
            "  inflating: 512_Images/Train/Unlabeled/image/6647.jpg  \n",
            "  inflating: 512_Images/Train/Unlabeled/image/6591.jpg  \n",
            "  inflating: 512_Images/Train/Unlabeled/image/10179.jpg  \n",
            "  inflating: 512_Images/Train/Unlabeled/image/8978.jpg  \n",
            "  inflating: 512_Images/Train/Unlabeled/image/6976.jpg  \n",
            "  inflating: 512_Images/Train/Unlabeled/image/6451.jpg  \n",
            "  inflating: 512_Images/Train/Unlabeled/image/8879.jpg  \n",
            "  inflating: 512_Images/Train/Unlabeled/image/10181.jpg  \n",
            "  inflating: 512_Images/Train/Unlabeled/image/6678.jpg  \n",
            "  inflating: 512_Images/Train/Unlabeled/image/9104.jpg  \n",
            "  inflating: 512_Images/Train/Unlabeled/image/6361.jpg  \n",
            "  inflating: 512_Images/Train/Unlabeled/image/6433.jpg  \n",
            "  inflating: 512_Images/Train/Unlabeled/image/7336.jpg  \n",
            "  inflating: 512_Images/Train/Unlabeled/image/7230.jpg  \n",
            "  inflating: 512_Images/Train/Unlabeled/image/6715.jpg  \n",
            "  inflating: 512_Images/Train/Unlabeled/image/7363.jpg  \n",
            "  inflating: 512_Images/Train/Unlabeled/image/6940.jpg  \n",
            "  inflating: 512_Images/Train/Unlabeled/image/7596.jpg  \n",
            "  inflating: 512_Images/Train/Unlabeled/image/7007.jpg  \n",
            "  inflating: 512_Images/Train/Unlabeled/image/8436.jpg  \n",
            "  inflating: 512_Images/Train/Unlabeled/image/7981.jpg  \n",
            "  inflating: 512_Images/Train/Unlabeled/image/6820.jpg  \n",
            "  inflating: 512_Images/Train/Unlabeled/image/8553.jpg  \n",
            "  inflating: 512_Images/Train/Unlabeled/image/8369.jpg  \n",
            "  inflating: 512_Images/Train/Unlabeled/image/7659.jpg  \n",
            "  inflating: 512_Images/Train/Unlabeled/image/8261.jpg  \n",
            "  inflating: 512_Images/Train/Unlabeled/image/8375.jpg  \n",
            "  inflating: 512_Images/Train/Unlabeled/image/6807.jpg  \n",
            "  inflating: 512_Images/Train/Unlabeled/image/7481.jpg  \n",
            "  inflating: 512_Images/Train/Unlabeled/image/8546.jpg  \n",
            "  inflating: 512_Images/Train/Unlabeled/image/9034.jpg  \n",
            "  inflating: 512_Images/Train/Unlabeled/image/6945.jpg  \n",
            "  inflating: 512_Images/Train/Unlabeled/image/7147.jpg  \n",
            "  inflating: 512_Images/Train/Unlabeled/image/6739.jpg  \n",
            "  inflating: 512_Images/Train/Unlabeled/image/7770.jpg  \n",
            "  inflating: 512_Images/Train/Unlabeled/image/7664.jpg  \n",
            "  inflating: 512_Images/Train/Unlabeled/image/8390.jpg  \n",
            "  inflating: 512_Images/Train/Unlabeled/image/7043.jpg  \n",
            "  inflating: 512_Images/Train/Unlabeled/image/6746.jpg  \n",
            "  inflating: 512_Images/Train/Unlabeled/image/9718.jpg  \n",
            "  inflating: 512_Images/Train/Unlabeled/image/8507.jpg  \n",
            "  inflating: 512_Images/Train/Unlabeled/image/6764.jpg  \n",
            "  inflating: 512_Images/Train/Unlabeled/image/8081.jpg  \n",
            "  inflating: 512_Images/Train/Unlabeled/image/8801.jpg  \n",
            "  inflating: 512_Images/Train/Unlabeled/image/9087.jpg  \n",
            "  inflating: 512_Images/Train/Unlabeled/image/7807.jpg  \n",
            "  inflating: 512_Images/Train/Unlabeled/image/6930.jpg  \n",
            "  inflating: 512_Images/Train/Unlabeled/image/7722.jpg  \n",
            "  inflating: 512_Images/Train/Unlabeled/image/8925.jpg  \n",
            "  inflating: 512_Images/Train/Unlabeled/image/8020.jpg  \n",
            "  inflating: 512_Images/Train/Unlabeled/image/10171.jpg  \n",
            "  inflating: 512_Images/Train/Unlabeled/image/9887.jpg  \n",
            "  inflating: 512_Images/Train/Unlabeled/image/7290.jpg  \n",
            "  inflating: 512_Images/Train/Unlabeled/image/9895.jpg  \n",
            "  inflating: 512_Images/Train/Unlabeled/image/8043.jpg  \n",
            "  inflating: 512_Images/Train/Unlabeled/image/8804.jpg  \n",
            "  inflating: 512_Images/Train/Unlabeled/image/8955.jpg  \n",
            "  inflating: 512_Images/Train/Unlabeled/image/6967.jpg  \n",
            "  inflating: 512_Images/Train/Unlabeled/image/6738.jpg  \n",
            "  inflating: 512_Images/Train/Unlabeled/image/8297.jpg  \n",
            "  inflating: 512_Images/Train/Unlabeled/image/6384.jpg  \n",
            "  inflating: 512_Images/Train/Unlabeled/image/8417.jpg  \n",
            "  inflating: 512_Images/Train/Unlabeled/image/8497.jpg  \n",
            "  inflating: 512_Images/Train/Unlabeled/image/8469.jpg  \n",
            "  inflating: 512_Images/Train/Unlabeled/image/6762.jpg  \n",
            "  inflating: 512_Images/Train/Unlabeled/image/6928.jpg  \n",
            "  inflating: 512_Images/Train/Unlabeled/image/7086.jpg  \n",
            "  inflating: 512_Images/Train/Unlabeled/image/9029.jpg  \n",
            "  inflating: 512_Images/Train/Unlabeled/image/7015.jpg  \n",
            "  inflating: 512_Images/Train/Unlabeled/image/8818.jpg  \n",
            "  inflating: 512_Images/Train/Unlabeled/image/7310.jpg  \n",
            "  inflating: 512_Images/Train/Unlabeled/image/6510.jpg  \n",
            "  inflating: 512_Images/Train/Unlabeled/image/8914.jpg  \n",
            "  inflating: 512_Images/Train/Unlabeled/image/6443.jpg  \n",
            "  inflating: 512_Images/Train/Unlabeled/image/8821.jpg  \n",
            "  inflating: 512_Images/Train/Unlabeled/image/7452.jpg  \n",
            "  inflating: 512_Images/Train/Unlabeled/image/8032.jpg  \n",
            "  inflating: 512_Images/Train/Unlabeled/image/8506.jpg  \n",
            "  inflating: 512_Images/Train/Unlabeled/image/7520.jpg  \n",
            "  inflating: 512_Images/Train/Unlabeled/image/8551.jpg  \n",
            "  inflating: 512_Images/Train/Unlabeled/image/8133.jpg  \n",
            "  inflating: 512_Images/Train/Unlabeled/image/6909.jpg  \n",
            "  inflating: 512_Images/Train/Unlabeled/image/8411.jpg  \n",
            "  inflating: 512_Images/Train/Unlabeled/image/9346.jpg  \n",
            "  inflating: 512_Images/Train/Unlabeled/image/7735.jpg  \n",
            "  inflating: 512_Images/Train/Unlabeled/image/8413.jpg  \n",
            "  inflating: 512_Images/Train/Unlabeled/image/6379.jpg  \n",
            "  inflating: 512_Images/Train/Unlabeled/image/9795.jpg  \n",
            "  inflating: 512_Images/Train/Unlabeled/image/8960.jpg  \n",
            "  inflating: 512_Images/Train/Unlabeled/image/6415.jpg  \n",
            "  inflating: 512_Images/Train/Unlabeled/image/7179.jpg  \n",
            "  inflating: 512_Images/Train/Unlabeled/image/7954.jpg  \n",
            "  inflating: 512_Images/Train/Unlabeled/image/6913.jpg  \n",
            "  inflating: 512_Images/Train/Unlabeled/image/6787.jpg  \n",
            "  inflating: 512_Images/Train/Unlabeled/image/7959.jpg  \n",
            "  inflating: 512_Images/Train/Unlabeled/image/7796.jpg  \n",
            "  inflating: 512_Images/Train/Unlabeled/image/8122.jpg  \n",
            "  inflating: 512_Images/Train/Unlabeled/image/7127.jpg  \n",
            "  inflating: 512_Images/Train/Unlabeled/image/9026.jpg  \n",
            "  inflating: 512_Images/Train/Unlabeled/image/7265.jpg  \n",
            "  inflating: 512_Images/Train/Unlabeled/image/7707.jpg  \n",
            "  inflating: 512_Images/Train/Unlabeled/image/8438.jpg  \n",
            "  inflating: 512_Images/Train/Unlabeled/image/7009.jpg  \n",
            "  inflating: 512_Images/Train/Unlabeled/image/8164.jpg  \n",
            "  inflating: 512_Images/Train/Unlabeled/image/7655.jpg  \n",
            "  inflating: 512_Images/Train/Unlabeled/image/7777.jpg  \n",
            "  inflating: 512_Images/Train/Unlabeled/image/7375.jpg  \n",
            "  inflating: 512_Images/Train/Unlabeled/image/7871.jpg  \n",
            "  inflating: 512_Images/Train/Unlabeled/image/8255.jpg  \n",
            "  inflating: 512_Images/Train/Unlabeled/image/8508.jpg  \n",
            "  inflating: 512_Images/Train/Unlabeled/image/6537.jpg  \n",
            "  inflating: 512_Images/Train/Unlabeled/image/6728.jpg  \n",
            "  inflating: 512_Images/Train/Unlabeled/image/9065.jpg  \n",
            "  inflating: 512_Images/Train/Unlabeled/image/7210.jpg  \n",
            "  inflating: 512_Images/Train/Unlabeled/image/6859.jpg  \n",
            "  inflating: 512_Images/Train/Unlabeled/image/6643.jpg  \n",
            "  inflating: 512_Images/Train/Unlabeled/image/7087.jpg  \n",
            "  inflating: 512_Images/Train/Unlabeled/image/9098.jpg  \n",
            "  inflating: 512_Images/Train/Unlabeled/image/6965.jpg  \n",
            "  inflating: 512_Images/Train/Unlabeled/image/9511.jpg  \n",
            "  inflating: 512_Images/Train/Unlabeled/image/8922.jpg  \n",
            "  inflating: 512_Images/Train/Unlabeled/image/7122.jpg  \n",
            "  inflating: 512_Images/Train/Unlabeled/image/8427.jpg  \n",
            "  inflating: 512_Images/Train/Unlabeled/image/7894.jpg  \n",
            "  inflating: 512_Images/Train/Unlabeled/image/7474.jpg  \n",
            "  inflating: 512_Images/Train/Unlabeled/image/8056.jpg  \n",
            "  inflating: 512_Images/Train/Unlabeled/image/7311.jpg  \n",
            "  inflating: 512_Images/Train/Unlabeled/image/7353.jpg  \n",
            "  inflating: 512_Images/Train/Unlabeled/image/6935.jpg  \n",
            "  inflating: 512_Images/Train/Unlabeled/image/7079.jpg  \n",
            "  inflating: 512_Images/Train/Unlabeled/image/10827.jpg  \n"
          ],
          "name": "stdout"
        }
      ]
    },
    {
      "cell_type": "code",
      "metadata": {
        "colab": {
          "base_uri": "https://localhost:8080/"
        },
        "id": "dSWm-lXz6dlN",
        "outputId": "a6a0520c-03f5-400d-ea8b-35d724c5fed8"
      },
      "source": [
        "%cd 512_Images"
      ],
      "execution_count": null,
      "outputs": [
        {
          "output_type": "stream",
          "text": [
            "/content/512_Images\n"
          ],
          "name": "stdout"
        }
      ]
    },
    {
      "cell_type": "code",
      "metadata": {
        "colab": {
          "base_uri": "https://localhost:8080/"
        },
        "id": "4DoyUgyNOiHm",
        "outputId": "89028920-5aee-4557-fbed-44868de8e95d"
      },
      "source": [
        "!ls Train/Labeled"
      ],
      "execution_count": null,
      "outputs": [
        {
          "output_type": "stream",
          "text": [
            "Flooded  Non-Flooded\n"
          ],
          "name": "stdout"
        }
      ]
    },
    {
      "cell_type": "markdown",
      "metadata": {
        "id": "oddkSivmB9iY"
      },
      "source": [
        "#Saving Masks"
      ]
    },
    {
      "cell_type": "code",
      "metadata": {
        "colab": {
          "base_uri": "https://localhost:8080/"
        },
        "id": "ewNLbu_NlBmB",
        "outputId": "0de9ea73-fbb3-4d33-be00-7ddea81787cd"
      },
      "source": [
        "device = torch.device(\"cuda:0\" if torch.cuda.is_available() else \"cpu\")\n",
        "print(device)"
      ],
      "execution_count": null,
      "outputs": [
        {
          "output_type": "stream",
          "text": [
            "cuda:0\n"
          ],
          "name": "stdout"
        }
      ]
    },
    {
      "cell_type": "code",
      "metadata": {
        "colab": {
          "base_uri": "https://localhost:8080/"
        },
        "id": "Mh0gGIurPMK2",
        "outputId": "852a8f8f-1837-44f6-f12e-10d91446f64f"
      },
      "source": [
        "!ls Train/Labeled\n",
        "print(len(os.listdir('/content/512_Images/Train/Labeled/Flooded/image')))\n",
        "print(len(os.listdir('/content/512_Images/Train/Labeled/Non-Flooded/image')))\n",
        "print(len(os.listdir('/content/512_Images/Train/Labeled/Flooded/mask')))\n",
        "print(len(os.listdir('/content/512_Images/Train/Labeled/Non-Flooded/mask')))"
      ],
      "execution_count": null,
      "outputs": [
        {
          "output_type": "stream",
          "text": [
            "ls: cannot access 'Train/Labeled': No such file or directory\n",
            "51\n",
            "347\n",
            "51\n",
            "347\n"
          ],
          "name": "stdout"
        }
      ]
    },
    {
      "cell_type": "code",
      "metadata": {
        "colab": {
          "base_uri": "https://localhost:8080/"
        },
        "id": "hrGeMTTSVBTi",
        "outputId": "fbb1a30d-b940-4eaa-b0fd-293c41a3399a"
      },
      "source": [
        "imgs = [os.path.join(\"Train/Labeled/Flooded/image\", img_n) for img_n in os.listdir('/content/512_Images/Train/Labeled/Flooded/image')]\n",
        "imgs += [os.path.join(\"Train/Labeled/Non-Flooded/image\", img_n) for img_n in os.listdir('/content/512_Images/Train/Labeled/Non-Flooded/image')]\n",
        "imgs = sorted(imgs)\n",
        "print(len(imgs), imgs[0])"
      ],
      "execution_count": null,
      "outputs": [
        {
          "output_type": "stream",
          "text": [
            "398 Train/Labeled/Flooded/image/10165.jpg\n"
          ],
          "name": "stdout"
        }
      ]
    },
    {
      "cell_type": "code",
      "metadata": {
        "colab": {
          "base_uri": "https://localhost:8080/",
          "height": 35
        },
        "id": "gTW40_lcVuuN",
        "outputId": "e5758c01-e09f-4965-ddf5-89d197a37ef2"
      },
      "source": [
        "imgs[0]"
      ],
      "execution_count": null,
      "outputs": [
        {
          "output_type": "execute_result",
          "data": {
            "application/vnd.google.colaboratory.intrinsic+json": {
              "type": "string"
            },
            "text/plain": [
              "'Train/Labeled/Flooded/image/10165.jpg'"
            ]
          },
          "metadata": {
            "tags": []
          },
          "execution_count": 7
        }
      ]
    },
    {
      "cell_type": "code",
      "metadata": {
        "colab": {
          "base_uri": "https://localhost:8080/"
        },
        "id": "JkGpoSjKREyg",
        "outputId": "2e715bb2-0ea1-4dcb-d36d-e1de7b50363e"
      },
      "source": [
        "347 + 51"
      ],
      "execution_count": null,
      "outputs": [
        {
          "output_type": "execute_result",
          "data": {
            "text/plain": [
              "398"
            ]
          },
          "metadata": {
            "tags": []
          },
          "execution_count": 8
        }
      ]
    },
    {
      "cell_type": "code",
      "metadata": {
        "id": "v5oUe53wR5gf"
      },
      "source": [
        "DIR_PATH='/content/512_Images'\n",
        "MODEL_PATH_UNET='/content/drive/MyDrive/models/_Unet_anki_final40.pt'\n",
        "MODEL_PATH_PSP= '/content/drive/MyDrive/models/final-PSPNet_2-resnet101-ep_101-0.001-24.pt'\n",
        "MODEL_PATH_DL='/content/drive/MyDrive/models/abhi-pretrained_preproc_1-deeplabv3+-ep_79-0.001-8.pt'\n",
        "MODEL_PATH_DLPS= '/content/drive/MyDrive/models/abhi_sudo-pretrained_preproc_1-deeplabv3+-ep_20-0.001-8.pt'"
      ],
      "execution_count": null,
      "outputs": []
    },
    {
      "cell_type": "code",
      "metadata": {
        "id": "9B3U6eCnEW7h"
      },
      "source": [
        "val_transform = transforms.Compose([\n",
        "    transforms.ToTensor(),\n",
        "    transforms.Normalize([0.485, 0.456, 0.406], [0.229, 0.224, 0.225])\n",
        "    ])"
      ],
      "execution_count": null,
      "outputs": []
    },
    {
      "cell_type": "code",
      "metadata": {
        "id": "isvXV3rGkmoF"
      },
      "source": [
        "def reverse_transform_mask(inp):\n",
        "    inp=inp.transpose((1, 2, 0))\n",
        "    t_mask=np.argmax(inp,axis=2).astype('float32') \n",
        "    t_mask=cv2.resize(t_mask, dsize=(4000, 3000))\n",
        "    return t_mask"
      ],
      "execution_count": null,
      "outputs": []
    },
    {
      "cell_type": "code",
      "metadata": {
        "colab": {
          "base_uri": "https://localhost:8080/",
          "height": 35
        },
        "id": "CzJd1WvaU1ec",
        "outputId": "4b6bc5d9-6d6e-462f-84be-2b05a5b230d0"
      },
      "source": [
        "imgs[0]"
      ],
      "execution_count": null,
      "outputs": [
        {
          "output_type": "execute_result",
          "data": {
            "application/vnd.google.colaboratory.intrinsic+json": {
              "type": "string"
            },
            "text/plain": [
              "'10165.jpg'"
            ]
          },
          "metadata": {
            "tags": []
          },
          "execution_count": 48
        }
      ]
    },
    {
      "cell_type": "code",
      "metadata": {
        "id": "dD3vFFUjD02B"
      },
      "source": [
        "class ValDataset:\n",
        "    def __init__(self, dir_path, imgs, val_trans, img_dim):\n",
        "        self.dir_path=dir_path\n",
        "        self.imgs = imgs\n",
        "        self.img_dim = img_dim\n",
        "        self.val_trans=val_trans\n",
        "\n",
        "    def __len__(self):\n",
        "      return len(self.imgs)\n",
        "\n",
        "    def __getitem__(self, index):\n",
        "      # image = cv2.resize(cv2.imread(os.path.join(self.dir_path,self.imgs[index])), dsize=(self.img_dim, self.img_dim))\n",
        "      image = cv2.imread(os.path.join(self.dir_path,self.imgs[index]))\n",
        "      if self.val_trans:\n",
        "        image=self.val_trans(image)\n",
        "      return image, index"
      ],
      "execution_count": null,
      "outputs": []
    },
    {
      "cell_type": "code",
      "metadata": {
        "id": "sX_hLTbECCtO"
      },
      "source": [
        "LOAD_SIZE= 10\n",
        "val_set = ValDataset(DIR_PATH,imgs, val_transform , img_dim=IMG_DIM)\n",
        "val_dataloader = torch.utils.data.DataLoader(val_set, batch_size=LOAD_SIZE, shuffle=False)"
      ],
      "execution_count": null,
      "outputs": []
    },
    {
      "cell_type": "code",
      "metadata": {
        "id": "5ffuUyyVIPrN",
        "colab": {
          "base_uri": "https://localhost:8080/",
          "height": 188,
          "referenced_widgets": [
            "458cec8dd3994166a6cc7d5db6ebd47b",
            "b0f4ee03b40d41bab7e734c928bb8869",
            "414e3654c69b4243ac857e97d11e3bd4",
            "7447cec6d12247289056621cb1cc96f9",
            "433cd70ef9844b7c932ac412c4ae1971",
            "32aac742ba4e4f0ea3beadb9d56e573e",
            "6f93d295ef044c73addc0e621aca4f90",
            "509aaffe9e5e4f2a941cac1f33dabeb9",
            "d63bbbad3a8c45fab9e7ba0065664f75",
            "6f4a5d7ee3a44fdcbefdd0c0a2564b31",
            "20a23eb93f534f9e881d825614165620",
            "f5dc1f550f83485e98d4c64b63726305",
            "1914c7a2404b4370b3152c8fe651cdc1",
            "00b7391194db4a51a89296fa32aca762",
            "593115c263c74a96a5440955696c244d",
            "4f003c21fad940bc94faa8067d257c0d"
          ]
        },
        "outputId": "0523d467-f133-4253-eb1c-cbdd8dcbd594"
      },
      "source": [
        "# model_name = \"UNET\" # DV3S PSP DV3 UNET\n",
        "# SAVE_PATH=f'/content/drive/MyDrive/512_Images/inferences-{model_name}'\n",
        "# os.makedirs(SAVE_PATH, exist_ok=True)\n",
        "# if model_name == \"DV3S\":\n",
        "#   model = segmentation_models_pytorch.DeepLabV3Plus(encoder_name='efficientnet-b3', encoder_depth=5, \n",
        "#                                                   decoder_channels=256,classes=10)\n",
        "#   model.load_state_dict(torch.load(MODEL_PATH_DLPS))\n",
        "# elif model_name == \"PSP\":\n",
        "#   model = segmentation_models_pytorch.PSPNet(encoder_name='resnet101', encoder_weights='imagenet', encoder_depth=3, \n",
        "#                                                  psp_out_channels=512, psp_use_batchnorm=True, psp_dropout=0.2, in_channels=3, \n",
        "#                                                  classes=10, activation=None, upsampling=8, aux_params=None)\n",
        "#   model.load_state_dict(torch.load(MODEL_PATH_PSP))\n",
        "# elif model_name == \"DV3\":\n",
        "#   model = segmentation_models_pytorch.DeepLabV3Plus(encoder_name='efficientnet-b3', encoder_depth=5, \n",
        "#                                                   decoder_channels=256,classes=10)\n",
        "#   model.load_state_dict(torch.load(MODEL_PATH_DL))\n",
        "# elif model_name == \"UNET\":\n",
        "#   model = segmentation_models_pytorch.Unet(encoder_name='resnet34', encoder_depth=5, \n",
        "#                                          decoder_channels=(256, 128, 64, 32, 16), classes=10)\n",
        "#   model.load_state_dict(torch.load(MODEL_PATH_UNET))\n",
        "\n",
        "# model = model.to(device)\n",
        "# model.eval()\n",
        "# for inputs, index in tqdm(val_dataloader):\n",
        "#   inputs = inputs.to(device)\n",
        "#   preds = model(inputs)\n",
        "#   preds = F.sigmoid(preds)\n",
        "#   preds = preds.data.cpu().numpy()\n",
        "#   for i in range(min(LOAD_SIZE, len(index))):\n",
        "#     f_mask=reverse_transform_mask(preds[i])\n",
        "#     cv2.imwrite(os.path.join(SAVE_PATH,str(imgs[index[i]].split(\"/\")[-1].replace(\"jpg\", \"png\"))),f_mask)"
      ],
      "execution_count": null,
      "outputs": [
        {
          "output_type": "stream",
          "text": [
            "Downloading: \"https://download.pytorch.org/models/resnet34-333f7ec4.pth\" to /root/.cache/torch/hub/checkpoints/resnet34-333f7ec4.pth\n"
          ],
          "name": "stderr"
        },
        {
          "output_type": "display_data",
          "data": {
            "application/vnd.jupyter.widget-view+json": {
              "model_id": "458cec8dd3994166a6cc7d5db6ebd47b",
              "version_minor": 0,
              "version_major": 2
            },
            "text/plain": [
              "HBox(children=(FloatProgress(value=0.0, max=87306240.0), HTML(value='')))"
            ]
          },
          "metadata": {
            "tags": []
          }
        },
        {
          "output_type": "stream",
          "text": [
            "\n"
          ],
          "name": "stdout"
        },
        {
          "output_type": "display_data",
          "data": {
            "application/vnd.jupyter.widget-view+json": {
              "model_id": "d63bbbad3a8c45fab9e7ba0065664f75",
              "version_minor": 0,
              "version_major": 2
            },
            "text/plain": [
              "HBox(children=(FloatProgress(value=0.0, max=40.0), HTML(value='')))"
            ]
          },
          "metadata": {
            "tags": []
          }
        },
        {
          "output_type": "stream",
          "text": [
            "/usr/local/lib/python3.7/dist-packages/torch/nn/functional.py:1709: UserWarning: nn.functional.sigmoid is deprecated. Use torch.sigmoid instead.\n",
            "  warnings.warn(\"nn.functional.sigmoid is deprecated. Use torch.sigmoid instead.\")\n"
          ],
          "name": "stderr"
        },
        {
          "output_type": "stream",
          "text": [
            "\n"
          ],
          "name": "stdout"
        }
      ]
    },
    {
      "cell_type": "code",
      "metadata": {
        "colab": {
          "base_uri": "https://localhost:8080/",
          "height": 167
        },
        "id": "tPGTFuCNYeuS",
        "outputId": "385afa4b-6dc4-4f6c-8de0-d601d7bfd256"
      },
      "source": [
        "len(os.listdir(SAVE_PATH)) # 398"
      ],
      "execution_count": null,
      "outputs": [
        {
          "output_type": "error",
          "ename": "NameError",
          "evalue": "ignored",
          "traceback": [
            "\u001b[0;31m---------------------------------------------------------------------------\u001b[0m",
            "\u001b[0;31mNameError\u001b[0m                                 Traceback (most recent call last)",
            "\u001b[0;32m<ipython-input-10-ae7770efc149>\u001b[0m in \u001b[0;36m<module>\u001b[0;34m()\u001b[0m\n\u001b[0;32m----> 1\u001b[0;31m \u001b[0mlen\u001b[0m\u001b[0;34m(\u001b[0m\u001b[0mos\u001b[0m\u001b[0;34m.\u001b[0m\u001b[0mlistdir\u001b[0m\u001b[0;34m(\u001b[0m\u001b[0mSAVE_PATH\u001b[0m\u001b[0;34m)\u001b[0m\u001b[0;34m)\u001b[0m \u001b[0;31m# 398\u001b[0m\u001b[0;34m\u001b[0m\u001b[0;34m\u001b[0m\u001b[0m\n\u001b[0m",
            "\u001b[0;31mNameError\u001b[0m: name 'SAVE_PATH' is not defined"
          ]
        }
      ]
    },
    {
      "cell_type": "code",
      "metadata": {
        "colab": {
          "base_uri": "https://localhost:8080/"
        },
        "id": "oExk6BqcajlH",
        "outputId": "e72f4cc9-0e04-467b-f0ab-2848faf6c2e3"
      },
      "source": [
        "masks = [os.path.join(\"/content/512_Images/Train/Labeled/Flooded/mask\", img_n) for img_n in os.listdir('/content/512_Images/Train/Labeled/Flooded/mask')]\n",
        "masks += [os.path.join(\"/content/512_Images/Train/Labeled/Non-Flooded/mask\", img_n) for img_n in os.listdir('/content/512_Images/Train/Labeled/Non-Flooded/mask')]\n",
        "masks = sorted(masks)\n",
        "print(len(masks), masks[0])"
      ],
      "execution_count": null,
      "outputs": [
        {
          "output_type": "stream",
          "text": [
            "398 /content/512_Images/Train/Labeled/Flooded/mask/10165_lab.png\n"
          ],
          "name": "stdout"
        }
      ]
    },
    {
      "cell_type": "code",
      "metadata": {
        "colab": {
          "base_uri": "https://localhost:8080/"
        },
        "id": "-QDnozAqg7RG",
        "outputId": "ea9e7d4c-ca5e-441a-d9d5-a0be24045fe1"
      },
      "source": [
        "# models = [\"DV3S\", \"PSP\", \"DV3\", \"UNET\",]\n",
        "imgs = sorted([os.path.join('/content/512_Images', i) for i in imgs])\n",
        "\n",
        "unet_m = sorted(os.listdir(f'/content/drive/MyDrive/512_Images/inferences-UNET'))\n",
        "unet_m = sorted([os.path.join('/content/drive/MyDrive/512_Images/inferences-UNET', i) for i in unet_m])\n",
        "\n",
        "psp_m = sorted(os.listdir(f'/content/drive/MyDrive/512_Images/inferences-PSP'))\n",
        "psp_m = sorted([os.path.join('/content/drive/MyDrive/512_Images/inferences-PSP', i) for i in psp_m])\n",
        "\n",
        "dv3_m = sorted(os.listdir(f'/content/drive/MyDrive/512_Images/inferences-DV3'))\n",
        "dv3_m = sorted([os.path.join('/content/drive/MyDrive/512_Images/inferences-DV3', i) for i in dv3_m])\n",
        "\n",
        "dv3s_m = sorted(os.listdir(f'/content/drive/MyDrive/512_Images/inferences-DV3S'))\n",
        "dv3s_m = sorted([os.path.join('/content/drive/MyDrive/512_Images/inferences-DV3S', i) for i in dv3s_m])\n",
        "\n",
        "grn_t = sorted(masks)\n",
        "\n",
        "print(len(imgs), imgs[0])\n",
        "print(len(unet_m), unet_m[0])\n",
        "print(len(psp_m), psp_m[0])\n",
        "print(len(dv3_m), dv3_m[0])\n",
        "print(len(dv3s_m), dv3s_m[0])\n",
        "print(len(grn_t), grn_t[0])"
      ],
      "execution_count": null,
      "outputs": [
        {
          "output_type": "stream",
          "text": [
            "398 /content/512_Images/Train/Labeled/Flooded/image/10165.jpg\n",
            "398 /content/drive/MyDrive/512_Images/inferences-UNET/10165.png\n",
            "398 /content/drive/MyDrive/512_Images/inferences-PSP/10165.png\n",
            "398 /content/drive/MyDrive/512_Images/inferences-DV3/10165.png\n",
            "398 /content/drive/MyDrive/512_Images/inferences-DV3S/10165.png\n",
            "398 /content/512_Images/Train/Labeled/Flooded/mask/10165_lab.png\n"
          ],
          "name": "stdout"
        }
      ]
    },
    {
      "cell_type": "code",
      "metadata": {
        "colab": {
          "base_uri": "https://localhost:8080/"
        },
        "id": "CTw6UQylOsUO",
        "outputId": "2eb0bdd5-9ac5-4a96-e0dc-5a39240799d4"
      },
      "source": [
        "count = 0\n",
        "for im, un, ps, dv, ds, g in zip(imgs, unet_m, psp_m, dv3_m, dv3s_m, grn_t):\n",
        "  im = im.split(\"/\")[-1].split(\".\")[0]\n",
        "  un = f\"/content/drive/MyDrive/512_Images/inferences-UNET/{im}.png\"\n",
        "  un = un.split(\"/\")[-1].split(\".\")[0]\n",
        "  ps = f\"/content/drive/MyDrive/512_Images/inferences-PSP/{im}.png\"\n",
        "  ps = ps.split(\"/\")[-1].split(\".\")[0]\n",
        "  dv = f\"/content/drive/MyDrive/512_Images/inferences-DV3/{im}.png\"\n",
        "  dv = dv.split(\"/\")[-1].split(\".\")[0]\n",
        "  ds = f\"/content/drive/MyDrive/512_Images/inferences-DV3S/{im}.png\"\n",
        "  ds = ds.split(\"/\")[-1].split(\".\")[0]\n",
        "  g = f\"/content/512_Images/Train/Labeled/Flooded/mask/{im}_lab.png\"\n",
        "  g = g.split(\"/\")[-1].split(\".\")[0].replace(\"_lab\", \"\")\n",
        "  if not (im == un == ps == dv == ds == g):\n",
        "    # print(im)\n",
        "    count += 1 \n",
        "print(count)"
      ],
      "execution_count": null,
      "outputs": [
        {
          "output_type": "stream",
          "text": [
            "0\n"
          ],
          "name": "stdout"
        }
      ]
    },
    {
      "cell_type": "code",
      "metadata": {
        "id": "hSkm7T7ggVf9"
      },
      "source": [
        "num_imgs = 2"
      ],
      "execution_count": null,
      "outputs": []
    },
    {
      "cell_type": "code",
      "metadata": {
        "colab": {
          "base_uri": "https://localhost:8080/"
        },
        "id": "RGFmXpcxjtzL",
        "outputId": "9f98bd9f-7930-40d6-d1ed-68598423e464"
      },
      "source": [
        "len(im_paths)"
      ],
      "execution_count": null,
      "outputs": [
        {
          "output_type": "execute_result",
          "data": {
            "text/plain": [
              "18"
            ]
          },
          "metadata": {
            "tags": []
          },
          "execution_count": 102
        }
      ]
    },
    {
      "cell_type": "code",
      "metadata": {
        "colab": {
          "base_uri": "https://localhost:8080/"
        },
        "id": "4YgaArAPpllu",
        "outputId": "7a0aed61-0f96-49dc-8501-5187298fedac"
      },
      "source": [
        "\n",
        "math.ceil(398/3)\n",
        "print(len(imgs))"
      ],
      "execution_count": null,
      "outputs": [
        {
          "output_type": "stream",
          "text": [
            "398\n"
          ],
          "name": "stdout"
        }
      ]
    },
    {
      "cell_type": "code",
      "metadata": {
        "colab": {
          "base_uri": "https://localhost:8080/"
        },
        "id": "qvDJ5H3bqBAn",
        "outputId": "c040b6f4-3ae4-4a9c-fb29-8babc9c44b3a"
      },
      "source": [
        "threes = 0\n",
        "twos = 0\n",
        "for i in range(math.ceil(len(imgs) / 3)):\n",
        "  num_imgs = min(3, len(imgs[i*3:i*3+3]))\n",
        "  if num_imgs == 2:\n",
        "    twos += 1\n",
        "  elif num_imgs == 3:\n",
        "    threes += 1\n",
        "print(twos, threes)"
      ],
      "execution_count": null,
      "outputs": [
        {
          "output_type": "stream",
          "text": [
            "1 132\n"
          ],
          "name": "stdout"
        }
      ]
    },
    {
      "cell_type": "code",
      "metadata": {
        "colab": {
          "base_uri": "https://localhost:8080/",
          "height": 1000,
          "referenced_widgets": [
            "6323d3463575421faa6e79216fbb8c41",
            "d22462c1db424e24a3135477d92ea4d7",
            "ab20371bef6544f791375b30d9904b68",
            "0d3ab8a609c14703af4529b5651f69ea",
            "8d827860a362414a88d08d2af5b73ad7",
            "7e2d917dd1104320be17f31b8bb076b9",
            "163ef05081b94bbf91f7905950173e01",
            "e9639514670b43539c99fc68d8574746"
          ]
        },
        "id": "YWOXEO7hakHv",
        "outputId": "be9cc092-51a2-4f62-d6d0-3f00e023b878"
      },
      "source": [
        "# total images = 398\n",
        "# 3 images per plt\n",
        "os.makedirs('/content/drive/MyDrive/512_Images/plt_inference/', exist_ok=True)\n",
        "for i in tqdm(range(math.ceil(len(imgs) / 3))):\n",
        "  num_imgs = min(3, len(imgs[i*3:i*3+3]))\n",
        "  ims = imgs[i*3:i*3+3]\n",
        "  uns = []\n",
        "  pss = []\n",
        "  dvs = []\n",
        "  dss = []\n",
        "  gs = []\n",
        "  for im1 in ims:\n",
        "    im = im1.split(\"/\")[-1].split(\".\")[0]\n",
        "    uns.append(f\"/content/drive/MyDrive/512_Images/inferences-UNET/{im}.png\")\n",
        "    pss.append(f\"/content/drive/MyDrive/512_Images/inferences-PSP/{im}.png\")\n",
        "    dvs.append(f\"/content/drive/MyDrive/512_Images/inferences-DV3/{im}.png\")\n",
        "    dss.append(f\"/content/drive/MyDrive/512_Images/inferences-DV3S/{im}.png\")\n",
        "    gs.append(im1.replace(\"/image/\", \"/mask/\").replace(\".jpg\", \"_lab.png\"))\n",
        "\n",
        "  im_paths = []\n",
        "  for n in range(num_imgs):\n",
        "    im_paths.extend([ims[n], uns[n], pss[n], dvs[n], dss[n], gs[n]])\n",
        "  count = 0\n",
        "  fig = plt.figure(figsize=(14, 5))\n",
        "  for n in range(num_imgs):\n",
        "      for num, image_title in enumerate([\"(a) Image\", \"(b) UNet\", \"(c) PSPNet\", \"(d) DeepLabV3+\", \"(e) DeepLabV3+ Pseudo\", \"(f) Ground Truth\"]):\n",
        "          fig.add_subplot(3, 6, count+1)\n",
        "          if image_title == \"(f) Ground Truth\":\n",
        "              plt.imshow(cv2.resize(image.imread(im_paths[count])[:, :, 0], (4000, 3000)))\n",
        "          elif image_title == \"(a) Image\":\n",
        "            plt.imshow(cv2.resize(image.imread(im_paths[count]), (4000, 3000)))\n",
        "          else:\n",
        "              plt.imshow(image.imread(im_paths[count]))\n",
        "          plt.axis(\"off\")\n",
        "          if count < 6:\n",
        "              plt.title(image_title)\n",
        "          count += 1\n",
        "  plt.savefig(f'/content/drive/MyDrive/512_Images/plt_inference/{i}.png')\n",
        "  plt.clf()"
      ],
      "execution_count": null,
      "outputs": [
        {
          "output_type": "display_data",
          "data": {
            "application/vnd.jupyter.widget-view+json": {
              "model_id": "6323d3463575421faa6e79216fbb8c41",
              "version_minor": 0,
              "version_major": 2
            },
            "text/plain": [
              "HBox(children=(FloatProgress(value=0.0, max=133.0), HTML(value='')))"
            ]
          },
          "metadata": {
            "tags": []
          }
        },
        {
          "output_type": "stream",
          "text": [
            "/usr/local/lib/python3.7/dist-packages/ipykernel_launcher.py:24: RuntimeWarning: More than 20 figures have been opened. Figures created through the pyplot interface (`matplotlib.pyplot.figure`) are retained until explicitly closed and may consume too much memory. (To control this warning, see the rcParam `figure.max_open_warning`).\n"
          ],
          "name": "stderr"
        },
        {
          "output_type": "stream",
          "text": [
            "\n"
          ],
          "name": "stdout"
        },
        {
          "output_type": "display_data",
          "data": {
            "text/plain": [
              "<Figure size 1008x360 with 0 Axes>"
            ]
          },
          "metadata": {
            "tags": []
          }
        },
        {
          "output_type": "display_data",
          "data": {
            "text/plain": [
              "<Figure size 1008x360 with 0 Axes>"
            ]
          },
          "metadata": {
            "tags": []
          }
        },
        {
          "output_type": "display_data",
          "data": {
            "text/plain": [
              "<Figure size 1008x360 with 0 Axes>"
            ]
          },
          "metadata": {
            "tags": []
          }
        },
        {
          "output_type": "display_data",
          "data": {
            "text/plain": [
              "<Figure size 1008x360 with 0 Axes>"
            ]
          },
          "metadata": {
            "tags": []
          }
        },
        {
          "output_type": "display_data",
          "data": {
            "text/plain": [
              "<Figure size 1008x360 with 0 Axes>"
            ]
          },
          "metadata": {
            "tags": []
          }
        },
        {
          "output_type": "display_data",
          "data": {
            "text/plain": [
              "<Figure size 1008x360 with 0 Axes>"
            ]
          },
          "metadata": {
            "tags": []
          }
        },
        {
          "output_type": "display_data",
          "data": {
            "text/plain": [
              "<Figure size 1008x360 with 0 Axes>"
            ]
          },
          "metadata": {
            "tags": []
          }
        },
        {
          "output_type": "display_data",
          "data": {
            "text/plain": [
              "<Figure size 1008x360 with 0 Axes>"
            ]
          },
          "metadata": {
            "tags": []
          }
        },
        {
          "output_type": "display_data",
          "data": {
            "text/plain": [
              "<Figure size 1008x360 with 0 Axes>"
            ]
          },
          "metadata": {
            "tags": []
          }
        },
        {
          "output_type": "display_data",
          "data": {
            "text/plain": [
              "<Figure size 1008x360 with 0 Axes>"
            ]
          },
          "metadata": {
            "tags": []
          }
        },
        {
          "output_type": "display_data",
          "data": {
            "text/plain": [
              "<Figure size 1008x360 with 0 Axes>"
            ]
          },
          "metadata": {
            "tags": []
          }
        },
        {
          "output_type": "display_data",
          "data": {
            "text/plain": [
              "<Figure size 1008x360 with 0 Axes>"
            ]
          },
          "metadata": {
            "tags": []
          }
        },
        {
          "output_type": "display_data",
          "data": {
            "text/plain": [
              "<Figure size 1008x360 with 0 Axes>"
            ]
          },
          "metadata": {
            "tags": []
          }
        },
        {
          "output_type": "display_data",
          "data": {
            "text/plain": [
              "<Figure size 1008x360 with 0 Axes>"
            ]
          },
          "metadata": {
            "tags": []
          }
        },
        {
          "output_type": "display_data",
          "data": {
            "text/plain": [
              "<Figure size 1008x360 with 0 Axes>"
            ]
          },
          "metadata": {
            "tags": []
          }
        },
        {
          "output_type": "display_data",
          "data": {
            "text/plain": [
              "<Figure size 1008x360 with 0 Axes>"
            ]
          },
          "metadata": {
            "tags": []
          }
        },
        {
          "output_type": "display_data",
          "data": {
            "text/plain": [
              "<Figure size 1008x360 with 0 Axes>"
            ]
          },
          "metadata": {
            "tags": []
          }
        },
        {
          "output_type": "display_data",
          "data": {
            "text/plain": [
              "<Figure size 1008x360 with 0 Axes>"
            ]
          },
          "metadata": {
            "tags": []
          }
        },
        {
          "output_type": "display_data",
          "data": {
            "text/plain": [
              "<Figure size 1008x360 with 0 Axes>"
            ]
          },
          "metadata": {
            "tags": []
          }
        },
        {
          "output_type": "display_data",
          "data": {
            "text/plain": [
              "<Figure size 1008x360 with 0 Axes>"
            ]
          },
          "metadata": {
            "tags": []
          }
        },
        {
          "output_type": "display_data",
          "data": {
            "text/plain": [
              "<Figure size 1008x360 with 0 Axes>"
            ]
          },
          "metadata": {
            "tags": []
          }
        },
        {
          "output_type": "display_data",
          "data": {
            "text/plain": [
              "<Figure size 1008x360 with 0 Axes>"
            ]
          },
          "metadata": {
            "tags": []
          }
        },
        {
          "output_type": "display_data",
          "data": {
            "text/plain": [
              "<Figure size 1008x360 with 0 Axes>"
            ]
          },
          "metadata": {
            "tags": []
          }
        },
        {
          "output_type": "display_data",
          "data": {
            "text/plain": [
              "<Figure size 1008x360 with 0 Axes>"
            ]
          },
          "metadata": {
            "tags": []
          }
        },
        {
          "output_type": "display_data",
          "data": {
            "text/plain": [
              "<Figure size 1008x360 with 0 Axes>"
            ]
          },
          "metadata": {
            "tags": []
          }
        },
        {
          "output_type": "display_data",
          "data": {
            "text/plain": [
              "<Figure size 1008x360 with 0 Axes>"
            ]
          },
          "metadata": {
            "tags": []
          }
        },
        {
          "output_type": "display_data",
          "data": {
            "text/plain": [
              "<Figure size 1008x360 with 0 Axes>"
            ]
          },
          "metadata": {
            "tags": []
          }
        },
        {
          "output_type": "display_data",
          "data": {
            "text/plain": [
              "<Figure size 1008x360 with 0 Axes>"
            ]
          },
          "metadata": {
            "tags": []
          }
        },
        {
          "output_type": "display_data",
          "data": {
            "text/plain": [
              "<Figure size 1008x360 with 0 Axes>"
            ]
          },
          "metadata": {
            "tags": []
          }
        },
        {
          "output_type": "display_data",
          "data": {
            "text/plain": [
              "<Figure size 1008x360 with 0 Axes>"
            ]
          },
          "metadata": {
            "tags": []
          }
        },
        {
          "output_type": "display_data",
          "data": {
            "text/plain": [
              "<Figure size 1008x360 with 0 Axes>"
            ]
          },
          "metadata": {
            "tags": []
          }
        },
        {
          "output_type": "display_data",
          "data": {
            "text/plain": [
              "<Figure size 1008x360 with 0 Axes>"
            ]
          },
          "metadata": {
            "tags": []
          }
        },
        {
          "output_type": "display_data",
          "data": {
            "text/plain": [
              "<Figure size 1008x360 with 0 Axes>"
            ]
          },
          "metadata": {
            "tags": []
          }
        },
        {
          "output_type": "display_data",
          "data": {
            "text/plain": [
              "<Figure size 1008x360 with 0 Axes>"
            ]
          },
          "metadata": {
            "tags": []
          }
        },
        {
          "output_type": "display_data",
          "data": {
            "text/plain": [
              "<Figure size 1008x360 with 0 Axes>"
            ]
          },
          "metadata": {
            "tags": []
          }
        },
        {
          "output_type": "display_data",
          "data": {
            "text/plain": [
              "<Figure size 1008x360 with 0 Axes>"
            ]
          },
          "metadata": {
            "tags": []
          }
        },
        {
          "output_type": "display_data",
          "data": {
            "text/plain": [
              "<Figure size 1008x360 with 0 Axes>"
            ]
          },
          "metadata": {
            "tags": []
          }
        },
        {
          "output_type": "display_data",
          "data": {
            "text/plain": [
              "<Figure size 1008x360 with 0 Axes>"
            ]
          },
          "metadata": {
            "tags": []
          }
        },
        {
          "output_type": "display_data",
          "data": {
            "text/plain": [
              "<Figure size 1008x360 with 0 Axes>"
            ]
          },
          "metadata": {
            "tags": []
          }
        },
        {
          "output_type": "display_data",
          "data": {
            "text/plain": [
              "<Figure size 1008x360 with 0 Axes>"
            ]
          },
          "metadata": {
            "tags": []
          }
        },
        {
          "output_type": "display_data",
          "data": {
            "text/plain": [
              "<Figure size 1008x360 with 0 Axes>"
            ]
          },
          "metadata": {
            "tags": []
          }
        },
        {
          "output_type": "display_data",
          "data": {
            "text/plain": [
              "<Figure size 1008x360 with 0 Axes>"
            ]
          },
          "metadata": {
            "tags": []
          }
        },
        {
          "output_type": "display_data",
          "data": {
            "text/plain": [
              "<Figure size 1008x360 with 0 Axes>"
            ]
          },
          "metadata": {
            "tags": []
          }
        },
        {
          "output_type": "display_data",
          "data": {
            "text/plain": [
              "<Figure size 1008x360 with 0 Axes>"
            ]
          },
          "metadata": {
            "tags": []
          }
        },
        {
          "output_type": "display_data",
          "data": {
            "text/plain": [
              "<Figure size 1008x360 with 0 Axes>"
            ]
          },
          "metadata": {
            "tags": []
          }
        },
        {
          "output_type": "display_data",
          "data": {
            "text/plain": [
              "<Figure size 1008x360 with 0 Axes>"
            ]
          },
          "metadata": {
            "tags": []
          }
        },
        {
          "output_type": "display_data",
          "data": {
            "text/plain": [
              "<Figure size 1008x360 with 0 Axes>"
            ]
          },
          "metadata": {
            "tags": []
          }
        },
        {
          "output_type": "display_data",
          "data": {
            "text/plain": [
              "<Figure size 1008x360 with 0 Axes>"
            ]
          },
          "metadata": {
            "tags": []
          }
        },
        {
          "output_type": "display_data",
          "data": {
            "text/plain": [
              "<Figure size 1008x360 with 0 Axes>"
            ]
          },
          "metadata": {
            "tags": []
          }
        },
        {
          "output_type": "display_data",
          "data": {
            "text/plain": [
              "<Figure size 1008x360 with 0 Axes>"
            ]
          },
          "metadata": {
            "tags": []
          }
        },
        {
          "output_type": "display_data",
          "data": {
            "text/plain": [
              "<Figure size 1008x360 with 0 Axes>"
            ]
          },
          "metadata": {
            "tags": []
          }
        },
        {
          "output_type": "display_data",
          "data": {
            "text/plain": [
              "<Figure size 1008x360 with 0 Axes>"
            ]
          },
          "metadata": {
            "tags": []
          }
        },
        {
          "output_type": "display_data",
          "data": {
            "text/plain": [
              "<Figure size 1008x360 with 0 Axes>"
            ]
          },
          "metadata": {
            "tags": []
          }
        },
        {
          "output_type": "display_data",
          "data": {
            "text/plain": [
              "<Figure size 1008x360 with 0 Axes>"
            ]
          },
          "metadata": {
            "tags": []
          }
        },
        {
          "output_type": "display_data",
          "data": {
            "text/plain": [
              "<Figure size 1008x360 with 0 Axes>"
            ]
          },
          "metadata": {
            "tags": []
          }
        },
        {
          "output_type": "display_data",
          "data": {
            "text/plain": [
              "<Figure size 1008x360 with 0 Axes>"
            ]
          },
          "metadata": {
            "tags": []
          }
        },
        {
          "output_type": "display_data",
          "data": {
            "text/plain": [
              "<Figure size 1008x360 with 0 Axes>"
            ]
          },
          "metadata": {
            "tags": []
          }
        },
        {
          "output_type": "display_data",
          "data": {
            "text/plain": [
              "<Figure size 1008x360 with 0 Axes>"
            ]
          },
          "metadata": {
            "tags": []
          }
        },
        {
          "output_type": "display_data",
          "data": {
            "text/plain": [
              "<Figure size 1008x360 with 0 Axes>"
            ]
          },
          "metadata": {
            "tags": []
          }
        },
        {
          "output_type": "display_data",
          "data": {
            "text/plain": [
              "<Figure size 1008x360 with 0 Axes>"
            ]
          },
          "metadata": {
            "tags": []
          }
        },
        {
          "output_type": "display_data",
          "data": {
            "text/plain": [
              "<Figure size 1008x360 with 0 Axes>"
            ]
          },
          "metadata": {
            "tags": []
          }
        },
        {
          "output_type": "display_data",
          "data": {
            "text/plain": [
              "<Figure size 1008x360 with 0 Axes>"
            ]
          },
          "metadata": {
            "tags": []
          }
        },
        {
          "output_type": "display_data",
          "data": {
            "text/plain": [
              "<Figure size 1008x360 with 0 Axes>"
            ]
          },
          "metadata": {
            "tags": []
          }
        },
        {
          "output_type": "display_data",
          "data": {
            "text/plain": [
              "<Figure size 1008x360 with 0 Axes>"
            ]
          },
          "metadata": {
            "tags": []
          }
        },
        {
          "output_type": "display_data",
          "data": {
            "text/plain": [
              "<Figure size 1008x360 with 0 Axes>"
            ]
          },
          "metadata": {
            "tags": []
          }
        },
        {
          "output_type": "display_data",
          "data": {
            "text/plain": [
              "<Figure size 1008x360 with 0 Axes>"
            ]
          },
          "metadata": {
            "tags": []
          }
        },
        {
          "output_type": "display_data",
          "data": {
            "text/plain": [
              "<Figure size 1008x360 with 0 Axes>"
            ]
          },
          "metadata": {
            "tags": []
          }
        },
        {
          "output_type": "display_data",
          "data": {
            "text/plain": [
              "<Figure size 1008x360 with 0 Axes>"
            ]
          },
          "metadata": {
            "tags": []
          }
        },
        {
          "output_type": "display_data",
          "data": {
            "text/plain": [
              "<Figure size 1008x360 with 0 Axes>"
            ]
          },
          "metadata": {
            "tags": []
          }
        },
        {
          "output_type": "display_data",
          "data": {
            "text/plain": [
              "<Figure size 1008x360 with 0 Axes>"
            ]
          },
          "metadata": {
            "tags": []
          }
        },
        {
          "output_type": "display_data",
          "data": {
            "text/plain": [
              "<Figure size 1008x360 with 0 Axes>"
            ]
          },
          "metadata": {
            "tags": []
          }
        },
        {
          "output_type": "display_data",
          "data": {
            "text/plain": [
              "<Figure size 1008x360 with 0 Axes>"
            ]
          },
          "metadata": {
            "tags": []
          }
        },
        {
          "output_type": "display_data",
          "data": {
            "text/plain": [
              "<Figure size 1008x360 with 0 Axes>"
            ]
          },
          "metadata": {
            "tags": []
          }
        },
        {
          "output_type": "display_data",
          "data": {
            "text/plain": [
              "<Figure size 1008x360 with 0 Axes>"
            ]
          },
          "metadata": {
            "tags": []
          }
        },
        {
          "output_type": "display_data",
          "data": {
            "text/plain": [
              "<Figure size 1008x360 with 0 Axes>"
            ]
          },
          "metadata": {
            "tags": []
          }
        },
        {
          "output_type": "display_data",
          "data": {
            "text/plain": [
              "<Figure size 1008x360 with 0 Axes>"
            ]
          },
          "metadata": {
            "tags": []
          }
        },
        {
          "output_type": "display_data",
          "data": {
            "text/plain": [
              "<Figure size 1008x360 with 0 Axes>"
            ]
          },
          "metadata": {
            "tags": []
          }
        },
        {
          "output_type": "display_data",
          "data": {
            "text/plain": [
              "<Figure size 1008x360 with 0 Axes>"
            ]
          },
          "metadata": {
            "tags": []
          }
        },
        {
          "output_type": "display_data",
          "data": {
            "text/plain": [
              "<Figure size 1008x360 with 0 Axes>"
            ]
          },
          "metadata": {
            "tags": []
          }
        },
        {
          "output_type": "display_data",
          "data": {
            "text/plain": [
              "<Figure size 1008x360 with 0 Axes>"
            ]
          },
          "metadata": {
            "tags": []
          }
        },
        {
          "output_type": "display_data",
          "data": {
            "text/plain": [
              "<Figure size 1008x360 with 0 Axes>"
            ]
          },
          "metadata": {
            "tags": []
          }
        },
        {
          "output_type": "display_data",
          "data": {
            "text/plain": [
              "<Figure size 1008x360 with 0 Axes>"
            ]
          },
          "metadata": {
            "tags": []
          }
        },
        {
          "output_type": "display_data",
          "data": {
            "text/plain": [
              "<Figure size 1008x360 with 0 Axes>"
            ]
          },
          "metadata": {
            "tags": []
          }
        },
        {
          "output_type": "display_data",
          "data": {
            "text/plain": [
              "<Figure size 1008x360 with 0 Axes>"
            ]
          },
          "metadata": {
            "tags": []
          }
        },
        {
          "output_type": "display_data",
          "data": {
            "text/plain": [
              "<Figure size 1008x360 with 0 Axes>"
            ]
          },
          "metadata": {
            "tags": []
          }
        },
        {
          "output_type": "display_data",
          "data": {
            "text/plain": [
              "<Figure size 1008x360 with 0 Axes>"
            ]
          },
          "metadata": {
            "tags": []
          }
        },
        {
          "output_type": "display_data",
          "data": {
            "text/plain": [
              "<Figure size 1008x360 with 0 Axes>"
            ]
          },
          "metadata": {
            "tags": []
          }
        },
        {
          "output_type": "display_data",
          "data": {
            "text/plain": [
              "<Figure size 1008x360 with 0 Axes>"
            ]
          },
          "metadata": {
            "tags": []
          }
        },
        {
          "output_type": "display_data",
          "data": {
            "text/plain": [
              "<Figure size 1008x360 with 0 Axes>"
            ]
          },
          "metadata": {
            "tags": []
          }
        },
        {
          "output_type": "display_data",
          "data": {
            "text/plain": [
              "<Figure size 1008x360 with 0 Axes>"
            ]
          },
          "metadata": {
            "tags": []
          }
        },
        {
          "output_type": "display_data",
          "data": {
            "text/plain": [
              "<Figure size 1008x360 with 0 Axes>"
            ]
          },
          "metadata": {
            "tags": []
          }
        },
        {
          "output_type": "display_data",
          "data": {
            "text/plain": [
              "<Figure size 1008x360 with 0 Axes>"
            ]
          },
          "metadata": {
            "tags": []
          }
        },
        {
          "output_type": "display_data",
          "data": {
            "text/plain": [
              "<Figure size 1008x360 with 0 Axes>"
            ]
          },
          "metadata": {
            "tags": []
          }
        },
        {
          "output_type": "display_data",
          "data": {
            "text/plain": [
              "<Figure size 1008x360 with 0 Axes>"
            ]
          },
          "metadata": {
            "tags": []
          }
        },
        {
          "output_type": "display_data",
          "data": {
            "text/plain": [
              "<Figure size 1008x360 with 0 Axes>"
            ]
          },
          "metadata": {
            "tags": []
          }
        },
        {
          "output_type": "display_data",
          "data": {
            "text/plain": [
              "<Figure size 1008x360 with 0 Axes>"
            ]
          },
          "metadata": {
            "tags": []
          }
        },
        {
          "output_type": "display_data",
          "data": {
            "text/plain": [
              "<Figure size 1008x360 with 0 Axes>"
            ]
          },
          "metadata": {
            "tags": []
          }
        },
        {
          "output_type": "display_data",
          "data": {
            "text/plain": [
              "<Figure size 1008x360 with 0 Axes>"
            ]
          },
          "metadata": {
            "tags": []
          }
        },
        {
          "output_type": "display_data",
          "data": {
            "text/plain": [
              "<Figure size 1008x360 with 0 Axes>"
            ]
          },
          "metadata": {
            "tags": []
          }
        },
        {
          "output_type": "display_data",
          "data": {
            "text/plain": [
              "<Figure size 1008x360 with 0 Axes>"
            ]
          },
          "metadata": {
            "tags": []
          }
        },
        {
          "output_type": "display_data",
          "data": {
            "text/plain": [
              "<Figure size 1008x360 with 0 Axes>"
            ]
          },
          "metadata": {
            "tags": []
          }
        },
        {
          "output_type": "display_data",
          "data": {
            "text/plain": [
              "<Figure size 1008x360 with 0 Axes>"
            ]
          },
          "metadata": {
            "tags": []
          }
        },
        {
          "output_type": "display_data",
          "data": {
            "text/plain": [
              "<Figure size 1008x360 with 0 Axes>"
            ]
          },
          "metadata": {
            "tags": []
          }
        },
        {
          "output_type": "display_data",
          "data": {
            "text/plain": [
              "<Figure size 1008x360 with 0 Axes>"
            ]
          },
          "metadata": {
            "tags": []
          }
        },
        {
          "output_type": "display_data",
          "data": {
            "text/plain": [
              "<Figure size 1008x360 with 0 Axes>"
            ]
          },
          "metadata": {
            "tags": []
          }
        },
        {
          "output_type": "display_data",
          "data": {
            "text/plain": [
              "<Figure size 1008x360 with 0 Axes>"
            ]
          },
          "metadata": {
            "tags": []
          }
        },
        {
          "output_type": "display_data",
          "data": {
            "text/plain": [
              "<Figure size 1008x360 with 0 Axes>"
            ]
          },
          "metadata": {
            "tags": []
          }
        },
        {
          "output_type": "display_data",
          "data": {
            "text/plain": [
              "<Figure size 1008x360 with 0 Axes>"
            ]
          },
          "metadata": {
            "tags": []
          }
        },
        {
          "output_type": "display_data",
          "data": {
            "text/plain": [
              "<Figure size 1008x360 with 0 Axes>"
            ]
          },
          "metadata": {
            "tags": []
          }
        },
        {
          "output_type": "display_data",
          "data": {
            "text/plain": [
              "<Figure size 1008x360 with 0 Axes>"
            ]
          },
          "metadata": {
            "tags": []
          }
        },
        {
          "output_type": "display_data",
          "data": {
            "text/plain": [
              "<Figure size 1008x360 with 0 Axes>"
            ]
          },
          "metadata": {
            "tags": []
          }
        },
        {
          "output_type": "display_data",
          "data": {
            "text/plain": [
              "<Figure size 1008x360 with 0 Axes>"
            ]
          },
          "metadata": {
            "tags": []
          }
        },
        {
          "output_type": "display_data",
          "data": {
            "text/plain": [
              "<Figure size 1008x360 with 0 Axes>"
            ]
          },
          "metadata": {
            "tags": []
          }
        },
        {
          "output_type": "display_data",
          "data": {
            "text/plain": [
              "<Figure size 1008x360 with 0 Axes>"
            ]
          },
          "metadata": {
            "tags": []
          }
        },
        {
          "output_type": "display_data",
          "data": {
            "text/plain": [
              "<Figure size 1008x360 with 0 Axes>"
            ]
          },
          "metadata": {
            "tags": []
          }
        },
        {
          "output_type": "display_data",
          "data": {
            "text/plain": [
              "<Figure size 1008x360 with 0 Axes>"
            ]
          },
          "metadata": {
            "tags": []
          }
        },
        {
          "output_type": "display_data",
          "data": {
            "text/plain": [
              "<Figure size 1008x360 with 0 Axes>"
            ]
          },
          "metadata": {
            "tags": []
          }
        },
        {
          "output_type": "display_data",
          "data": {
            "text/plain": [
              "<Figure size 1008x360 with 0 Axes>"
            ]
          },
          "metadata": {
            "tags": []
          }
        },
        {
          "output_type": "display_data",
          "data": {
            "text/plain": [
              "<Figure size 1008x360 with 0 Axes>"
            ]
          },
          "metadata": {
            "tags": []
          }
        },
        {
          "output_type": "display_data",
          "data": {
            "text/plain": [
              "<Figure size 1008x360 with 0 Axes>"
            ]
          },
          "metadata": {
            "tags": []
          }
        },
        {
          "output_type": "display_data",
          "data": {
            "text/plain": [
              "<Figure size 1008x360 with 0 Axes>"
            ]
          },
          "metadata": {
            "tags": []
          }
        },
        {
          "output_type": "display_data",
          "data": {
            "text/plain": [
              "<Figure size 1008x360 with 0 Axes>"
            ]
          },
          "metadata": {
            "tags": []
          }
        },
        {
          "output_type": "display_data",
          "data": {
            "text/plain": [
              "<Figure size 1008x360 with 0 Axes>"
            ]
          },
          "metadata": {
            "tags": []
          }
        },
        {
          "output_type": "display_data",
          "data": {
            "text/plain": [
              "<Figure size 1008x360 with 0 Axes>"
            ]
          },
          "metadata": {
            "tags": []
          }
        },
        {
          "output_type": "display_data",
          "data": {
            "text/plain": [
              "<Figure size 1008x360 with 0 Axes>"
            ]
          },
          "metadata": {
            "tags": []
          }
        },
        {
          "output_type": "display_data",
          "data": {
            "text/plain": [
              "<Figure size 1008x360 with 0 Axes>"
            ]
          },
          "metadata": {
            "tags": []
          }
        },
        {
          "output_type": "display_data",
          "data": {
            "text/plain": [
              "<Figure size 1008x360 with 0 Axes>"
            ]
          },
          "metadata": {
            "tags": []
          }
        },
        {
          "output_type": "display_data",
          "data": {
            "text/plain": [
              "<Figure size 1008x360 with 0 Axes>"
            ]
          },
          "metadata": {
            "tags": []
          }
        },
        {
          "output_type": "display_data",
          "data": {
            "text/plain": [
              "<Figure size 1008x360 with 0 Axes>"
            ]
          },
          "metadata": {
            "tags": []
          }
        },
        {
          "output_type": "display_data",
          "data": {
            "text/plain": [
              "<Figure size 1008x360 with 0 Axes>"
            ]
          },
          "metadata": {
            "tags": []
          }
        },
        {
          "output_type": "display_data",
          "data": {
            "text/plain": [
              "<Figure size 1008x360 with 0 Axes>"
            ]
          },
          "metadata": {
            "tags": []
          }
        },
        {
          "output_type": "display_data",
          "data": {
            "text/plain": [
              "<Figure size 1008x360 with 0 Axes>"
            ]
          },
          "metadata": {
            "tags": []
          }
        },
        {
          "output_type": "display_data",
          "data": {
            "text/plain": [
              "<Figure size 1008x360 with 0 Axes>"
            ]
          },
          "metadata": {
            "tags": []
          }
        }
      ]
    },
    {
      "cell_type": "code",
      "metadata": {
        "id": "0EvEkpV4N0Ba",
        "colab": {
          "base_uri": "https://localhost:8080/"
        },
        "outputId": "124228e2-87e5-469e-d92f-d23c91d0b817"
      },
      "source": [
        "imgs[0:3]"
      ],
      "execution_count": null,
      "outputs": [
        {
          "output_type": "execute_result",
          "data": {
            "text/plain": [
              "['/content/512_Images/Train/Labeled/Flooded/image/10165.jpg',\n",
              " '/content/512_Images/Train/Labeled/Flooded/image/10166.jpg',\n",
              " '/content/512_Images/Train/Labeled/Flooded/image/6279.jpg']"
            ]
          },
          "metadata": {
            "tags": []
          },
          "execution_count": 18
        }
      ]
    },
    {
      "cell_type": "code",
      "metadata": {
        "id": "mmhlpk5oxj-D"
      },
      "source": [
        "with open(\"img_paths.txt\", \"w\") as f:\n",
        "  for im in imgs:\n",
        "    f.write(im.replace(\"/content/512_Images/\", \"\") + \"\\n\")\n",
        "f.close()"
      ],
      "execution_count": null,
      "outputs": []
    },
    {
      "cell_type": "code",
      "metadata": {
        "colab": {
          "base_uri": "https://localhost:8080/"
        },
        "id": "BAv9Fdo4yNHf",
        "outputId": "409275e4-dcf0-4ef0-8614-7d3bd23b498e"
      },
      "source": [
        "!zip -r plt_inference.zip /content/drive/MyDrive/512_Images/plt_inference/"
      ],
      "execution_count": null,
      "outputs": [
        {
          "output_type": "stream",
          "text": [
            "  adding: content/drive/MyDrive/512_Images/plt_inference/ (stored 0%)\n",
            "  adding: content/drive/MyDrive/512_Images/plt_inference/0.png (deflated 2%)\n",
            "  adding: content/drive/MyDrive/512_Images/plt_inference/1.png (deflated 1%)\n",
            "  adding: content/drive/MyDrive/512_Images/plt_inference/2.png (deflated 1%)\n",
            "  adding: content/drive/MyDrive/512_Images/plt_inference/3.png (deflated 1%)\n",
            "  adding: content/drive/MyDrive/512_Images/plt_inference/4.png (deflated 1%)\n",
            "  adding: content/drive/MyDrive/512_Images/plt_inference/5.png (deflated 1%)\n",
            "  adding: content/drive/MyDrive/512_Images/plt_inference/6.png (deflated 1%)\n",
            "  adding: content/drive/MyDrive/512_Images/plt_inference/7.png (deflated 1%)\n",
            "  adding: content/drive/MyDrive/512_Images/plt_inference/8.png (deflated 1%)\n",
            "  adding: content/drive/MyDrive/512_Images/plt_inference/9.png (deflated 1%)\n",
            "  adding: content/drive/MyDrive/512_Images/plt_inference/10.png (deflated 1%)\n",
            "  adding: content/drive/MyDrive/512_Images/plt_inference/11.png (deflated 1%)\n",
            "  adding: content/drive/MyDrive/512_Images/plt_inference/12.png (deflated 1%)\n",
            "  adding: content/drive/MyDrive/512_Images/plt_inference/13.png (deflated 1%)\n",
            "  adding: content/drive/MyDrive/512_Images/plt_inference/14.png (deflated 1%)\n",
            "  adding: content/drive/MyDrive/512_Images/plt_inference/15.png (deflated 1%)\n",
            "  adding: content/drive/MyDrive/512_Images/plt_inference/16.png (deflated 1%)\n",
            "  adding: content/drive/MyDrive/512_Images/plt_inference/17.png (deflated 1%)\n",
            "  adding: content/drive/MyDrive/512_Images/plt_inference/18.png (deflated 1%)\n",
            "  adding: content/drive/MyDrive/512_Images/plt_inference/19.png (deflated 2%)\n",
            "  adding: content/drive/MyDrive/512_Images/plt_inference/20.png (deflated 1%)\n",
            "  adding: content/drive/MyDrive/512_Images/plt_inference/21.png (deflated 1%)\n",
            "  adding: content/drive/MyDrive/512_Images/plt_inference/22.png (deflated 1%)\n",
            "  adding: content/drive/MyDrive/512_Images/plt_inference/23.png (deflated 1%)\n",
            "  adding: content/drive/MyDrive/512_Images/plt_inference/24.png (deflated 1%)\n",
            "  adding: content/drive/MyDrive/512_Images/plt_inference/25.png (deflated 1%)\n",
            "  adding: content/drive/MyDrive/512_Images/plt_inference/26.png (deflated 1%)\n",
            "  adding: content/drive/MyDrive/512_Images/plt_inference/27.png (deflated 1%)\n",
            "  adding: content/drive/MyDrive/512_Images/plt_inference/28.png (deflated 2%)\n",
            "  adding: content/drive/MyDrive/512_Images/plt_inference/29.png (deflated 1%)\n",
            "  adding: content/drive/MyDrive/512_Images/plt_inference/30.png (deflated 1%)\n",
            "  adding: content/drive/MyDrive/512_Images/plt_inference/31.png (deflated 1%)\n",
            "  adding: content/drive/MyDrive/512_Images/plt_inference/32.png (deflated 1%)\n",
            "  adding: content/drive/MyDrive/512_Images/plt_inference/33.png (deflated 1%)\n",
            "  adding: content/drive/MyDrive/512_Images/plt_inference/34.png (deflated 1%)\n",
            "  adding: content/drive/MyDrive/512_Images/plt_inference/35.png (deflated 1%)\n",
            "  adding: content/drive/MyDrive/512_Images/plt_inference/36.png (deflated 1%)\n",
            "  adding: content/drive/MyDrive/512_Images/plt_inference/37.png (deflated 1%)\n",
            "  adding: content/drive/MyDrive/512_Images/plt_inference/38.png (deflated 1%)\n",
            "  adding: content/drive/MyDrive/512_Images/plt_inference/39.png (deflated 1%)\n",
            "  adding: content/drive/MyDrive/512_Images/plt_inference/40.png (deflated 1%)\n",
            "  adding: content/drive/MyDrive/512_Images/plt_inference/41.png (deflated 1%)\n",
            "  adding: content/drive/MyDrive/512_Images/plt_inference/42.png (deflated 1%)\n",
            "  adding: content/drive/MyDrive/512_Images/plt_inference/43.png (deflated 1%)\n",
            "  adding: content/drive/MyDrive/512_Images/plt_inference/44.png (deflated 1%)\n",
            "  adding: content/drive/MyDrive/512_Images/plt_inference/45.png (deflated 1%)\n",
            "  adding: content/drive/MyDrive/512_Images/plt_inference/46.png (deflated 1%)\n",
            "  adding: content/drive/MyDrive/512_Images/plt_inference/47.png (deflated 1%)\n",
            "  adding: content/drive/MyDrive/512_Images/plt_inference/48.png (deflated 1%)\n",
            "  adding: content/drive/MyDrive/512_Images/plt_inference/49.png (deflated 1%)\n",
            "  adding: content/drive/MyDrive/512_Images/plt_inference/50.png (deflated 1%)\n",
            "  adding: content/drive/MyDrive/512_Images/plt_inference/51.png (deflated 1%)\n",
            "  adding: content/drive/MyDrive/512_Images/plt_inference/52.png (deflated 1%)\n",
            "  adding: content/drive/MyDrive/512_Images/plt_inference/53.png (deflated 1%)\n",
            "  adding: content/drive/MyDrive/512_Images/plt_inference/54.png (deflated 2%)\n",
            "  adding: content/drive/MyDrive/512_Images/plt_inference/55.png (deflated 1%)\n",
            "  adding: content/drive/MyDrive/512_Images/plt_inference/56.png (deflated 1%)\n",
            "  adding: content/drive/MyDrive/512_Images/plt_inference/57.png (deflated 1%)\n",
            "  adding: content/drive/MyDrive/512_Images/plt_inference/58.png (deflated 1%)\n",
            "  adding: content/drive/MyDrive/512_Images/plt_inference/59.png (deflated 1%)\n",
            "  adding: content/drive/MyDrive/512_Images/plt_inference/60.png (deflated 1%)\n",
            "  adding: content/drive/MyDrive/512_Images/plt_inference/61.png (deflated 1%)\n",
            "  adding: content/drive/MyDrive/512_Images/plt_inference/62.png (deflated 1%)\n",
            "  adding: content/drive/MyDrive/512_Images/plt_inference/63.png (deflated 1%)\n",
            "  adding: content/drive/MyDrive/512_Images/plt_inference/64.png (deflated 2%)\n",
            "  adding: content/drive/MyDrive/512_Images/plt_inference/65.png (deflated 1%)\n",
            "  adding: content/drive/MyDrive/512_Images/plt_inference/66.png (deflated 1%)\n",
            "  adding: content/drive/MyDrive/512_Images/plt_inference/67.png (deflated 1%)\n",
            "  adding: content/drive/MyDrive/512_Images/plt_inference/68.png (deflated 1%)\n",
            "  adding: content/drive/MyDrive/512_Images/plt_inference/69.png (deflated 1%)\n",
            "  adding: content/drive/MyDrive/512_Images/plt_inference/70.png (deflated 1%)\n",
            "  adding: content/drive/MyDrive/512_Images/plt_inference/71.png (deflated 2%)\n",
            "  adding: content/drive/MyDrive/512_Images/plt_inference/72.png (deflated 1%)\n",
            "  adding: content/drive/MyDrive/512_Images/plt_inference/73.png (deflated 1%)\n",
            "  adding: content/drive/MyDrive/512_Images/plt_inference/74.png (deflated 1%)\n",
            "  adding: content/drive/MyDrive/512_Images/plt_inference/75.png (deflated 1%)\n",
            "  adding: content/drive/MyDrive/512_Images/plt_inference/76.png (deflated 1%)\n",
            "  adding: content/drive/MyDrive/512_Images/plt_inference/77.png (deflated 1%)\n",
            "  adding: content/drive/MyDrive/512_Images/plt_inference/78.png (deflated 1%)\n",
            "  adding: content/drive/MyDrive/512_Images/plt_inference/79.png (deflated 2%)\n",
            "  adding: content/drive/MyDrive/512_Images/plt_inference/80.png (deflated 2%)\n",
            "  adding: content/drive/MyDrive/512_Images/plt_inference/81.png (deflated 2%)\n",
            "  adding: content/drive/MyDrive/512_Images/plt_inference/82.png (deflated 2%)\n",
            "  adding: content/drive/MyDrive/512_Images/plt_inference/83.png (deflated 2%)\n",
            "  adding: content/drive/MyDrive/512_Images/plt_inference/84.png (deflated 2%)\n",
            "  adding: content/drive/MyDrive/512_Images/plt_inference/85.png (deflated 3%)\n",
            "  adding: content/drive/MyDrive/512_Images/plt_inference/86.png (deflated 2%)\n",
            "  adding: content/drive/MyDrive/512_Images/plt_inference/87.png (deflated 2%)\n",
            "  adding: content/drive/MyDrive/512_Images/plt_inference/88.png (deflated 2%)\n",
            "  adding: content/drive/MyDrive/512_Images/plt_inference/89.png (deflated 1%)\n",
            "  adding: content/drive/MyDrive/512_Images/plt_inference/90.png (deflated 2%)\n",
            "  adding: content/drive/MyDrive/512_Images/plt_inference/91.png (deflated 3%)\n",
            "  adding: content/drive/MyDrive/512_Images/plt_inference/92.png (deflated 2%)\n",
            "  adding: content/drive/MyDrive/512_Images/plt_inference/93.png (deflated 1%)\n",
            "  adding: content/drive/MyDrive/512_Images/plt_inference/94.png (deflated 1%)\n",
            "  adding: content/drive/MyDrive/512_Images/plt_inference/95.png (deflated 1%)\n",
            "  adding: content/drive/MyDrive/512_Images/plt_inference/96.png (deflated 1%)\n",
            "  adding: content/drive/MyDrive/512_Images/plt_inference/97.png (deflated 1%)\n",
            "  adding: content/drive/MyDrive/512_Images/plt_inference/98.png (deflated 1%)\n",
            "  adding: content/drive/MyDrive/512_Images/plt_inference/99.png (deflated 1%)\n",
            "  adding: content/drive/MyDrive/512_Images/plt_inference/100.png (deflated 1%)\n",
            "  adding: content/drive/MyDrive/512_Images/plt_inference/101.png (deflated 1%)\n",
            "  adding: content/drive/MyDrive/512_Images/plt_inference/102.png (deflated 2%)\n",
            "  adding: content/drive/MyDrive/512_Images/plt_inference/103.png (deflated 1%)\n",
            "  adding: content/drive/MyDrive/512_Images/plt_inference/104.png (deflated 1%)\n",
            "  adding: content/drive/MyDrive/512_Images/plt_inference/105.png (deflated 1%)\n",
            "  adding: content/drive/MyDrive/512_Images/plt_inference/106.png (deflated 2%)\n",
            "  adding: content/drive/MyDrive/512_Images/plt_inference/107.png (deflated 2%)\n",
            "  adding: content/drive/MyDrive/512_Images/plt_inference/108.png (deflated 1%)\n",
            "  adding: content/drive/MyDrive/512_Images/plt_inference/109.png (deflated 1%)\n",
            "  adding: content/drive/MyDrive/512_Images/plt_inference/110.png (deflated 1%)\n",
            "  adding: content/drive/MyDrive/512_Images/plt_inference/111.png (deflated 1%)\n",
            "  adding: content/drive/MyDrive/512_Images/plt_inference/112.png (deflated 2%)\n",
            "  adding: content/drive/MyDrive/512_Images/plt_inference/113.png (deflated 2%)\n",
            "  adding: content/drive/MyDrive/512_Images/plt_inference/114.png (deflated 2%)\n",
            "  adding: content/drive/MyDrive/512_Images/plt_inference/115.png (deflated 2%)\n",
            "  adding: content/drive/MyDrive/512_Images/plt_inference/116.png (deflated 2%)\n",
            "  adding: content/drive/MyDrive/512_Images/plt_inference/117.png (deflated 2%)\n",
            "  adding: content/drive/MyDrive/512_Images/plt_inference/118.png (deflated 1%)\n",
            "  adding: content/drive/MyDrive/512_Images/plt_inference/119.png (deflated 1%)\n",
            "  adding: content/drive/MyDrive/512_Images/plt_inference/120.png (deflated 1%)\n",
            "  adding: content/drive/MyDrive/512_Images/plt_inference/121.png (deflated 1%)\n",
            "  adding: content/drive/MyDrive/512_Images/plt_inference/122.png (deflated 1%)\n",
            "  adding: content/drive/MyDrive/512_Images/plt_inference/123.png (deflated 1%)\n",
            "  adding: content/drive/MyDrive/512_Images/plt_inference/124.png (deflated 1%)\n",
            "  adding: content/drive/MyDrive/512_Images/plt_inference/125.png (deflated 1%)\n",
            "  adding: content/drive/MyDrive/512_Images/plt_inference/126.png (deflated 1%)\n",
            "  adding: content/drive/MyDrive/512_Images/plt_inference/127.png (deflated 1%)\n",
            "  adding: content/drive/MyDrive/512_Images/plt_inference/128.png (deflated 1%)\n",
            "  adding: content/drive/MyDrive/512_Images/plt_inference/129.png (deflated 1%)\n",
            "  adding: content/drive/MyDrive/512_Images/plt_inference/130.png (deflated 1%)\n",
            "  adding: content/drive/MyDrive/512_Images/plt_inference/131.png (deflated 1%)\n",
            "  adding: content/drive/MyDrive/512_Images/plt_inference/132.png (deflated 2%)\n"
          ],
          "name": "stdout"
        }
      ]
    },
    {
      "cell_type": "code",
      "metadata": {
        "id": "6Z3lgf1Y1v0d"
      },
      "source": [
        ""
      ],
      "execution_count": null,
      "outputs": []
    }
  ]
}